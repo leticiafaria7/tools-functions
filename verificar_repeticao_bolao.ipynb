{
 "cells": [
  {
   "attachments": {},
   "cell_type": "markdown",
   "metadata": {},
   "source": [
    "# Código para verificar há jogos repetidos dentro do bolão"
   ]
  },
  {
   "attachments": {},
   "cell_type": "markdown",
   "metadata": {},
   "source": [
    "### Importar bibliotecas"
   ]
  },
  {
   "cell_type": "code",
   "execution_count": 1,
   "metadata": {},
   "outputs": [],
   "source": [
    "import pandas as pd\n",
    "import numpy as np\n",
    "import random"
   ]
  },
  {
   "attachments": {},
   "cell_type": "markdown",
   "metadata": {},
   "source": [
    "### Inserir novo jogo"
   ]
  },
  {
   "cell_type": "code",
   "execution_count": 100,
   "metadata": {},
   "outputs": [],
   "source": [
    "apostador = 'ciclano'\n",
    "novo_jogo = [16, 18, 24, 33, 41, 55]"
   ]
  },
  {
   "attachments": {},
   "cell_type": "markdown",
   "metadata": {},
   "source": [
    "### Criar base de dados\n",
    "\n",
    "Base com 50 apostas"
   ]
  },
  {
   "cell_type": "code",
   "execution_count": 2,
   "metadata": {},
   "outputs": [],
   "source": [
    "# lista de seeds\n",
    "\n",
    "random.seed(101)\n",
    "lista_seeds = random.sample(range(1, 1000), 50)\n",
    "lista_seeds = sorted(lista_seeds)\n",
    "# lista_seeds"
   ]
  },
  {
   "cell_type": "code",
   "execution_count": 96,
   "metadata": {},
   "outputs": [],
   "source": [
    "base = []\n",
    "\n",
    "for seed in lista_seeds:\n",
    "    random.seed(seed)\n",
    "    jogo = random.sample(range(1, 61), 6)\n",
    "    jogo = sorted(jogo)\n",
    "    base.append(jogo)"
   ]
  },
  {
   "cell_type": "code",
   "execution_count": 97,
   "metadata": {},
   "outputs": [],
   "source": [
    "lista_nomes = []\n",
    "\n",
    "for i in list(range(1, 52)):\n",
    "    nome = 'fulano' + str(i)\n",
    "    lista_nomes.append(nome)"
   ]
  },
  {
   "cell_type": "code",
   "execution_count": 101,
   "metadata": {},
   "outputs": [],
   "source": [
    "df = pd.DataFrame(base, columns = ['n1', 'n2', 'n3', 'n4', 'n5', 'n6'])\n",
    "df['nome'] = pd.Series(lista_nomes)"
   ]
  },
  {
   "attachments": {},
   "cell_type": "markdown",
   "metadata": {},
   "source": [
    "### Verificar se o novo jogo já foi feito"
   ]
  },
  {
   "cell_type": "code",
   "execution_count": 93,
   "metadata": {},
   "outputs": [],
   "source": [
    "def jogo_repetido():\n",
    "\n",
    "    jogo_new = [apostador] + sorted(novo_jogo)\n",
    "    jogo_new = pd.DataFrame(jogo_new).T\n",
    "\n",
    "    jogo_new.columns = ['nome', 'n1', 'n2', 'n3', 'n4', 'n5', 'n6']\n",
    "\n",
    "    df_ = df.copy()\n",
    "\n",
    "    df_ = pd.concat([df_, jogo_new]).reset_index()\n",
    "\n",
    "    df_['list'] = df_['n1'].astype(str) + \" \" + df_['n2'].astype(str) + \" \" + df_['n3'].astype(str) + \" \" + df_['n4'].astype(str) + \" \" + df_['n5'].astype(str) + \" \" + df_['n6'].astype(str)\n",
    "\n",
    "    df_ = df_.merge(df_['list'].value_counts().reset_index(),\n",
    "                    on = 'list',\n",
    "                    how = 'left')\n",
    "    \n",
    "    if len(df_[df_['count'] > 1]) > 0:\n",
    "        return 'Jogo já foi feito'\n",
    "    \n",
    "    else:\n",
    "        return \"Jogo ainda não foi feito\""
   ]
  },
  {
   "cell_type": "code",
   "execution_count": 102,
   "metadata": {},
   "outputs": [
    {
     "data": {
      "text/plain": [
       "'Jogo ainda não foi feito'"
      ]
     },
     "execution_count": 102,
     "metadata": {},
     "output_type": "execute_result"
    }
   ],
   "source": [
    "jogo_repetido()"
   ]
  },
  {
   "attachments": {},
   "cell_type": "markdown",
   "metadata": {},
   "source": [
    "### Adicionar jogo na base de dados"
   ]
  },
  {
   "cell_type": "code",
   "execution_count": null,
   "metadata": {},
   "outputs": [],
   "source": [
    "jogo_new = [apostador] + sorted(novo_jogo)\n",
    "jogo_new = pd.DataFrame(jogo_new).T\n",
    "\n",
    "jogo_new.columns = ['nome', 'n1', 'n2', 'n3', 'n4', 'n5', 'n6']\n",
    "\n",
    "df_ = df.copy()\n",
    "df_ = pd.concat([df_, jogo_new]).reset_index()\n",
    "\n",
    "df_.to_excel('lista_jogos', index = False)"
   ]
  },
  {
   "attachments": {},
   "cell_type": "markdown",
   "metadata": {},
   "source": [
    "### Quando os jogos são adicionados diretamente na base de dados sem estarem em ordem crescente"
   ]
  },
  {
   "cell_type": "code",
   "execution_count": 31,
   "metadata": {},
   "outputs": [
    {
     "data": {
      "text/html": [
       "<div>\n",
       "<style scoped>\n",
       "    .dataframe tbody tr th:only-of-type {\n",
       "        vertical-align: middle;\n",
       "    }\n",
       "\n",
       "    .dataframe tbody tr th {\n",
       "        vertical-align: top;\n",
       "    }\n",
       "\n",
       "    .dataframe thead th {\n",
       "        text-align: right;\n",
       "    }\n",
       "</style>\n",
       "<table border=\"1\" class=\"dataframe\">\n",
       "  <thead>\n",
       "    <tr style=\"text-align: right;\">\n",
       "      <th></th>\n",
       "      <th>nome</th>\n",
       "      <th>n1</th>\n",
       "      <th>n2</th>\n",
       "      <th>n3</th>\n",
       "      <th>n4</th>\n",
       "      <th>n5</th>\n",
       "      <th>n6</th>\n",
       "      <th>list</th>\n",
       "      <th>count</th>\n",
       "    </tr>\n",
       "  </thead>\n",
       "  <tbody>\n",
       "  </tbody>\n",
       "</table>\n",
       "</div>"
      ],
      "text/plain": [
       "Empty DataFrame\n",
       "Columns: [nome, n1, n2, n3, n4, n5, n6, list, count]\n",
       "Index: []"
      ]
     },
     "execution_count": 31,
     "metadata": {},
     "output_type": "execute_result"
    }
   ],
   "source": [
    "# ----------------------------------------------------------------- #\n",
    "# Criar a base de dados como ela viria\n",
    "# ----------------------------------------------------------------- #\n",
    "\n",
    "# lista de seeds\n",
    "\n",
    "random.seed(101)\n",
    "lista_seeds = random.sample(range(1, 1000), 50)\n",
    "lista_seeds = sorted(lista_seeds)\n",
    "\n",
    "# jogos aleatórios\n",
    "\n",
    "base = []\n",
    "\n",
    "for seed in lista_seeds:\n",
    "    random.seed(seed)\n",
    "    jogo = random.sample(range(1, 61), 6)\n",
    "    base.append(jogo)\n",
    "\n",
    "# nomes aleatórios\n",
    "\n",
    "lista_nomes = []\n",
    "\n",
    "for i in list(range(1, 52)):\n",
    "    nome = 'fulano' + str(i)\n",
    "    lista_nomes.append(nome)\n",
    "\n",
    "# criar a base de dados\n",
    "\n",
    "df = pd.DataFrame(base, columns = ['n1', 'n2', 'n3', 'n4', 'n5', 'n6'])\n",
    "df['nome'] = pd.Series(lista_nomes)\n",
    "\n",
    "# ordenar colunas\n",
    "\n",
    "df = df[['nome', 'n1', 'n2', 'n3', 'n4', 'n5', 'n6']]\n",
    "\n",
    "# ----------------------------------------------------------------- #\n",
    "# Ordenar os números\n",
    "# ----------------------------------------------------------------- #\n",
    "\n",
    "# criar uma coluna com a lista de números\n",
    "\n",
    "df['list'] = list(zip(df['n1'], df['n2'], df['n3'], df['n4'], df['n5'], df['n6']))\n",
    "\n",
    "# ordenar os números\n",
    "\n",
    "df['list'] = df['list'].apply(lambda x: sorted(x))\n",
    "\n",
    "# explodir a lista\n",
    "\n",
    "df = df[['nome', 'list']]\n",
    "df[['n1', 'n2', 'n3', 'n4', 'n5', 'n6']] = pd.DataFrame(df['list'].tolist(), index = df.index)\n",
    "df = df.drop('list', axis = 1)\n",
    "\n",
    "# ----------------------------------------------------------------- #\n",
    "# Ver se tem algum jogo repetido\n",
    "# ----------------------------------------------------------------- #\n",
    "\n",
    "df['list'] = df['n1'].astype(str) + \" \" + df['n2'].astype(str) + \" \" + df['n3'].astype(str) + \" \" + df['n4'].astype(str) + \" \" + df['n5'].astype(str) + \" \" + df['n6'].astype(str)\n",
    "\n",
    "df = df.merge(df['list'].value_counts().reset_index(),\n",
    "              on = 'list',\n",
    "              how = 'left')\n",
    "\n",
    "df = df[df['count']> 1]\n",
    "\n",
    "df"
   ]
  },
  {
   "cell_type": "code",
   "execution_count": null,
   "metadata": {},
   "outputs": [],
   "source": []
  }
 ],
 "metadata": {
  "kernelspec": {
   "display_name": "Python 3",
   "language": "python",
   "name": "python3"
  },
  "language_info": {
   "codemirror_mode": {
    "name": "ipython",
    "version": 3
   },
   "file_extension": ".py",
   "mimetype": "text/x-python",
   "name": "python",
   "nbconvert_exporter": "python",
   "pygments_lexer": "ipython3",
   "version": "3.11.3"
  },
  "orig_nbformat": 4
 },
 "nbformat": 4,
 "nbformat_minor": 2
}
