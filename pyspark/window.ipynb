{
 "cells": [
  {
   "cell_type": "code",
   "execution_count": null,
   "metadata": {},
   "outputs": [],
   "source": [
    "# bibliotecas\n",
    "\n",
    "import pyspark\n",
    "from pyspark.sql.window import Window\n",
    "from pyspark.sql.functions import row_number, col"
   ]
  },
  {
   "cell_type": "code",
   "execution_count": null,
   "metadata": {},
   "outputs": [],
   "source": [
    "# distinct\n",
    "\n",
    "w = Window.partitionBy('id').orderBy('coluna')\n",
    "\n",
    "df.withColumn('row', row_number().over(w)).filter(col('row') == 1).drop('row')"
   ]
  },
  {
   "cell_type": "code",
   "execution_count": null,
   "metadata": {},
   "outputs": [],
   "source": [
    "# criar coluna de soma\n",
    "\n",
    "df.withColumn('total', f.sum('count').over(Window.partitionBy('id')))"
   ]
  }
 ],
 "metadata": {
  "language_info": {
   "name": "python"
  },
  "orig_nbformat": 4
 },
 "nbformat": 4,
 "nbformat_minor": 2
}
