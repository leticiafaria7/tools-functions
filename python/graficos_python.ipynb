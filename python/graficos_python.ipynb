{
 "cells": [
  {
   "cell_type": "markdown",
   "metadata": {},
   "source": [
    "## Imports"
   ]
  },
  {
   "cell_type": "code",
   "execution_count": 1,
   "metadata": {},
   "outputs": [],
   "source": [
    "import pandas as pd\n",
    "import plotly.graph_objects as go"
   ]
  },
  {
   "cell_type": "markdown",
   "metadata": {},
   "source": [
    "## Função para formatar valores no gráfico (K, M)"
   ]
  },
  {
   "cell_type": "code",
   "execution_count": null,
   "metadata": {},
   "outputs": [],
   "source": [
    "def formata_valores(number):\n",
    "    \"\"\"\n",
    "    Formata valores. K-mil, M-milhoes, B-bilhoes.\n",
    "    Fonte: https://gist.github.com/Abdelkrim/02e604fc38e7f35969e5552f13e4af0a\n",
    "    \"\"\"\n",
    "    for unit in ['','K','M']:\n",
    "        if abs(number) < 1000.0:\n",
    "            return f\"{number:6.0f}{unit}\".strip()\n",
    "        number /= 1000.0\n",
    "    return f\"{number:6.1f}B\".strip().replace('.0', '')"
   ]
  },
  {
   "attachments": {},
   "cell_type": "markdown",
   "metadata": {},
   "source": [
    "# Ridgeline plot"
   ]
  },
  {
   "cell_type": "code",
   "execution_count": null,
   "metadata": {},
   "outputs": [],
   "source": [
    "for idx, produto in enumerate(df['nome_unificado_produto'].unique()):\n",
    "\n",
    "    def filtro_segmento(df_, base):\n",
    "        df = df_[df_['nome_unificado_produto'] == produto][['segmento_item', 'vlr_item']].assign(base = base)\n",
    "        return df\n",
    "    \n",
    "    tmp_seg = pd.concat([filtro_segmento(alta_top_20_rio_unidade, 'rio_unidade'),\n",
    "                         filtro_segmento(alta_top_20_sp_unidade, 'sp_unidade'),\n",
    "                         filtro_segmento(alta_top_20_rio_movel, 'rio_movel'),\n",
    "                         filtro_segmento(alta_top_20_sp_movel, 'sp_movel')])\n",
    "\n",
    "    fig = go.Figure()\n",
    "\n",
    "    cores = {'rio_unidade':'#1696d2',\n",
    "             'sp_unidade':'#ec008b',\n",
    "             'rio_movel':'#fdbf11',\n",
    "             'sp_movel':'#5c5859'}\n",
    "\n",
    "    for idx, base in enumerate(tmp_seg['base'].unique()):\n",
    "        tmp_base = tmp_seg[tmp_seg.base == base].copy()\n",
    "        tmp_base['cor'] = tmp_base['base'].map(cores)\n",
    "        tmp_base = tmp_base.reset_index()\n",
    "\n",
    "        _ = fig.add_trace(\n",
    "                go.Violin(\n",
    "                    x = tmp_base['vlr_item'],\n",
    "                    name = tmp_base.base.iloc[0],\n",
    "                    marker_color = tmp_base['cor'][0]\n",
    "                ),\n",
    "            )\n",
    "\n",
    "    _ = fig.update_traces(orientation = 'h', \n",
    "                          side = 'positive',\n",
    "                          width = 4,\n",
    "                          points = False)\n",
    "\n",
    "    _ = fig.update_layout(height = max((idx+1) * 80, 300), \n",
    "                          title = f\"Distribuição dos preços por recorte do segmento [{tmp_base['segmento_item'][0]}] {produto}\", \n",
    "                          title_x = 0.5,\n",
    "                          xaxis_showgrid = False, \n",
    "                          xaxis_zeroline = False)\n",
    "    \n",
    "    fig.show()"
   ]
  },
  {
   "attachments": {},
   "cell_type": "markdown",
   "metadata": {},
   "source": [
    "# Distribuição - absoluto em barras e percentual em linhas"
   ]
  },
  {
   "cell_type": "code",
   "execution_count": null,
   "metadata": {},
   "outputs": [],
   "source": [
    "# distribuição da hora de atendimento\n",
    "\n",
    "padding = 1\n",
    "\n",
    "# base de dados ------------------------------------------------------------------------------------\n",
    "\n",
    "tmp = df[['horario_atendimento', 'hash_atendimento']].copy()\n",
    "tmp['horario_atendimento'] = df['horario_atendimento'].apply(lambda x: x[:2])\n",
    "tmp['horario_atendimento'] = tmp['horario_atendimento'].str.replace(':', \"\").astype(int)\n",
    "tmp = tmp.groupby(by='horario_atendimento').agg({'hash_atendimento': 'nunique'}).sort_values(by='horario_atendimento')\n",
    "tmp['pct'] = (tmp['hash_atendimento']/tmp['hash_atendimento'].sum()) * 100\n",
    "\n",
    "fig, ax = plt.subplots(2,\n",
    "                       figsize=(20, 6), \n",
    "                       height_ratios=[1, 2], \n",
    "                       sharex=True)\n",
    "\n",
    "# percentual ---------------------------------------------------------------------------------------\n",
    "\n",
    "sns.lineplot(x=tmp.index.astype(str), y=(tmp['pct']), marker='o', ax=ax[0], markersize=5,\n",
    "            color = 'steelblue')\n",
    "for idx, pct in (tmp['pct']).items():\n",
    "    ax[0].text(str(idx), pct+padding, f'{pct:.1f}%', ha='center', size = 8)\n",
    "ax[0].set_ylabel(f\"pct_{'atendimentos'}\")\n",
    "\n",
    "# número absoluto ----------------------------------------------------------------------------------\n",
    "\n",
    "sns.barplot(x=tmp.index.astype(str), \n",
    "            y=tmp['hash_atendimento'], \n",
    "            ax=ax[1],\n",
    "            color = 'steelblue')\n",
    "ax[1].bar_label(ax[1].containers[0], fmt = formata_valores, size = 8)\n",
    "ax[1].set_ylabel(f\"num_{'atendimentos'}\")\n",
    "\n",
    "plt.xlabel('Horário de atendimento')\n",
    "plt.xticks(fontsize = 7)\n",
    "plt.yticks(fontsize = 7)\n",
    "sns.despine(bottom=True)\n",
    "plt.show()"
   ]
  },
  {
   "attachments": {},
   "cell_type": "markdown",
   "metadata": {},
   "source": [
    "# Gráfico de pareto"
   ]
  },
  {
   "cell_type": "code",
   "execution_count": null,
   "metadata": {},
   "outputs": [],
   "source": [
    "def pareto(column, agg_col='hash_atendimento', agg_op='nunique', ylabel='atendimentos', n=10, padding=3, size=(20,6)):\n",
    "    tmp = df.groupby(by=column).agg({agg_col: agg_op}).sort_values(by=agg_col,ascending=False)\n",
    "    tmp['pct'] = (tmp[agg_col]/tmp[agg_col].sum()).cumsum() * 100\n",
    "\n",
    "    fig, ax = plt.subplots(2, figsize=size, height_ratios=[1, 2], sharex=True)\n",
    "\n",
    "    sns.lineplot(x=tmp.head(n).index.astype(str), y=(tmp['pct']).head(n), marker='o', ax=ax[0], markersize=8, color = 'steelblue')\n",
    "    for idx, pct in (tmp['pct'].head(n)).items():\n",
    "        ax[0].text(str(idx), pct+padding, f'{pct:.2f}%', ha='center', size = 8)\n",
    "    ax[0].set_ylabel(f'pct_{ylabel}')\n",
    "\n",
    "    sns.barplot(x=tmp.head(n).index.astype(str), y=tmp[agg_col].head(n), ax=ax[1],\n",
    "            color = 'steelblue')\n",
    "    ax[1].bar_label(ax[1].containers[0], fmt=formata_valores, size = 8)\n",
    "    ax[1].set_ylabel(f'num_{ylabel}')\n",
    "\n",
    "    plt.xlabel(column)\n",
    "    plt.xticks(rotation = 90, fontsize = 9)\n",
    "    plt.yticks(fontsize = 7)\n",
    "    sns.despine(bottom=True)\n",
    "    plt.show()"
   ]
  },
  {
   "attachments": {},
   "cell_type": "markdown",
   "metadata": {},
   "source": [
    "# Função para encontrar pares de palavras similares (jaro-winkler)"
   ]
  },
  {
   "cell_type": "code",
   "execution_count": null,
   "metadata": {},
   "outputs": [],
   "source": [
    "def find_similar_pairs(texts: pd.Series, threshold=0.75):\n",
    "    texts = texts.astype(str)\n",
    "    count_texts = texts.value_counts(dropna=False).to_dict()\n",
    "    unique_texts = texts.unique()\n",
    "    similar_pairs = []\n",
    "\n",
    "    for i in range(len(unique_texts)):\n",
    "        for j in range(i+1, len(unique_texts)):\n",
    "            text_1 = unique_texts[i]\n",
    "            text_2 = unique_texts[j]\n",
    "            similarity = td.jaro(text_1, text_2)\n",
    "\n",
    "            if similarity > threshold:\n",
    "                similar_pairs.append((text_1, text_2, similarity))\n",
    "            \n",
    "    df_similar_pairs = pd.DataFrame(similar_pairs, columns=['text', 'similar_text', 'similarity'])\n",
    "    if df_similar_pairs.empty:\n",
    "        return df_similar_pairs\n",
    "    \n",
    "    df_similar_pairs[['text', 'similar_text']] = df_similar_pairs\\\n",
    "        .apply(lambda row: tuple(sorted([row['text'], row['similar_text']], key=lambda x: count_texts[x], reverse=True)), axis=1).apply(pd.Series)\n",
    "    return df_similar_pairs.sort_values(['similarity'], ascending=False).reset_index(drop=True)"
   ]
  },
  {
   "cell_type": "code",
   "execution_count": null,
   "metadata": {},
   "outputs": [],
   "source": [
    "# uso\n",
    "\n",
    "tmp = df[['nome_unidade']].drop_duplicates()\n",
    "\n",
    "tmp = find_similar_pairs(df['nome_unidade'], 0.95)\n",
    "with pd.option_context('display.max_rows', None):\n",
    "    display(tmp)"
   ]
  },
  {
   "attachments": {},
   "cell_type": "markdown",
   "metadata": {},
   "source": [
    "# Função com número e percentual de categorias"
   ]
  },
  {
   "cell_type": "code",
   "execution_count": null,
   "metadata": {},
   "outputs": [],
   "source": [
    "def cont_perc_categorias(df_, coluna = 'atend_b2b2c'):\n",
    "    df_temp = df_.copy()\n",
    "    df_temp = df_temp[coluna].value_counts(dropna = False).reset_index()\n",
    "    df_temp['perc'] = round(df_temp['count'] * 100 / df_temp['count'].sum(), 3)\n",
    "\n",
    "    return df_temp"
   ]
  },
  {
   "attachments": {},
   "cell_type": "markdown",
   "metadata": {},
   "source": [
    "# Crosstab"
   ]
  },
  {
   "cell_type": "code",
   "execution_count": null,
   "metadata": {},
   "outputs": [],
   "source": [
    "# marca\n",
    "\n",
    "marca_faixa_renda = df.copy().sort_values('faixa_renda')[['marca', 'chave_pac', 'faixa_renda']].drop_duplicates()\n",
    "marca_faixa_renda = pd.crosstab(marca_faixa_renda['marca'], marca_faixa_renda['faixa_renda'], margins = False, normalize = 'index')\n",
    "\n",
    "plt.figure(figsize = (9, 16))\n",
    "ax = sns.heatmap(marca_faixa_renda, cmap = 'Greens', annot = True, annot_kws={'size': 8}, fmt=\".1%\")\n",
    "\n",
    "plt.xticks(fontsize = 8)\n",
    "plt.yticks(fontsize = 8)\n",
    "\n",
    "ax = ax"
   ]
  }
 ],
 "metadata": {
  "kernelspec": {
   "display_name": "Python 3",
   "language": "python",
   "name": "python3"
  },
  "language_info": {
   "codemirror_mode": {
    "name": "ipython",
    "version": 3
   },
   "file_extension": ".py",
   "mimetype": "text/x-python",
   "name": "python",
   "nbconvert_exporter": "python",
   "pygments_lexer": "ipython3",
   "version": "3.11.3"
  },
  "orig_nbformat": 4,
  "vscode": {
   "interpreter": {
    "hash": "552931f6b28b7e3aaa3584496cc9db97b99db27e0a5b632f4cbab4873f1ac405"
   }
  }
 },
 "nbformat": 4,
 "nbformat_minor": 2
}
