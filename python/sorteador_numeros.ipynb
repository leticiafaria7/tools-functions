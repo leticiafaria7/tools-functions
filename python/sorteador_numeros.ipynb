{
 "cells": [
  {
   "cell_type": "code",
   "execution_count": 1,
   "metadata": {},
   "outputs": [],
   "source": [
    "from modulos.sortear_amostra_aleatoria import *"
   ]
  },
  {
   "cell_type": "code",
   "execution_count": 5,
   "metadata": {},
   "outputs": [
    {
     "data": {
      "text/plain": [
       "[25, 46, 70, 75]"
      ]
     },
     "execution_count": 5,
     "metadata": {},
     "output_type": "execute_result"
    }
   ],
   "source": [
    "seeds = sortear_amostra_aleatoria(min = 1, max = 100, n = 4, seed = 101, repetir = False)\n",
    "seeds"
   ]
  },
  {
   "cell_type": "code",
   "execution_count": 6,
   "metadata": {},
   "outputs": [
    {
     "name": "stdout",
     "output_type": "stream",
     "text": [
      "[1, 2, 7, 9, 10, 13, 15, 16, 17, 19, 20, 21, 22, 23, 25]\n",
      "[1, 2, 3, 5, 6, 8, 11, 13, 16, 17, 19, 21, 22, 23, 24]\n",
      "[4, 5, 7, 10, 11, 12, 13, 15, 16, 18, 19, 20, 22, 23, 25]\n",
      "[2, 4, 5, 11, 12, 13, 14, 15, 16, 17, 18, 19, 21, 22, 25]\n"
     ]
    }
   ],
   "source": [
    "for seed in seeds:\n",
    "    print(sortear_amostra_aleatoria(min = 1, max = 25, n = 15, seed = seed, repetir = False))"
   ]
  }
 ],
 "metadata": {
  "kernelspec": {
   "display_name": "Python 3",
   "language": "python",
   "name": "python3"
  },
  "language_info": {
   "codemirror_mode": {
    "name": "ipython",
    "version": 3
   },
   "file_extension": ".py",
   "mimetype": "text/x-python",
   "name": "python",
   "nbconvert_exporter": "python",
   "pygments_lexer": "ipython3",
   "version": "3.11.3"
  }
 },
 "nbformat": 4,
 "nbformat_minor": 2
}
