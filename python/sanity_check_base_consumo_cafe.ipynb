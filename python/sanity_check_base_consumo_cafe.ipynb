{
 "cells": [
  {
   "cell_type": "markdown",
   "metadata": {},
   "source": [
    "## Imports"
   ]
  },
  {
   "cell_type": "code",
   "execution_count": 71,
   "metadata": {},
   "outputs": [],
   "source": [
    "import pandas as pd\n",
    "import numpy as np\n",
    "import plotly\n",
    "import plotly.graph_objects as go\n",
    "from plotly.subplots import make_subplots\n",
    "import plotly.express as px\n",
    "\n",
    "from modulos.funcoes_sanity_check import categorias_colunas\n",
    "\n",
    "pd.set_option('display.max_columns', None)"
   ]
  },
  {
   "cell_type": "markdown",
   "metadata": {},
   "source": [
    "## Base de dados"
   ]
  },
  {
   "cell_type": "markdown",
   "metadata": {},
   "source": [
    "### 1. Consumo de café"
   ]
  },
  {
   "cell_type": "code",
   "execution_count": 34,
   "metadata": {},
   "outputs": [],
   "source": [
    "paises_continentes = {\n",
    "    'Angola': 'África',\n",
    "    'Bolivia (Plurinational State of)': 'América do Sul',\n",
    "    'Brazil': 'América do Sul',\n",
    "    'Burundi': 'África',\n",
    "    'Ecuador': 'América do Sul',\n",
    "    'Indonesia': 'Ásia',\n",
    "    'Madagascar': 'África',\n",
    "    'Malawi': 'África',\n",
    "    'Papua New Guinea': 'Oceania',\n",
    "    'Paraguay': 'América do Sul',\n",
    "    'Peru': 'América do Sul',\n",
    "    'Rwanda': 'África',\n",
    "    'Timor-Leste': 'Ásia',\n",
    "    'Zimbabwe': 'África',\n",
    "    'Congo': 'África',\n",
    "    'Cuba': 'América Central',\n",
    "    'Dominican Republic': 'América Central',\n",
    "    'Haiti': 'América Central',\n",
    "    'Philippines': 'Ásia',\n",
    "    'Tanzania': 'África',\n",
    "    'Zambia': 'África',\n",
    "    'Cameroon': 'África',\n",
    "    'Central African Republic': 'África',\n",
    "    'Colombia': 'América do Sul',\n",
    "    'Costa Rica': 'América Central',\n",
    "    \"Côte d'Ivoire\": 'África',\n",
    "    'Democratic Republic of Congo': 'África',\n",
    "    'El Salvador': 'América Central',\n",
    "    'Equatorial Guinea': 'África',\n",
    "    'Ethiopia': 'África',\n",
    "    'Gabon': 'África',\n",
    "    'Ghana': 'África',\n",
    "    'Guatemala': 'América Central',\n",
    "    'Guinea': 'África',\n",
    "    'Guyana': 'América do Sul',\n",
    "    'Honduras': 'América Central',\n",
    "    'India': 'Ásia',\n",
    "    'Jamaica': 'América Central',\n",
    "    'Kenya': 'África',\n",
    "    \"Lao People's Democratic Republic\": 'Ásia',\n",
    "    'Liberia': 'África',\n",
    "    'Mexico': 'América do Norte',\n",
    "    'Nepal': 'Ásia',\n",
    "    'Nicaragua': 'América Central',\n",
    "    'Nigeria': 'África',\n",
    "    'Panama': 'América Central',\n",
    "    'Sierra Leone': 'África',\n",
    "    'Sri Lanka': 'Ásia',\n",
    "    'Thailand': 'Ásia',\n",
    "    'Togo': 'África',\n",
    "    'Trinidad & Tobago': 'América Central',\n",
    "    'Uganda': 'África',\n",
    "    'Venezuela': 'América do Sul',\n",
    "    'Viet Nam': 'Ásia',\n",
    "    'Yemen': 'Ásia'\n",
    "}\n"
   ]
  },
  {
   "cell_type": "code",
   "execution_count": 47,
   "metadata": {},
   "outputs": [
    {
     "data": {
      "text/plain": [
       "(1650, 5)"
      ]
     },
     "execution_count": 47,
     "metadata": {},
     "output_type": "execute_result"
    }
   ],
   "source": [
    "data = pd.read_csv('dados/Coffee_domestic_consumption.csv').drop('Total_domestic_consumption', axis = 1)\n",
    "id_vars = ['Country', 'Coffee type']\n",
    "data = pd.melt(data, \n",
    "               id_vars=id_vars,\n",
    "               value_vars=[coluna for coluna in data.columns if coluna not in id_vars],\n",
    "               var_name='Year',\n",
    "               value_name='Consumption_kg')\n",
    "data = data.rename(columns = {'Coffee type':'Coffee_type'})\n",
    "data['Continente'] = data['Country'].map(paises_continentes)\n",
    "data.shape"
   ]
  },
  {
   "cell_type": "code",
   "execution_count": 36,
   "metadata": {},
   "outputs": [
    {
     "data": {
      "text/html": [
       "<div>\n",
       "<style scoped>\n",
       "    .dataframe tbody tr th:only-of-type {\n",
       "        vertical-align: middle;\n",
       "    }\n",
       "\n",
       "    .dataframe tbody tr th {\n",
       "        vertical-align: top;\n",
       "    }\n",
       "\n",
       "    .dataframe thead th {\n",
       "        text-align: right;\n",
       "    }\n",
       "</style>\n",
       "<table border=\"1\" class=\"dataframe\">\n",
       "  <thead>\n",
       "    <tr style=\"text-align: right;\">\n",
       "      <th></th>\n",
       "      <th>Country</th>\n",
       "      <th>Coffee_type</th>\n",
       "      <th>Year</th>\n",
       "      <th>Consumption_kg</th>\n",
       "      <th>Continente</th>\n",
       "    </tr>\n",
       "  </thead>\n",
       "  <tbody>\n",
       "    <tr>\n",
       "      <th>0</th>\n",
       "      <td>Angola</td>\n",
       "      <td>Robusta/Arabica</td>\n",
       "      <td>1990/91</td>\n",
       "      <td>1200000</td>\n",
       "      <td>África</td>\n",
       "    </tr>\n",
       "    <tr>\n",
       "      <th>1</th>\n",
       "      <td>Bolivia (Plurinational State of)</td>\n",
       "      <td>Arabica</td>\n",
       "      <td>1990/91</td>\n",
       "      <td>1500000</td>\n",
       "      <td>América do Sul</td>\n",
       "    </tr>\n",
       "    <tr>\n",
       "      <th>2</th>\n",
       "      <td>Brazil</td>\n",
       "      <td>Arabica/Robusta</td>\n",
       "      <td>1990/91</td>\n",
       "      <td>492000000</td>\n",
       "      <td>América do Sul</td>\n",
       "    </tr>\n",
       "  </tbody>\n",
       "</table>\n",
       "</div>"
      ],
      "text/plain": [
       "                            Country      Coffee_type     Year  Consumption_kg  \\\n",
       "0                            Angola  Robusta/Arabica  1990/91         1200000   \n",
       "1  Bolivia (Plurinational State of)          Arabica  1990/91         1500000   \n",
       "2                            Brazil  Arabica/Robusta  1990/91       492000000   \n",
       "\n",
       "       Continente  \n",
       "0          África  \n",
       "1  América do Sul  \n",
       "2  América do Sul  "
      ]
     },
     "execution_count": 36,
     "metadata": {},
     "output_type": "execute_result"
    }
   ],
   "source": [
    "data.head(3)"
   ]
  },
  {
   "cell_type": "code",
   "execution_count": 31,
   "metadata": {},
   "outputs": [
    {
     "data": {
      "text/plain": [
       "array(['Robusta/Arabica', 'Arabica', 'Arabica/Robusta', 'Robusta'],\n",
       "      dtype=object)"
      ]
     },
     "execution_count": 31,
     "metadata": {},
     "output_type": "execute_result"
    }
   ],
   "source": [
    "data['Coffee_type'].unique()"
   ]
  },
  {
   "cell_type": "code",
   "execution_count": 32,
   "metadata": {},
   "outputs": [
    {
     "data": {
      "text/plain": [
       "array(['Angola', 'Bolivia (Plurinational State of)', 'Brazil', 'Burundi',\n",
       "       'Ecuador', 'Indonesia', 'Madagascar', 'Malawi', 'Papua New Guinea',\n",
       "       'Paraguay', 'Peru', 'Rwanda', 'Timor-Leste', 'Zimbabwe', 'Congo',\n",
       "       'Cuba', 'Dominican Republic', 'Haiti', 'Philippines', 'Tanzania',\n",
       "       'Zambia', 'Cameroon', 'Central African Republic', 'Colombia',\n",
       "       'Costa Rica', \"Côte d'Ivoire\", 'Democratic Republic of Congo',\n",
       "       'El Salvador', 'Equatorial Guinea', 'Ethiopia', 'Gabon', 'Ghana',\n",
       "       'Guatemala', 'Guinea', 'Guyana', 'Honduras', 'India', 'Jamaica',\n",
       "       'Kenya', \"Lao People's Democratic Republic\", 'Liberia', 'Mexico',\n",
       "       'Nepal', 'Nicaragua', 'Nigeria', 'Panama', 'Sierra Leone',\n",
       "       'Sri Lanka', 'Thailand', 'Togo', 'Trinidad & Tobago', 'Uganda',\n",
       "       'Venezuela', 'Viet Nam', 'Yemen'], dtype=object)"
      ]
     },
     "execution_count": 32,
     "metadata": {},
     "output_type": "execute_result"
    }
   ],
   "source": [
    "data['Country'].unique()"
   ]
  },
  {
   "cell_type": "code",
   "execution_count": 38,
   "metadata": {},
   "outputs": [
    {
     "data": {
      "text/plain": [
       "Continente\n",
       "África              744\n",
       "América Central     341\n",
       "Ásia                310\n",
       "América do Sul      248\n",
       "Oceania              31\n",
       "América do Norte     31\n",
       "Name: count, dtype: int64"
      ]
     },
     "execution_count": 38,
     "metadata": {},
     "output_type": "execute_result"
    }
   ],
   "source": [
    "data['Continente'].value_counts(dropna=False)"
   ]
  },
  {
   "cell_type": "code",
   "execution_count": 48,
   "metadata": {},
   "outputs": [
    {
     "data": {
      "text/html": [
       "<div>\n",
       "<style scoped>\n",
       "    .dataframe tbody tr th:only-of-type {\n",
       "        vertical-align: middle;\n",
       "    }\n",
       "\n",
       "    .dataframe tbody tr th {\n",
       "        vertical-align: top;\n",
       "    }\n",
       "\n",
       "    .dataframe thead th {\n",
       "        text-align: right;\n",
       "    }\n",
       "</style>\n",
       "<table border=\"1\" class=\"dataframe\">\n",
       "  <thead>\n",
       "    <tr style=\"text-align: right;\">\n",
       "      <th></th>\n",
       "      <th>Continente</th>\n",
       "      <th>Coffee_type</th>\n",
       "      <th>Year</th>\n",
       "      <th>Consumption_kg</th>\n",
       "    </tr>\n",
       "  </thead>\n",
       "  <tbody>\n",
       "    <tr>\n",
       "      <th>0</th>\n",
       "      <td>América Central</td>\n",
       "      <td>Arabica</td>\n",
       "      <td>1990/91</td>\n",
       "      <td>76809240</td>\n",
       "    </tr>\n",
       "    <tr>\n",
       "      <th>1</th>\n",
       "      <td>América Central</td>\n",
       "      <td>Arabica</td>\n",
       "      <td>1991/92</td>\n",
       "      <td>94266000</td>\n",
       "    </tr>\n",
       "    <tr>\n",
       "      <th>2</th>\n",
       "      <td>América Central</td>\n",
       "      <td>Arabica</td>\n",
       "      <td>1992/93</td>\n",
       "      <td>90516000</td>\n",
       "    </tr>\n",
       "    <tr>\n",
       "      <th>3</th>\n",
       "      <td>América Central</td>\n",
       "      <td>Arabica</td>\n",
       "      <td>1993/94</td>\n",
       "      <td>92676000</td>\n",
       "    </tr>\n",
       "    <tr>\n",
       "      <th>4</th>\n",
       "      <td>América Central</td>\n",
       "      <td>Arabica</td>\n",
       "      <td>1994/95</td>\n",
       "      <td>93796020</td>\n",
       "    </tr>\n",
       "  </tbody>\n",
       "</table>\n",
       "</div>"
      ],
      "text/plain": [
       "        Continente Coffee_type     Year  Consumption_kg\n",
       "0  América Central     Arabica  1990/91        76809240\n",
       "1  América Central     Arabica  1991/92        94266000\n",
       "2  América Central     Arabica  1992/93        90516000\n",
       "3  América Central     Arabica  1993/94        92676000\n",
       "4  América Central     Arabica  1994/95        93796020"
      ]
     },
     "execution_count": 48,
     "metadata": {},
     "output_type": "execute_result"
    }
   ],
   "source": [
    "data_continent = data.groupby(['Continente', 'Coffee_type', 'Year'])['Consumption_kg'].sum().reset_index()\n",
    "data_continent.head()"
   ]
  },
  {
   "cell_type": "code",
   "execution_count": 49,
   "metadata": {},
   "outputs": [
    {
     "data": {
      "text/plain": [
       "array(['1990/91', '1991/92', '1992/93', '1993/94', '1994/95', '1995/96',\n",
       "       '1996/97', '1997/98', '1998/99', '1999/00', '2000/01', '2001/02',\n",
       "       '2002/03', '2003/04', '2004/05', '2005/06', '2006/07', '2007/08',\n",
       "       '2008/09', '2009/10', '2010/11', '2011/12', '2012/13', '2013/14',\n",
       "       '2014/15', '2015/16', '2016/17', '2017/18', '2018/19', '2019/20'],\n",
       "      dtype=object)"
      ]
     },
     "execution_count": 49,
     "metadata": {},
     "output_type": "execute_result"
    }
   ],
   "source": [
    "data_continent['Year'].unique()"
   ]
  },
  {
   "cell_type": "code",
   "execution_count": 43,
   "metadata": {},
   "outputs": [
    {
     "data": {
      "text/plain": [
       "Index(['Continente', 'Coffee_type', 'Year', 'Consumption_kg'], dtype='object')"
      ]
     },
     "execution_count": 43,
     "metadata": {},
     "output_type": "execute_result"
    }
   ],
   "source": [
    "data_continent.columns"
   ]
  },
  {
   "cell_type": "code",
   "execution_count": 54,
   "metadata": {},
   "outputs": [
    {
     "data": {
      "application/vnd.plotly.v1+json": {
       "config": {
        "plotlyServerURL": "https://plot.ly"
       },
       "data": [
        {
         "hovertemplate": "Continente=América Central<br>Coffee_type=Arabica<br>Year=%{x}<br>Consumption_kg=%{y}<extra></extra>",
         "legendgroup": "América Central",
         "line": {
          "color": "#636efa",
          "dash": "solid"
         },
         "marker": {
          "symbol": "circle"
         },
         "mode": "lines",
         "name": "América Central",
         "orientation": "v",
         "showlegend": true,
         "type": "scatter",
         "x": [
          "1990/91",
          "1991/92",
          "1992/93",
          "1993/94",
          "1994/95",
          "1995/96",
          "1996/97",
          "1997/98",
          "1998/99",
          "1999/00",
          "2000/01",
          "2001/02",
          "2002/03",
          "2003/04",
          "2004/05",
          "2005/06",
          "2006/07",
          "2007/08",
          "2008/09",
          "2009/10",
          "2010/11",
          "2011/12",
          "2012/13",
          "2013/14",
          "2014/15",
          "2015/16",
          "2016/17",
          "2017/18",
          "2018/19",
          "2019/20"
         ],
         "xaxis": "x",
         "y": [
          76809240,
          94266000,
          90516000,
          92676000,
          93796020,
          91990020,
          88917660,
          88576920,
          86578020,
          86676000,
          93359820,
          92557380,
          92875440,
          93012900,
          96106680,
          99349140,
          101279100,
          102128700,
          96638340,
          102181800,
          111417960,
          110132940,
          113313660,
          108337260,
          111809040,
          116926020,
          110651100,
          112940040,
          114060000,
          110460000
         ],
         "yaxis": "y"
        },
        {
         "hovertemplate": "Continente=América Central<br>Coffee_type=Arabica/Robusta<br>Year=%{x}<br>Consumption_kg=%{y}<extra></extra>",
         "legendgroup": "América Central",
         "line": {
          "color": "#636efa",
          "dash": "solid"
         },
         "marker": {
          "symbol": "circle"
         },
         "mode": "lines",
         "name": "América Central",
         "orientation": "v",
         "showlegend": false,
         "type": "scatter",
         "x": [
          "1990/91",
          "1991/92",
          "1992/93",
          "1993/94",
          "1994/95",
          "1995/96",
          "1996/97",
          "1997/98",
          "1998/99",
          "1999/00",
          "2000/01",
          "2001/02",
          "2002/03",
          "2003/04",
          "2004/05",
          "2005/06",
          "2006/07",
          "2007/08",
          "2008/09",
          "2009/10",
          "2010/11",
          "2011/12",
          "2012/13",
          "2013/14",
          "2014/15",
          "2015/16",
          "2016/17",
          "2017/18",
          "2018/19",
          "2019/20"
         ],
         "xaxis": "x2",
         "y": [
          37200000,
          37200000,
          37200000,
          37800000,
          38400000,
          39600000,
          37500000,
          37500000,
          37500000,
          37500000,
          37500000,
          38411880,
          38411880,
          38400000,
          40679880,
          40679880,
          40679880,
          40680000,
          42780000,
          41880000,
          43080000,
          43680000,
          44280000,
          45199980,
          46080000,
          46680000,
          46800000,
          47100000,
          47100000,
          46200000
         ],
         "yaxis": "y2"
        },
        {
         "hovertemplate": "Continente=América Central<br>Coffee_type=Robusta<br>Year=%{x}<br>Consumption_kg=%{y}<extra></extra>",
         "legendgroup": "América Central",
         "line": {
          "color": "#636efa",
          "dash": "solid"
         },
         "marker": {
          "symbol": "circle"
         },
         "mode": "lines",
         "name": "América Central",
         "orientation": "v",
         "showlegend": false,
         "type": "scatter",
         "x": [
          "1990/91",
          "1991/92",
          "1992/93",
          "1993/94",
          "1994/95",
          "1995/96",
          "1996/97",
          "1997/98",
          "1998/99",
          "1999/00",
          "2000/01",
          "2001/02",
          "2002/03",
          "2003/04",
          "2004/05",
          "2005/06",
          "2006/07",
          "2007/08",
          "2008/09",
          "2009/10",
          "2010/11",
          "2011/12",
          "2012/13",
          "2013/14",
          "2014/15",
          "2015/16",
          "2016/17",
          "2017/18",
          "2018/19",
          "2019/20"
         ],
         "xaxis": "x3",
         "y": [
          480000,
          690000,
          600000,
          600000,
          840000,
          840000,
          840000,
          840000,
          840000,
          840000,
          840000,
          840000,
          840000,
          840000,
          840000,
          840000,
          660000,
          660000,
          660000,
          660000,
          600000,
          600000,
          600000,
          600000,
          600000,
          600000,
          600000,
          600000,
          600000,
          600000
         ],
         "yaxis": "y3"
        },
        {
         "hovertemplate": "Continente=América do Norte<br>Coffee_type=Arabica/Robusta<br>Year=%{x}<br>Consumption_kg=%{y}<extra></extra>",
         "legendgroup": "América do Norte",
         "line": {
          "color": "#EF553B",
          "dash": "solid"
         },
         "marker": {
          "symbol": "circle"
         },
         "mode": "lines",
         "name": "América do Norte",
         "orientation": "v",
         "showlegend": true,
         "type": "scatter",
         "x": [
          "1990/91",
          "1991/92",
          "1992/93",
          "1993/94",
          "1994/95",
          "1995/96",
          "1996/97",
          "1997/98",
          "1998/99",
          "1999/00",
          "2000/01",
          "2001/02",
          "2002/03",
          "2003/04",
          "2004/05",
          "2005/06",
          "2006/07",
          "2007/08",
          "2008/09",
          "2009/10",
          "2010/11",
          "2011/12",
          "2012/13",
          "2013/14",
          "2014/15",
          "2015/16",
          "2016/17",
          "2017/18",
          "2018/19",
          "2019/20"
         ],
         "xaxis": "x2",
         "y": [
          82440000,
          72000000,
          78000000,
          64200000,
          61200000,
          70740000,
          74100000,
          72060000,
          66480000,
          69000000,
          78300000,
          90000000,
          90000000,
          90000000,
          90000000,
          103500000,
          120000000,
          132000000,
          132000000,
          132000000,
          141240000,
          141240000,
          141240000,
          139260000,
          140820000,
          139740000,
          141600000,
          144000000,
          147000000,
          145500000
         ],
         "yaxis": "y2"
        },
        {
         "hovertemplate": "Continente=América do Sul<br>Coffee_type=Arabica<br>Year=%{x}<br>Consumption_kg=%{y}<extra></extra>",
         "legendgroup": "América do Sul",
         "line": {
          "color": "#00cc96",
          "dash": "solid"
         },
         "marker": {
          "symbol": "circle"
         },
         "mode": "lines",
         "name": "América do Sul",
         "orientation": "v",
         "showlegend": true,
         "type": "scatter",
         "x": [
          "1990/91",
          "1991/92",
          "1992/93",
          "1993/94",
          "1994/95",
          "1995/96",
          "1996/97",
          "1997/98",
          "1998/99",
          "1999/00",
          "2000/01",
          "2001/02",
          "2002/03",
          "2003/04",
          "2004/05",
          "2005/06",
          "2006/07",
          "2007/08",
          "2008/09",
          "2009/10",
          "2010/11",
          "2011/12",
          "2012/13",
          "2013/14",
          "2014/15",
          "2015/16",
          "2016/17",
          "2017/18",
          "2018/19",
          "2019/20"
         ],
         "xaxis": "x",
         "y": [
          134843400,
          138988800,
          143728200,
          148405800,
          152874000,
          154317600,
          155860800,
          157566599,
          159290400,
          161216400,
          163259400,
          165454200,
          168946200,
          171370800,
          174323400,
          176790000,
          179684580,
          188805180,
          195285600,
          194428740,
          196711440,
          204243900,
          209084520,
          215341200,
          218337060,
          221722380,
          222806484,
          223306260,
          220284600,
          217846440
         ],
         "yaxis": "y"
        },
        {
         "hovertemplate": "Continente=América do Sul<br>Coffee_type=Arabica/Robusta<br>Year=%{x}<br>Consumption_kg=%{y}<extra></extra>",
         "legendgroup": "América do Sul",
         "line": {
          "color": "#00cc96",
          "dash": "solid"
         },
         "marker": {
          "symbol": "circle"
         },
         "mode": "lines",
         "name": "América do Sul",
         "orientation": "v",
         "showlegend": false,
         "type": "scatter",
         "x": [
          "1990/91",
          "1991/92",
          "1992/93",
          "1993/94",
          "1994/95",
          "1995/96",
          "1996/97",
          "1997/98",
          "1998/99",
          "1999/00",
          "2000/01",
          "2001/02",
          "2002/03",
          "2003/04",
          "2004/05",
          "2005/06",
          "2006/07",
          "2007/08",
          "2008/09",
          "2009/10",
          "2010/11",
          "2011/12",
          "2012/13",
          "2013/14",
          "2014/15",
          "2015/16",
          "2016/17",
          "2017/18",
          "2018/19",
          "2019/20"
         ],
         "xaxis": "x2",
         "y": [
          513000000,
          531000000,
          555000000,
          567000000,
          579000000,
          627000000,
          678000000,
          708000000,
          750000000,
          775800000,
          804000000,
          827400000,
          834000000,
          861000000,
          905760000,
          941280000,
          988860000,
          1035600000,
          1068600000,
          1112400000,
          1156920000,
          1192200000,
          1228800000,
          1214400000,
          1229280000,
          1239780000,
          1282800000,
          1329120000,
          1341300000,
          1328940000
         ],
         "yaxis": "y2"
        },
        {
         "hovertemplate": "Continente=América do Sul<br>Coffee_type=Robusta<br>Year=%{x}<br>Consumption_kg=%{y}<extra></extra>",
         "legendgroup": "América do Sul",
         "line": {
          "color": "#00cc96",
          "dash": "solid"
         },
         "marker": {
          "symbol": "circle"
         },
         "mode": "lines",
         "name": "América do Sul",
         "orientation": "v",
         "showlegend": false,
         "type": "scatter",
         "x": [
          "1990/91",
          "1991/92",
          "1992/93",
          "1993/94",
          "1994/95",
          "1995/96",
          "1996/97",
          "1997/98",
          "1998/99",
          "1999/00",
          "2000/01",
          "2001/02",
          "2002/03",
          "2003/04",
          "2004/05",
          "2005/06",
          "2006/07",
          "2007/08",
          "2008/09",
          "2009/10",
          "2010/11",
          "2011/12",
          "2012/13",
          "2013/14",
          "2014/15",
          "2015/16",
          "2016/17",
          "2017/18",
          "2018/19",
          "2019/20"
         ],
         "xaxis": "x3",
         "y": [
          0,
          0,
          0,
          0,
          0,
          0,
          0,
          0,
          292020,
          261000,
          112980,
          250020,
          261000,
          285000,
          330000,
          336000,
          343020,
          420000,
          508020,
          493980,
          510000,
          516000,
          522000,
          528000,
          534000,
          540000,
          540000,
          540000,
          540000,
          540000
         ],
         "yaxis": "y3"
        },
        {
         "hovertemplate": "Continente=Oceania<br>Coffee_type=Arabica/Robusta<br>Year=%{x}<br>Consumption_kg=%{y}<extra></extra>",
         "legendgroup": "Oceania",
         "line": {
          "color": "#ab63fa",
          "dash": "solid"
         },
         "marker": {
          "symbol": "circle"
         },
         "mode": "lines",
         "name": "Oceania",
         "orientation": "v",
         "showlegend": true,
         "type": "scatter",
         "x": [
          "1990/91",
          "1991/92",
          "1992/93",
          "1993/94",
          "1994/95",
          "1995/96",
          "1996/97",
          "1997/98",
          "1998/99",
          "1999/00",
          "2000/01",
          "2001/02",
          "2002/03",
          "2003/04",
          "2004/05",
          "2005/06",
          "2006/07",
          "2007/08",
          "2008/09",
          "2009/10",
          "2010/11",
          "2011/12",
          "2012/13",
          "2013/14",
          "2014/15",
          "2015/16",
          "2016/17",
          "2017/18",
          "2018/19",
          "2019/20"
         ],
         "xaxis": "x2",
         "y": [
          180000,
          180000,
          180000,
          120000,
          120000,
          120000,
          120000,
          120000,
          60000,
          120000,
          120000,
          120000,
          120000,
          120000,
          120000,
          120000,
          120000,
          120000,
          120000,
          120000,
          85800,
          74160,
          102660,
          122340,
          115440,
          108000,
          120000,
          120000,
          120000,
          120000
         ],
         "yaxis": "y2"
        },
        {
         "hovertemplate": "Continente=África<br>Coffee_type=Arabica<br>Year=%{x}<br>Consumption_kg=%{y}<extra></extra>",
         "legendgroup": "África",
         "line": {
          "color": "#FFA15A",
          "dash": "solid"
         },
         "marker": {
          "symbol": "circle"
         },
         "mode": "lines",
         "name": "África",
         "orientation": "v",
         "showlegend": true,
         "type": "scatter",
         "x": [
          "1990/91",
          "1991/92",
          "1992/93",
          "1993/94",
          "1994/95",
          "1995/96",
          "1996/97",
          "1997/98",
          "1998/99",
          "1999/00",
          "2000/01",
          "2001/02",
          "2002/03",
          "2003/04",
          "2004/05",
          "2005/06",
          "2006/07",
          "2007/08",
          "2008/09",
          "2009/10",
          "2010/11",
          "2011/12",
          "2012/13",
          "2013/14",
          "2014/15",
          "2015/16",
          "2016/17",
          "2017/18",
          "2018/19",
          "2019/20"
         ],
         "xaxis": "x",
         "y": [
          75750000,
          79590000,
          83605920,
          87859980,
          92329980,
          96912000,
          101700000,
          107016000,
          112536000,
          118176000,
          124296000,
          130716000,
          137395980,
          144535980,
          152076000,
          159936000,
          168276000,
          177060000,
          186300000,
          189900000,
          193620000,
          197460000,
          201300000,
          205560000,
          209640000,
          214020000,
          218220000,
          222840000,
          225660000,
          231510000
         ],
         "yaxis": "y"
        },
        {
         "hovertemplate": "Continente=África<br>Coffee_type=Arabica/Robusta<br>Year=%{x}<br>Consumption_kg=%{y}<extra></extra>",
         "legendgroup": "África",
         "line": {
          "color": "#FFA15A",
          "dash": "solid"
         },
         "marker": {
          "symbol": "circle"
         },
         "mode": "lines",
         "name": "África",
         "orientation": "v",
         "showlegend": false,
         "type": "scatter",
         "x": [
          "1990/91",
          "1991/92",
          "1992/93",
          "1993/94",
          "1994/95",
          "1995/96",
          "1996/97",
          "1997/98",
          "1998/99",
          "1999/00",
          "2000/01",
          "2001/02",
          "2002/03",
          "2003/04",
          "2004/05",
          "2005/06",
          "2006/07",
          "2007/08",
          "2008/09",
          "2009/10",
          "2010/11",
          "2011/12",
          "2012/13",
          "2013/14",
          "2014/15",
          "2015/16",
          "2016/17",
          "2017/18",
          "2018/19",
          "2019/20"
         ],
         "xaxis": "x2",
         "y": [
          360000,
          306000,
          1254000,
          1164600,
          1170000,
          936000,
          1116000,
          1140000,
          1140000,
          960000,
          1020000,
          1020000,
          1020000,
          1740000,
          2340000,
          2934360,
          2913600,
          2901420,
          2906100,
          2903940,
          2940000,
          3657000,
          4422000,
          4528020,
          4723020,
          5643000,
          5598000,
          5620020,
          5640000,
          5820000
         ],
         "yaxis": "y2"
        },
        {
         "hovertemplate": "Continente=África<br>Coffee_type=Robusta<br>Year=%{x}<br>Consumption_kg=%{y}<extra></extra>",
         "legendgroup": "África",
         "line": {
          "color": "#FFA15A",
          "dash": "solid"
         },
         "marker": {
          "symbol": "circle"
         },
         "mode": "lines",
         "name": "África",
         "orientation": "v",
         "showlegend": false,
         "type": "scatter",
         "x": [
          "1990/91",
          "1991/92",
          "1992/93",
          "1993/94",
          "1994/95",
          "1995/96",
          "1996/97",
          "1997/98",
          "1998/99",
          "1999/00",
          "2000/01",
          "2001/02",
          "2002/03",
          "2003/04",
          "2004/05",
          "2005/06",
          "2006/07",
          "2007/08",
          "2008/09",
          "2009/10",
          "2010/11",
          "2011/12",
          "2012/13",
          "2013/14",
          "2014/15",
          "2015/16",
          "2016/17",
          "2017/18",
          "2018/19",
          "2019/20"
         ],
         "xaxis": "x3",
         "y": [
          30912000,
          28345020,
          33583020,
          32388000,
          21879960,
          21768000,
          20269980,
          20088000,
          20568000,
          14022900,
          30904020,
          33238020,
          38625240,
          45585240,
          53613420,
          53613420,
          53578020,
          53677980,
          53776500,
          53974980,
          54116820,
          53194500,
          52192560,
          51169260,
          49962720,
          48763200,
          48165240,
          48465240,
          49065240,
          49065600
         ],
         "yaxis": "y3"
        },
        {
         "hovertemplate": "Continente=África<br>Coffee_type=Robusta/Arabica<br>Year=%{x}<br>Consumption_kg=%{y}<extra></extra>",
         "legendgroup": "África",
         "line": {
          "color": "#FFA15A",
          "dash": "solid"
         },
         "marker": {
          "symbol": "circle"
         },
         "mode": "lines",
         "name": "África",
         "orientation": "v",
         "showlegend": false,
         "type": "scatter",
         "x": [
          "1990/91",
          "1991/92",
          "1992/93",
          "1993/94",
          "1994/95",
          "1995/96",
          "1996/97",
          "1997/98",
          "1998/99",
          "1999/00",
          "2000/01",
          "2001/02",
          "2002/03",
          "2003/04",
          "2004/05",
          "2005/06",
          "2006/07",
          "2007/08",
          "2008/09",
          "2009/10",
          "2010/11",
          "2011/12",
          "2012/13",
          "2013/14",
          "2014/15",
          "2015/16",
          "2016/17",
          "2017/18",
          "2018/19",
          "2019/20"
         ],
         "xaxis": "x4",
         "y": [
          22398000,
          23299980,
          23599980,
          23700000,
          24300000,
          23400000,
          24000000,
          26471400,
          26760000,
          26340000,
          26220000,
          25800000,
          25740000,
          24900000,
          25440000,
          26040000,
          28440000,
          28755000,
          29040000,
          29262000,
          30139980,
          30601020,
          31063980,
          31456980,
          32071020,
          32400000,
          32820000,
          33168000,
          33480000,
          33540000
         ],
         "yaxis": "y4"
        },
        {
         "hovertemplate": "Continente=Ásia<br>Coffee_type=Arabica<br>Year=%{x}<br>Consumption_kg=%{y}<extra></extra>",
         "legendgroup": "Ásia",
         "line": {
          "color": "#19d3f3",
          "dash": "solid"
         },
         "marker": {
          "symbol": "circle"
         },
         "mode": "lines",
         "name": "Ásia",
         "orientation": "v",
         "showlegend": true,
         "type": "scatter",
         "x": [
          "1990/91",
          "1991/92",
          "1992/93",
          "1993/94",
          "1994/95",
          "1995/96",
          "1996/97",
          "1997/98",
          "1998/99",
          "1999/00",
          "2000/01",
          "2001/02",
          "2002/03",
          "2003/04",
          "2004/05",
          "2005/06",
          "2006/07",
          "2007/08",
          "2008/09",
          "2009/10",
          "2010/11",
          "2011/12",
          "2012/13",
          "2013/14",
          "2014/15",
          "2015/16",
          "2016/17",
          "2017/18",
          "2018/19",
          "2019/20"
         ],
         "xaxis": "x",
         "y": [
          0,
          0,
          0,
          0,
          0,
          0,
          0,
          0,
          0,
          0,
          0,
          0,
          0,
          8760000,
          8160000,
          8280000,
          8280000,
          7800000,
          7800000,
          7800000,
          7829400,
          7829400,
          7829400,
          7829400,
          7529400,
          6929400,
          6029400,
          5429400,
          3929400,
          3869400
         ],
         "yaxis": "y"
        },
        {
         "hovertemplate": "Continente=Ásia<br>Coffee_type=Robusta<br>Year=%{x}<br>Consumption_kg=%{y}<extra></extra>",
         "legendgroup": "Ásia",
         "line": {
          "color": "#19d3f3",
          "dash": "solid"
         },
         "marker": {
          "symbol": "circle"
         },
         "mode": "lines",
         "name": "Ásia",
         "orientation": "v",
         "showlegend": false,
         "type": "scatter",
         "x": [
          "1990/91",
          "1991/92",
          "1992/93",
          "1993/94",
          "1994/95",
          "1995/96",
          "1996/97",
          "1997/98",
          "1998/99",
          "1999/00",
          "2000/01",
          "2001/02",
          "2002/03",
          "2003/04",
          "2004/05",
          "2005/06",
          "2006/07",
          "2007/08",
          "2008/09",
          "2009/10",
          "2010/11",
          "2011/12",
          "2012/13",
          "2013/14",
          "2014/15",
          "2015/16",
          "2016/17",
          "2017/18",
          "2018/19",
          "2019/20"
         ],
         "xaxis": "x3",
         "y": [
          0,
          0,
          0,
          0,
          0,
          0,
          0,
          0,
          0,
          0,
          0,
          0,
          9480000,
          6180000,
          8100000,
          8400000,
          8400000,
          8400000,
          9000000,
          9000000,
          9000000,
          9000000,
          9000000,
          9000000,
          9000000,
          9000000,
          9000000,
          9300000,
          9300000,
          9420000
         ],
         "yaxis": "y3"
        },
        {
         "hovertemplate": "Continente=Ásia<br>Coffee_type=Robusta/Arabica<br>Year=%{x}<br>Consumption_kg=%{y}<extra></extra>",
         "legendgroup": "Ásia",
         "line": {
          "color": "#19d3f3",
          "dash": "solid"
         },
         "marker": {
          "symbol": "circle"
         },
         "mode": "lines",
         "name": "Ásia",
         "orientation": "v",
         "showlegend": false,
         "type": "scatter",
         "x": [
          "1990/91",
          "1991/92",
          "1992/93",
          "1993/94",
          "1994/95",
          "1995/96",
          "1996/97",
          "1997/98",
          "1998/99",
          "1999/00",
          "2000/01",
          "2001/02",
          "2002/03",
          "2003/04",
          "2004/05",
          "2005/06",
          "2006/07",
          "2007/08",
          "2008/09",
          "2009/10",
          "2010/11",
          "2011/12",
          "2012/13",
          "2013/14",
          "2014/15",
          "2015/16",
          "2016/17",
          "2017/18",
          "2018/19",
          "2019/20"
         ],
         "xaxis": "x4",
         "y": [
          196180020,
          207820020,
          209820000,
          209959980,
          215700000,
          228530700,
          228330960,
          236883480,
          244951140,
          253560000,
          264157500,
          292731900,
          287390520,
          303230760,
          326901360,
          366480000,
          396900000,
          435660000,
          478740000,
          504960000,
          550560000,
          597120000,
          635400000,
          686100000,
          727920000,
          758100000,
          774300000,
          798600000,
          816600000,
          815460000
         ],
         "yaxis": "y4"
        }
       ],
       "layout": {
        "annotations": [
         {
          "font": {},
          "showarrow": false,
          "text": "Coffee_type=Arabica",
          "x": 0.1175,
          "xanchor": "center",
          "xref": "paper",
          "y": 1,
          "yanchor": "bottom",
          "yref": "paper"
         },
         {
          "font": {},
          "showarrow": false,
          "text": "Coffee_type=Arabica/Robusta",
          "x": 0.3725,
          "xanchor": "center",
          "xref": "paper",
          "y": 1,
          "yanchor": "bottom",
          "yref": "paper"
         },
         {
          "font": {},
          "showarrow": false,
          "text": "Coffee_type=Robusta",
          "x": 0.6275,
          "xanchor": "center",
          "xref": "paper",
          "y": 1,
          "yanchor": "bottom",
          "yref": "paper"
         },
         {
          "font": {},
          "showarrow": false,
          "text": "Coffee_type=Robusta/Arabica",
          "x": 0.8824999999999998,
          "xanchor": "center",
          "xref": "paper",
          "y": 1,
          "yanchor": "bottom",
          "yref": "paper"
         }
        ],
        "height": 600,
        "legend": {
         "title": {
          "text": "Continente"
         },
         "tracegroupgap": 0
        },
        "margin": {
         "t": 60
        },
        "template": {
         "data": {
          "bar": [
           {
            "error_x": {
             "color": "#2a3f5f"
            },
            "error_y": {
             "color": "#2a3f5f"
            },
            "marker": {
             "line": {
              "color": "#E5ECF6",
              "width": 0.5
             },
             "pattern": {
              "fillmode": "overlay",
              "size": 10,
              "solidity": 0.2
             }
            },
            "type": "bar"
           }
          ],
          "barpolar": [
           {
            "marker": {
             "line": {
              "color": "#E5ECF6",
              "width": 0.5
             },
             "pattern": {
              "fillmode": "overlay",
              "size": 10,
              "solidity": 0.2
             }
            },
            "type": "barpolar"
           }
          ],
          "carpet": [
           {
            "aaxis": {
             "endlinecolor": "#2a3f5f",
             "gridcolor": "white",
             "linecolor": "white",
             "minorgridcolor": "white",
             "startlinecolor": "#2a3f5f"
            },
            "baxis": {
             "endlinecolor": "#2a3f5f",
             "gridcolor": "white",
             "linecolor": "white",
             "minorgridcolor": "white",
             "startlinecolor": "#2a3f5f"
            },
            "type": "carpet"
           }
          ],
          "choropleth": [
           {
            "colorbar": {
             "outlinewidth": 0,
             "ticks": ""
            },
            "type": "choropleth"
           }
          ],
          "contour": [
           {
            "colorbar": {
             "outlinewidth": 0,
             "ticks": ""
            },
            "colorscale": [
             [
              0,
              "#0d0887"
             ],
             [
              0.1111111111111111,
              "#46039f"
             ],
             [
              0.2222222222222222,
              "#7201a8"
             ],
             [
              0.3333333333333333,
              "#9c179e"
             ],
             [
              0.4444444444444444,
              "#bd3786"
             ],
             [
              0.5555555555555556,
              "#d8576b"
             ],
             [
              0.6666666666666666,
              "#ed7953"
             ],
             [
              0.7777777777777778,
              "#fb9f3a"
             ],
             [
              0.8888888888888888,
              "#fdca26"
             ],
             [
              1,
              "#f0f921"
             ]
            ],
            "type": "contour"
           }
          ],
          "contourcarpet": [
           {
            "colorbar": {
             "outlinewidth": 0,
             "ticks": ""
            },
            "type": "contourcarpet"
           }
          ],
          "heatmap": [
           {
            "colorbar": {
             "outlinewidth": 0,
             "ticks": ""
            },
            "colorscale": [
             [
              0,
              "#0d0887"
             ],
             [
              0.1111111111111111,
              "#46039f"
             ],
             [
              0.2222222222222222,
              "#7201a8"
             ],
             [
              0.3333333333333333,
              "#9c179e"
             ],
             [
              0.4444444444444444,
              "#bd3786"
             ],
             [
              0.5555555555555556,
              "#d8576b"
             ],
             [
              0.6666666666666666,
              "#ed7953"
             ],
             [
              0.7777777777777778,
              "#fb9f3a"
             ],
             [
              0.8888888888888888,
              "#fdca26"
             ],
             [
              1,
              "#f0f921"
             ]
            ],
            "type": "heatmap"
           }
          ],
          "heatmapgl": [
           {
            "colorbar": {
             "outlinewidth": 0,
             "ticks": ""
            },
            "colorscale": [
             [
              0,
              "#0d0887"
             ],
             [
              0.1111111111111111,
              "#46039f"
             ],
             [
              0.2222222222222222,
              "#7201a8"
             ],
             [
              0.3333333333333333,
              "#9c179e"
             ],
             [
              0.4444444444444444,
              "#bd3786"
             ],
             [
              0.5555555555555556,
              "#d8576b"
             ],
             [
              0.6666666666666666,
              "#ed7953"
             ],
             [
              0.7777777777777778,
              "#fb9f3a"
             ],
             [
              0.8888888888888888,
              "#fdca26"
             ],
             [
              1,
              "#f0f921"
             ]
            ],
            "type": "heatmapgl"
           }
          ],
          "histogram": [
           {
            "marker": {
             "pattern": {
              "fillmode": "overlay",
              "size": 10,
              "solidity": 0.2
             }
            },
            "type": "histogram"
           }
          ],
          "histogram2d": [
           {
            "colorbar": {
             "outlinewidth": 0,
             "ticks": ""
            },
            "colorscale": [
             [
              0,
              "#0d0887"
             ],
             [
              0.1111111111111111,
              "#46039f"
             ],
             [
              0.2222222222222222,
              "#7201a8"
             ],
             [
              0.3333333333333333,
              "#9c179e"
             ],
             [
              0.4444444444444444,
              "#bd3786"
             ],
             [
              0.5555555555555556,
              "#d8576b"
             ],
             [
              0.6666666666666666,
              "#ed7953"
             ],
             [
              0.7777777777777778,
              "#fb9f3a"
             ],
             [
              0.8888888888888888,
              "#fdca26"
             ],
             [
              1,
              "#f0f921"
             ]
            ],
            "type": "histogram2d"
           }
          ],
          "histogram2dcontour": [
           {
            "colorbar": {
             "outlinewidth": 0,
             "ticks": ""
            },
            "colorscale": [
             [
              0,
              "#0d0887"
             ],
             [
              0.1111111111111111,
              "#46039f"
             ],
             [
              0.2222222222222222,
              "#7201a8"
             ],
             [
              0.3333333333333333,
              "#9c179e"
             ],
             [
              0.4444444444444444,
              "#bd3786"
             ],
             [
              0.5555555555555556,
              "#d8576b"
             ],
             [
              0.6666666666666666,
              "#ed7953"
             ],
             [
              0.7777777777777778,
              "#fb9f3a"
             ],
             [
              0.8888888888888888,
              "#fdca26"
             ],
             [
              1,
              "#f0f921"
             ]
            ],
            "type": "histogram2dcontour"
           }
          ],
          "mesh3d": [
           {
            "colorbar": {
             "outlinewidth": 0,
             "ticks": ""
            },
            "type": "mesh3d"
           }
          ],
          "parcoords": [
           {
            "line": {
             "colorbar": {
              "outlinewidth": 0,
              "ticks": ""
             }
            },
            "type": "parcoords"
           }
          ],
          "pie": [
           {
            "automargin": true,
            "type": "pie"
           }
          ],
          "scatter": [
           {
            "fillpattern": {
             "fillmode": "overlay",
             "size": 10,
             "solidity": 0.2
            },
            "type": "scatter"
           }
          ],
          "scatter3d": [
           {
            "line": {
             "colorbar": {
              "outlinewidth": 0,
              "ticks": ""
             }
            },
            "marker": {
             "colorbar": {
              "outlinewidth": 0,
              "ticks": ""
             }
            },
            "type": "scatter3d"
           }
          ],
          "scattercarpet": [
           {
            "marker": {
             "colorbar": {
              "outlinewidth": 0,
              "ticks": ""
             }
            },
            "type": "scattercarpet"
           }
          ],
          "scattergeo": [
           {
            "marker": {
             "colorbar": {
              "outlinewidth": 0,
              "ticks": ""
             }
            },
            "type": "scattergeo"
           }
          ],
          "scattergl": [
           {
            "marker": {
             "colorbar": {
              "outlinewidth": 0,
              "ticks": ""
             }
            },
            "type": "scattergl"
           }
          ],
          "scattermapbox": [
           {
            "marker": {
             "colorbar": {
              "outlinewidth": 0,
              "ticks": ""
             }
            },
            "type": "scattermapbox"
           }
          ],
          "scatterpolar": [
           {
            "marker": {
             "colorbar": {
              "outlinewidth": 0,
              "ticks": ""
             }
            },
            "type": "scatterpolar"
           }
          ],
          "scatterpolargl": [
           {
            "marker": {
             "colorbar": {
              "outlinewidth": 0,
              "ticks": ""
             }
            },
            "type": "scatterpolargl"
           }
          ],
          "scatterternary": [
           {
            "marker": {
             "colorbar": {
              "outlinewidth": 0,
              "ticks": ""
             }
            },
            "type": "scatterternary"
           }
          ],
          "surface": [
           {
            "colorbar": {
             "outlinewidth": 0,
             "ticks": ""
            },
            "colorscale": [
             [
              0,
              "#0d0887"
             ],
             [
              0.1111111111111111,
              "#46039f"
             ],
             [
              0.2222222222222222,
              "#7201a8"
             ],
             [
              0.3333333333333333,
              "#9c179e"
             ],
             [
              0.4444444444444444,
              "#bd3786"
             ],
             [
              0.5555555555555556,
              "#d8576b"
             ],
             [
              0.6666666666666666,
              "#ed7953"
             ],
             [
              0.7777777777777778,
              "#fb9f3a"
             ],
             [
              0.8888888888888888,
              "#fdca26"
             ],
             [
              1,
              "#f0f921"
             ]
            ],
            "type": "surface"
           }
          ],
          "table": [
           {
            "cells": {
             "fill": {
              "color": "#EBF0F8"
             },
             "line": {
              "color": "white"
             }
            },
            "header": {
             "fill": {
              "color": "#C8D4E3"
             },
             "line": {
              "color": "white"
             }
            },
            "type": "table"
           }
          ]
         },
         "layout": {
          "annotationdefaults": {
           "arrowcolor": "#2a3f5f",
           "arrowhead": 0,
           "arrowwidth": 1
          },
          "autotypenumbers": "strict",
          "coloraxis": {
           "colorbar": {
            "outlinewidth": 0,
            "ticks": ""
           }
          },
          "colorscale": {
           "diverging": [
            [
             0,
             "#8e0152"
            ],
            [
             0.1,
             "#c51b7d"
            ],
            [
             0.2,
             "#de77ae"
            ],
            [
             0.3,
             "#f1b6da"
            ],
            [
             0.4,
             "#fde0ef"
            ],
            [
             0.5,
             "#f7f7f7"
            ],
            [
             0.6,
             "#e6f5d0"
            ],
            [
             0.7,
             "#b8e186"
            ],
            [
             0.8,
             "#7fbc41"
            ],
            [
             0.9,
             "#4d9221"
            ],
            [
             1,
             "#276419"
            ]
           ],
           "sequential": [
            [
             0,
             "#0d0887"
            ],
            [
             0.1111111111111111,
             "#46039f"
            ],
            [
             0.2222222222222222,
             "#7201a8"
            ],
            [
             0.3333333333333333,
             "#9c179e"
            ],
            [
             0.4444444444444444,
             "#bd3786"
            ],
            [
             0.5555555555555556,
             "#d8576b"
            ],
            [
             0.6666666666666666,
             "#ed7953"
            ],
            [
             0.7777777777777778,
             "#fb9f3a"
            ],
            [
             0.8888888888888888,
             "#fdca26"
            ],
            [
             1,
             "#f0f921"
            ]
           ],
           "sequentialminus": [
            [
             0,
             "#0d0887"
            ],
            [
             0.1111111111111111,
             "#46039f"
            ],
            [
             0.2222222222222222,
             "#7201a8"
            ],
            [
             0.3333333333333333,
             "#9c179e"
            ],
            [
             0.4444444444444444,
             "#bd3786"
            ],
            [
             0.5555555555555556,
             "#d8576b"
            ],
            [
             0.6666666666666666,
             "#ed7953"
            ],
            [
             0.7777777777777778,
             "#fb9f3a"
            ],
            [
             0.8888888888888888,
             "#fdca26"
            ],
            [
             1,
             "#f0f921"
            ]
           ]
          },
          "colorway": [
           "#636efa",
           "#EF553B",
           "#00cc96",
           "#ab63fa",
           "#FFA15A",
           "#19d3f3",
           "#FF6692",
           "#B6E880",
           "#FF97FF",
           "#FECB52"
          ],
          "font": {
           "color": "#2a3f5f"
          },
          "geo": {
           "bgcolor": "white",
           "lakecolor": "white",
           "landcolor": "#E5ECF6",
           "showlakes": true,
           "showland": true,
           "subunitcolor": "white"
          },
          "hoverlabel": {
           "align": "left"
          },
          "hovermode": "closest",
          "mapbox": {
           "style": "light"
          },
          "paper_bgcolor": "white",
          "plot_bgcolor": "#E5ECF6",
          "polar": {
           "angularaxis": {
            "gridcolor": "white",
            "linecolor": "white",
            "ticks": ""
           },
           "bgcolor": "#E5ECF6",
           "radialaxis": {
            "gridcolor": "white",
            "linecolor": "white",
            "ticks": ""
           }
          },
          "scene": {
           "xaxis": {
            "backgroundcolor": "#E5ECF6",
            "gridcolor": "white",
            "gridwidth": 2,
            "linecolor": "white",
            "showbackground": true,
            "ticks": "",
            "zerolinecolor": "white"
           },
           "yaxis": {
            "backgroundcolor": "#E5ECF6",
            "gridcolor": "white",
            "gridwidth": 2,
            "linecolor": "white",
            "showbackground": true,
            "ticks": "",
            "zerolinecolor": "white"
           },
           "zaxis": {
            "backgroundcolor": "#E5ECF6",
            "gridcolor": "white",
            "gridwidth": 2,
            "linecolor": "white",
            "showbackground": true,
            "ticks": "",
            "zerolinecolor": "white"
           }
          },
          "shapedefaults": {
           "line": {
            "color": "#2a3f5f"
           }
          },
          "ternary": {
           "aaxis": {
            "gridcolor": "white",
            "linecolor": "white",
            "ticks": ""
           },
           "baxis": {
            "gridcolor": "white",
            "linecolor": "white",
            "ticks": ""
           },
           "bgcolor": "#E5ECF6",
           "caxis": {
            "gridcolor": "white",
            "linecolor": "white",
            "ticks": ""
           }
          },
          "title": {
           "x": 0.05
          },
          "xaxis": {
           "automargin": true,
           "gridcolor": "white",
           "linecolor": "white",
           "ticks": "",
           "title": {
            "standoff": 15
           },
           "zerolinecolor": "white",
           "zerolinewidth": 2
          },
          "yaxis": {
           "automargin": true,
           "gridcolor": "white",
           "linecolor": "white",
           "ticks": "",
           "title": {
            "standoff": 15
           },
           "zerolinecolor": "white",
           "zerolinewidth": 2
          }
         }
        },
        "xaxis": {
         "anchor": "y",
         "domain": [
          0,
          0.235
         ],
         "title": {
          "text": "Year"
         }
        },
        "xaxis2": {
         "anchor": "y2",
         "domain": [
          0.255,
          0.49
         ],
         "matches": "x",
         "title": {
          "text": "Year"
         }
        },
        "xaxis3": {
         "anchor": "y3",
         "domain": [
          0.51,
          0.745
         ],
         "matches": "x",
         "title": {
          "text": "Year"
         }
        },
        "xaxis4": {
         "anchor": "y4",
         "domain": [
          0.7649999999999999,
          0.9999999999999999
         ],
         "matches": "x",
         "title": {
          "text": "Year"
         }
        },
        "yaxis": {
         "anchor": "x",
         "domain": [
          0,
          1
         ],
         "title": {
          "text": "Consumption_kg"
         }
        },
        "yaxis2": {
         "anchor": "x2",
         "domain": [
          0,
          1
         ],
         "matches": "y",
         "showticklabels": false
        },
        "yaxis3": {
         "anchor": "x3",
         "domain": [
          0,
          1
         ],
         "matches": "y",
         "showticklabels": false
        },
        "yaxis4": {
         "anchor": "x4",
         "domain": [
          0,
          1
         ],
         "matches": "y",
         "showticklabels": false
        }
       }
      }
     },
     "metadata": {},
     "output_type": "display_data"
    }
   ],
   "source": [
    "fig = px.line(data_continent,\n",
    "        x = 'Year',\n",
    "        y = 'Consumption_kg',\n",
    "        color = 'Continente',\n",
    "        facet_col = 'Coffee_type')\n",
    "fig.update_layout(height = 600)\n",
    "fig.show()"
   ]
  }
 ],
 "metadata": {
  "kernelspec": {
   "display_name": "Python 3",
   "language": "python",
   "name": "python3"
  },
  "language_info": {
   "codemirror_mode": {
    "name": "ipython",
    "version": 3
   },
   "file_extension": ".py",
   "mimetype": "text/x-python",
   "name": "python",
   "nbconvert_exporter": "python",
   "pygments_lexer": "ipython3",
   "version": "3.11.3"
  }
 },
 "nbformat": 4,
 "nbformat_minor": 2
}
