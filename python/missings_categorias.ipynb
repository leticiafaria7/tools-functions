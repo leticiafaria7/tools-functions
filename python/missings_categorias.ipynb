{
 "cells": [
  {
   "attachments": {},
   "cell_type": "markdown",
   "metadata": {},
   "source": [
    "## Missings e categorias de um dataframe\n",
    "\n",
    "Função para calcular o percentual de missings e o número de categorias de cada coluna de um dataframe"
   ]
  },
  {
   "cell_type": "code",
   "execution_count": 1,
   "metadata": {},
   "outputs": [],
   "source": [
    "import pandas as pd"
   ]
  },
  {
   "cell_type": "code",
   "execution_count": null,
   "metadata": {},
   "outputs": [],
   "source": [
    "def miss_cat_pd(df_) -> pd.DataFrame: \n",
    " \n",
    "  ''' \n",
    "  Função que recebe um dataframe e retorna outro dataframe com o percentual de missings de cada coluna e o número de categorias de cada coluna \n",
    " \n",
    "  Args: \n",
    "    df: nome da base \n",
    " \n",
    "  Returns: \n",
    "    pd.DataFrame: dataframe com 3 colunas: nome da coluna, percentual de missings da coluna e número de categorias da coluna \n",
    "  ''' \n",
    "   \n",
    "  # lista vazia para anexar os percentuais de missings \n",
    "  perc_missings = [] \n",
    " \n",
    "  # lista das colunas do dataframe \n",
    "  colunas = df_.columns.tolist() \n",
    " \n",
    "  # calcula o número de missings de cada coluna \n",
    "  for coluna in colunas: \n",
    "    perc_miss = df_[coluna].isna().mean() * 100 \n",
    "    perc_missings.append(perc_miss) \n",
    " \n",
    "  # lista vazia para anexar o número de categorias \n",
    "  n_categorias = [] \n",
    " \n",
    "  # calcular o número de categorias de cada coluna \n",
    "  for coluna in colunas: \n",
    "    n_cat = df_[coluna].nunique() \n",
    "    n_categorias.append(n_cat) \n",
    " \n",
    "  # junta tudo em um dataframe \n",
    "  df = pd.DataFrame(data = {'coluna': colunas,  \n",
    "                            'perc_missings': perc_missings,  \n",
    "                            'n_categorias': n_categorias}) \n",
    " \n",
    "  return df"
   ]
  }
 ],
 "metadata": {
  "kernelspec": {
   "display_name": "Python 3",
   "language": "python",
   "name": "python3"
  },
  "language_info": {
   "codemirror_mode": {
    "name": "ipython",
    "version": 3
   },
   "file_extension": ".py",
   "mimetype": "text/x-python",
   "name": "python",
   "nbconvert_exporter": "python",
   "pygments_lexer": "ipython3",
   "version": "3.11.3"
  },
  "orig_nbformat": 4
 },
 "nbformat": 4,
 "nbformat_minor": 2
}
