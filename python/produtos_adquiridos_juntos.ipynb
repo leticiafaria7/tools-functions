{
 "cells": [
  {
   "cell_type": "markdown",
   "metadata": {},
   "source": [
    "# Verificar quais são os produtos que saem mais juntos em um mesmo atendimento"
   ]
  },
  {
   "cell_type": "code",
   "execution_count": null,
   "metadata": {},
   "outputs": [],
   "source": [
    "import pandas as pd\n",
    "import numpy as np\n",
    "import sys, os"
   ]
  },
  {
   "cell_type": "markdown",
   "metadata": {},
   "source": [
    "## 1. Criar os grupos"
   ]
  },
  {
   "cell_type": "code",
   "execution_count": null,
   "metadata": {},
   "outputs": [],
   "source": [
    "# criar base vazia\n",
    "df = pd.DataFrame(data = {'hash_atendimento':'', 'produto':''})\n",
    "\n",
    "# criar uma base com os atendimentos que possuem mais de 2 produtos\n",
    "hashes = df['hash_atendimento'].value_counts().reset_index()\n",
    "hashes = hashes[hashes['count'] > 1].sort_values('hash_atendimento').reset_index(drop = True).reset_index(drop = False).drop('count', axis = 1)\n",
    "\n",
    "# criar um loop para quebrar a base de 50k em 50k atendimentos\n",
    "for index in range(21):\n",
    "\n",
    "    min = index * 50000\n",
    "    max = (index + 1) * 50000\n",
    "    base_name = f'hashes_grupo_{str(index + 1)}'\n",
    "\n",
    "    if index == 20:\n",
    "        globals()[base_name] = hashes[hashes['index'] >= min]\n",
    "    else:\n",
    "        globals()[base_name] = hashes[(hashes['index'] >= min) & (hashes('index') < max)]"
   ]
  },
  {
   "cell_type": "markdown",
   "metadata": {},
   "source": [
    "## 2. Rodar para todos os grupos"
   ]
  },
  {
   "cell_type": "code",
   "execution_count": null,
   "metadata": {},
   "outputs": [],
   "source": [
    "for i in [*range(1, 22, 1)]:\n",
    "\n",
    "    # filtrar apenas os atendimentos do grupo da iteração\n",
    "    grupo = eval(f'hashes_grupo_{str(i)}')\n",
    "    df_grupo = df.copy().merge(grupo[['hash_atendimento']], on = 'hash_atendimento', how = 'inner')\n",
    "\n",
    "    # merge com a própria base para pegar as combinações\n",
    "    df_grupo = df_grupo.merge(df_grupo, on = 'hash_atendimento', how = 'left')\n",
    "\n",
    "    # remover linhas com x e y iguais\n",
    "    df_grupo['manter'] = np.where(df_grupo['produto_x'] == df_grupo['produto_y'], False, True)\n",
    "    df_grupo = df_grupo[df_grupo['manter']].drop('manter', axis = 1)\n",
    "\n",
    "    # criar lista de pares e ordena-los\n",
    "    df_grupo['lista'] = df_grupo.apply(lambda row: [row['produto_x'], row['produto_y']], axis = 1)\n",
    "    df_grupo['lista'] = df_grupo['lista'].apply(lambda x: sorted(x))\n",
    "    df_grupo['produto_x'] = df_grupo['lista'].apply(lambda x: x[0])\n",
    "    df_grupo['produto_y'] = df_grupo['lista'].apply(lambda x: x[1])\n",
    "    df_grupo = df_grupo.drop('lista', axis = 1).drop_duplicates()\n",
    "\n",
    "    # contar quantas vezes as duplas aparecem\n",
    "    df_grupo = df_grupo[['produto_x', 'produto_y']].value_counts().reset_index()\n",
    "\n",
    "    nome_base = f'atendimentos_grupo_{str(i)}.parquet'\n",
    "\n",
    "    df_grupo.to_parquet(os.path.join('caminho', nome_base))\n",
    "    del(df_grupo)"
   ]
  },
  {
   "cell_type": "markdown",
   "metadata": {},
   "source": [
    "## 3. Juntar todas as bases"
   ]
  },
  {
   "cell_type": "code",
   "execution_count": null,
   "metadata": {},
   "outputs": [],
   "source": [
    "produtos_adq_juntos = pd.DataFrame()\n",
    "\n",
    "for i in [*range(1, 22, 1)]:\n",
    "    base = f'atendimentos_grupo_{str(i)}.parquet'\n",
    "    df = pd.read_parquet(os.path.join('caminho', nome_base))\n",
    "\n",
    "    produtos_adq_juntos = pd.concat([produtos_adq_juntos, df])\n",
    "\n",
    "print(f'Tamanho da base concatenada: {produtos_adq_juntos.shape[0]}')\n",
    "produtos_adq_juntos = produtos_adq_juntos.groupby(['produto_x', 'produto_y']).agg({'count':'sum'}).reset_index().sort_values('count', ascending = False)\n",
    "\n",
    "print(f'Tamanho da base agregada: {produtos_adq_juntos.shape[0]}')\n",
    "\n",
    "produtos_adq_juntos"
   ]
  }
 ],
 "metadata": {
  "kernelspec": {
   "display_name": "Python 3",
   "language": "python",
   "name": "python3"
  },
  "language_info": {
   "codemirror_mode": {
    "name": "ipython",
    "version": 3
   },
   "file_extension": ".py",
   "mimetype": "text/x-python",
   "name": "python",
   "nbconvert_exporter": "python",
   "pygments_lexer": "ipython3",
   "version": "3.11.3"
  }
 },
 "nbformat": 4,
 "nbformat_minor": 2
}
