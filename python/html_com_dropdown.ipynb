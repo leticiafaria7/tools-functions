{
 "cells": [
  {
   "cell_type": "markdown",
   "metadata": {},
   "source": [
    "## Imports"
   ]
  },
  {
   "cell_type": "code",
   "execution_count": 1,
   "metadata": {},
   "outputs": [],
   "source": [
    "import pandas as pd\n",
    "import numpy as np\n",
    "import plotly\n",
    "import plotly.graph_objects as go\n",
    "from plotly.subplots import make_subplots\n",
    "import plotly.express as px\n",
    "\n",
    "from modulos.funcoes_sanity_check import categorias_colunas\n",
    "\n",
    "pd.set_option('display.max_columns', None)"
   ]
  },
  {
   "cell_type": "markdown",
   "metadata": {},
   "source": [
    "## Base de dados - Tratamento e Sanity Check"
   ]
  },
  {
   "cell_type": "code",
   "execution_count": 7,
   "metadata": {},
   "outputs": [],
   "source": [
    "us_states = {\n",
    "    \"AL\": \"Alabama\",\n",
    "    \"AK\": \"Alaska\",\n",
    "    \"AZ\": \"Arizona\",\n",
    "    \"AR\": \"Arkansas\",\n",
    "    \"CA\": \"California\",\n",
    "    \"CO\": \"Colorado\",\n",
    "    \"CT\": \"Connecticut\",\n",
    "    \"DE\": \"Delaware\",\n",
    "    \"FL\": \"Florida\",\n",
    "    \"GA\": \"Georgia\",\n",
    "    \"HI\": \"Hawaii\",\n",
    "    \"ID\": \"Idaho\",\n",
    "    \"IL\": \"Illinois\",\n",
    "    \"IN\": \"Indiana\",\n",
    "    \"IA\": \"Iowa\",\n",
    "    \"KS\": \"Kansas\",\n",
    "    \"KY\": \"Kentucky\",\n",
    "    \"LA\": \"Louisiana\",\n",
    "    \"ME\": \"Maine\",\n",
    "    \"MD\": \"Maryland\",\n",
    "    \"MA\": \"Massachusetts\",\n",
    "    \"MI\": \"Michigan\",\n",
    "    \"MN\": \"Minnesota\",\n",
    "    \"MS\": \"Mississippi\",\n",
    "    \"MO\": \"Missouri\",\n",
    "    \"MT\": \"Montana\",\n",
    "    \"NE\": \"Nebraska\",\n",
    "    \"NV\": \"Nevada\",\n",
    "    \"NH\": \"New Hampshire\",\n",
    "    \"NJ\": \"New Jersey\",\n",
    "    \"NM\": \"New Mexico\",\n",
    "    \"NY\": \"New York\",\n",
    "    \"NC\": \"North Carolina\",\n",
    "    \"ND\": \"North Dakota\",\n",
    "    \"OH\": \"Ohio\",\n",
    "    \"OK\": \"Oklahoma\",\n",
    "    \"OR\": \"Oregon\",\n",
    "    \"PA\": \"Pennsylvania\",\n",
    "    \"RI\": \"Rhode Island\",\n",
    "    \"SC\": \"South Carolina\",\n",
    "    \"SD\": \"South Dakota\",\n",
    "    \"TN\": \"Tennessee\",\n",
    "    \"TX\": \"Texas\",\n",
    "    \"UT\": \"Utah\",\n",
    "    \"VT\": \"Vermont\",\n",
    "    \"VA\": \"Virginia\",\n",
    "    \"WA\": \"Washington\",\n",
    "    \"WV\": \"West Virginia\",\n",
    "    \"WI\": \"Wisconsin\",\n",
    "    \"WY\": \"Wyoming\"\n",
    "}"
   ]
  },
  {
   "cell_type": "code",
   "execution_count": 2,
   "metadata": {},
   "outputs": [],
   "source": [
    "def faixa_dia_mes(x):\n",
    "    if x <= 5:\n",
    "        return \"Até dia 5\"\n",
    "    if x <= 10:\n",
    "        return \"De 6 a 10\"\n",
    "    if x <= 15:\n",
    "        return \"De 11 a 15\"\n",
    "    if x <= 20:\n",
    "        return \"De 16 a 20\"\n",
    "    if x <= 25:\n",
    "        return \"De 21 a 25\"\n",
    "    else:\n",
    "        return \"Depois do dia 26\""
   ]
  },
  {
   "cell_type": "code",
   "execution_count": 3,
   "metadata": {},
   "outputs": [
    {
     "name": "stdout",
     "output_type": "stream",
     "text": [
      "(1004, 20)\n"
     ]
    },
    {
     "data": {
      "text/html": [
       "<div>\n",
       "<style scoped>\n",
       "    .dataframe tbody tr th:only-of-type {\n",
       "        vertical-align: middle;\n",
       "    }\n",
       "\n",
       "    .dataframe tbody tr th {\n",
       "        vertical-align: top;\n",
       "    }\n",
       "\n",
       "    .dataframe thead th {\n",
       "        text-align: right;\n",
       "    }\n",
       "</style>\n",
       "<table border=\"1\" class=\"dataframe\">\n",
       "  <thead>\n",
       "    <tr style=\"text-align: right;\">\n",
       "      <th></th>\n",
       "      <th>Order ID</th>\n",
       "      <th>Restaurant Name</th>\n",
       "      <th>Location</th>\n",
       "      <th>Order Time</th>\n",
       "      <th>Delivery Duration (min)</th>\n",
       "      <th>Pizza Size</th>\n",
       "      <th>Pizza Type</th>\n",
       "      <th>Distance (km)</th>\n",
       "      <th>Traffic Level</th>\n",
       "      <th>Payment Method</th>\n",
       "      <th>Is Peak Hour</th>\n",
       "      <th>Delivery Efficiency (min/km)</th>\n",
       "      <th>Estimated Duration (min)</th>\n",
       "      <th>Delay (min)</th>\n",
       "      <th>Is Delayed</th>\n",
       "      <th>Order Hour</th>\n",
       "      <th>Month</th>\n",
       "      <th>Month Day</th>\n",
       "      <th>Weekday</th>\n",
       "      <th>State</th>\n",
       "    </tr>\n",
       "  </thead>\n",
       "  <tbody>\n",
       "    <tr>\n",
       "      <th>0</th>\n",
       "      <td>ORD001</td>\n",
       "      <td>Domino's</td>\n",
       "      <td>New York, NY</td>\n",
       "      <td>2024-01-05 18:30:00</td>\n",
       "      <td>15</td>\n",
       "      <td>Medium</td>\n",
       "      <td>Veg</td>\n",
       "      <td>2.5</td>\n",
       "      <td>Medium</td>\n",
       "      <td>Card</td>\n",
       "      <td>True</td>\n",
       "      <td>6.000000</td>\n",
       "      <td>6.0</td>\n",
       "      <td>9.0</td>\n",
       "      <td>False</td>\n",
       "      <td>18:30</td>\n",
       "      <td>2024-01</td>\n",
       "      <td>Até dia 5</td>\n",
       "      <td>Friday</td>\n",
       "      <td>NY</td>\n",
       "    </tr>\n",
       "    <tr>\n",
       "      <th>1</th>\n",
       "      <td>ORD002</td>\n",
       "      <td>Papa John's</td>\n",
       "      <td>Los Angeles, CA</td>\n",
       "      <td>2024-02-14 20:00:00</td>\n",
       "      <td>25</td>\n",
       "      <td>Large</td>\n",
       "      <td>Non-Veg</td>\n",
       "      <td>5.0</td>\n",
       "      <td>High</td>\n",
       "      <td>Wallet</td>\n",
       "      <td>True</td>\n",
       "      <td>5.000000</td>\n",
       "      <td>12.0</td>\n",
       "      <td>13.0</td>\n",
       "      <td>False</td>\n",
       "      <td>20:00</td>\n",
       "      <td>2024-02</td>\n",
       "      <td>De 11 a 15</td>\n",
       "      <td>Wednesday</td>\n",
       "      <td>CA</td>\n",
       "    </tr>\n",
       "    <tr>\n",
       "      <th>2</th>\n",
       "      <td>ORD003</td>\n",
       "      <td>Little Caesars</td>\n",
       "      <td>Chicago, IL</td>\n",
       "      <td>2024-03-21 12:15:00</td>\n",
       "      <td>20</td>\n",
       "      <td>Small</td>\n",
       "      <td>Vegan</td>\n",
       "      <td>3.0</td>\n",
       "      <td>Low</td>\n",
       "      <td>UPI</td>\n",
       "      <td>False</td>\n",
       "      <td>6.666667</td>\n",
       "      <td>7.2</td>\n",
       "      <td>12.8</td>\n",
       "      <td>False</td>\n",
       "      <td>12:15</td>\n",
       "      <td>2024-03</td>\n",
       "      <td>De 21 a 25</td>\n",
       "      <td>Thursday</td>\n",
       "      <td>IL</td>\n",
       "    </tr>\n",
       "    <tr>\n",
       "      <th>3</th>\n",
       "      <td>ORD004</td>\n",
       "      <td>Pizza Hut</td>\n",
       "      <td>Miami, FL</td>\n",
       "      <td>2024-04-10 19:45:00</td>\n",
       "      <td>25</td>\n",
       "      <td>XL</td>\n",
       "      <td>Cheese Burst</td>\n",
       "      <td>4.5</td>\n",
       "      <td>Medium</td>\n",
       "      <td>Cash</td>\n",
       "      <td>True</td>\n",
       "      <td>5.555556</td>\n",
       "      <td>10.8</td>\n",
       "      <td>14.2</td>\n",
       "      <td>False</td>\n",
       "      <td>19:45</td>\n",
       "      <td>2024-04</td>\n",
       "      <td>De 6 a 10</td>\n",
       "      <td>Wednesday</td>\n",
       "      <td>FL</td>\n",
       "    </tr>\n",
       "    <tr>\n",
       "      <th>4</th>\n",
       "      <td>ORD005</td>\n",
       "      <td>Marco's Pizza</td>\n",
       "      <td>Dallas, TX</td>\n",
       "      <td>2024-05-05 13:00:00</td>\n",
       "      <td>20</td>\n",
       "      <td>Medium</td>\n",
       "      <td>Non-Veg</td>\n",
       "      <td>2.0</td>\n",
       "      <td>High</td>\n",
       "      <td>Card</td>\n",
       "      <td>False</td>\n",
       "      <td>10.000000</td>\n",
       "      <td>4.8</td>\n",
       "      <td>15.2</td>\n",
       "      <td>False</td>\n",
       "      <td>13:00</td>\n",
       "      <td>2024-05</td>\n",
       "      <td>Até dia 5</td>\n",
       "      <td>Sunday</td>\n",
       "      <td>TX</td>\n",
       "    </tr>\n",
       "  </tbody>\n",
       "</table>\n",
       "</div>"
      ],
      "text/plain": [
       "  Order ID Restaurant Name         Location          Order Time  \\\n",
       "0   ORD001        Domino's     New York, NY 2024-01-05 18:30:00   \n",
       "1   ORD002     Papa John's  Los Angeles, CA 2024-02-14 20:00:00   \n",
       "2   ORD003  Little Caesars      Chicago, IL 2024-03-21 12:15:00   \n",
       "3   ORD004       Pizza Hut        Miami, FL 2024-04-10 19:45:00   \n",
       "4   ORD005   Marco's Pizza       Dallas, TX 2024-05-05 13:00:00   \n",
       "\n",
       "   Delivery Duration (min) Pizza Size    Pizza Type  Distance (km)  \\\n",
       "0                       15     Medium           Veg            2.5   \n",
       "1                       25      Large       Non-Veg            5.0   \n",
       "2                       20      Small         Vegan            3.0   \n",
       "3                       25         XL  Cheese Burst            4.5   \n",
       "4                       20     Medium       Non-Veg            2.0   \n",
       "\n",
       "  Traffic Level Payment Method  Is Peak Hour  Delivery Efficiency (min/km)  \\\n",
       "0        Medium           Card          True                      6.000000   \n",
       "1          High         Wallet          True                      5.000000   \n",
       "2           Low            UPI         False                      6.666667   \n",
       "3        Medium           Cash          True                      5.555556   \n",
       "4          High           Card         False                     10.000000   \n",
       "\n",
       "   Estimated Duration (min)  Delay (min)  Is Delayed Order Hour    Month  \\\n",
       "0                       6.0          9.0       False      18:30  2024-01   \n",
       "1                      12.0         13.0       False      20:00  2024-02   \n",
       "2                       7.2         12.8       False      12:15  2024-03   \n",
       "3                      10.8         14.2       False      19:45  2024-04   \n",
       "4                       4.8         15.2       False      13:00  2024-05   \n",
       "\n",
       "    Month Day    Weekday State  \n",
       "0   Até dia 5     Friday    NY  \n",
       "1  De 11 a 15  Wednesday    CA  \n",
       "2  De 21 a 25   Thursday    IL  \n",
       "3   De 6 a 10  Wednesday    FL  \n",
       "4   Até dia 5     Sunday    TX  "
      ]
     },
     "execution_count": 3,
     "metadata": {},
     "output_type": "execute_result"
    }
   ],
   "source": [
    "df_pizza = pd.read_excel('dados/Enhanced_pizza_sell_data_2024-25.xlsx')\n",
    "df_pizza['Restaurant Name'] = np.where(df_pizza['Restaurant Name'] == 'Marco’s Pizza', \"Marco's Pizza\", df_pizza['Restaurant Name'])\n",
    "df_pizza = df_pizza.drop(['Delivery Time', 'Topping Density', 'Order Month', 'Payment Category', 'Pizza Complexity', 'Traffic Impact', 'Restaurant Avg Time', \n",
    "                          'Is Weekend', 'Toppings Count'], axis = 1)\n",
    "df_pizza['Month'] = df_pizza['Order Time'].astype(str).apply(lambda x: x[:7])\n",
    "df_pizza['Month Day'] = df_pizza['Order Time'].dt.day.apply(faixa_dia_mes)\n",
    "df_pizza['Weekday'] = df_pizza['Order Time'].dt.day_name()\n",
    "df_pizza['Order Hour'] = df_pizza['Order Time'].astype(str).apply(lambda x: x[11:16])\n",
    "df_pizza['State'] = df_pizza['Location'].apply(lambda x: x.split(', ')[1])\n",
    "print(df_pizza.shape)\n",
    "df_pizza.head()"
   ]
  },
  {
   "cell_type": "code",
   "execution_count": 106,
   "metadata": {},
   "outputs": [
    {
     "name": "stdout",
     "output_type": "stream",
     "text": [
      "Coluna: Restaurant Name | Qtd categorias: 5 | Qtd missings: 0 (0.0%)\n",
      "Restaurant Name\n",
      "Domino's          212\n",
      "Papa John's       204\n",
      "Little Caesars    199\n",
      "Marco's Pizza     195\n",
      "Pizza Hut         194\n",
      "Name: count, dtype: int64\n",
      "--------------------------------------------------\n",
      "\n",
      "Coluna: Delivery Duration (min) | Qtd categorias: 8 | Qtd missings: 0 (0.0%)\n",
      "Delivery Duration (min)\n",
      "30    437\n",
      "20    233\n",
      "25    123\n",
      "40     92\n",
      "35     44\n",
      "50     40\n",
      "45     34\n",
      "15      1\n",
      "Name: count, dtype: int64\n",
      "--------------------------------------------------\n",
      "\n",
      "Coluna: Pizza Size | Qtd categorias: 4 | Qtd missings: 0 (0.0%)\n",
      "Pizza Size\n",
      "Medium    429\n",
      "Large     240\n",
      "XL        203\n",
      "Small     132\n",
      "Name: count, dtype: int64\n",
      "--------------------------------------------------\n",
      "\n",
      "Coluna: Pizza Type | Qtd categorias: 12 | Qtd missings: 0 (0.0%)\n",
      "Pizza Type\n",
      "Non-Veg          216\n",
      "Veg              202\n",
      "Cheese Burst     188\n",
      "Vegan            132\n",
      "Sicilian          64\n",
      "BBQ Chicken       54\n",
      "Margarita         54\n",
      "Gluten-Free       41\n",
      "Thai Chicken      24\n",
      "Stuffed Crust     21\n",
      "Deep Dish          6\n",
      "Thin Crust         2\n",
      "Name: count, dtype: int64\n",
      "--------------------------------------------------\n",
      "\n",
      "Coluna: Traffic Level | Qtd categorias: 3 | Qtd missings: 0 (0.0%)\n",
      "Traffic Level\n",
      "Medium    398\n",
      "High      328\n",
      "Low       278\n",
      "Name: count, dtype: int64\n",
      "--------------------------------------------------\n",
      "\n",
      "Coluna: Payment Method | Qtd categorias: 6 | Qtd missings: 0 (0.0%)\n",
      "Payment Method\n",
      "Card             276\n",
      "UPI              271\n",
      "Wallet           208\n",
      "Cash             202\n",
      "Hut Points        24\n",
      "Domino's Cash     23\n",
      "Name: count, dtype: int64\n",
      "--------------------------------------------------\n",
      "\n",
      "Coluna: Is Peak Hour | Qtd categorias: 2 | Qtd missings: 0 (0.0%)\n",
      "Is Peak Hour\n",
      "True     949\n",
      "False     55\n",
      "Name: count, dtype: int64\n",
      "--------------------------------------------------\n",
      "\n",
      "Coluna: Is Delayed | Qtd categorias: 2 | Qtd missings: 0 (0.0%)\n",
      "Is Delayed\n",
      "False    794\n",
      "True     210\n",
      "Name: count, dtype: int64\n",
      "--------------------------------------------------\n",
      "\n",
      "Coluna: Month Day | Qtd categorias: 6 | Qtd missings: 0 (0.0%)\n",
      "Month Day\n",
      "De 16 a 20          181\n",
      "Depois do dia 26    171\n",
      "De 11 a 15          168\n",
      "Até dia 5           163\n",
      "De 21 a 25          163\n",
      "De 6 a 10           158\n",
      "Name: count, dtype: int64\n",
      "--------------------------------------------------\n",
      "\n",
      "Coluna: Weekday | Qtd categorias: 7 | Qtd missings: 0 (0.0%)\n",
      "Weekday\n",
      "Thursday     147\n",
      "Sunday       145\n",
      "Wednesday    144\n",
      "Friday       143\n",
      "Monday       143\n",
      "Saturday     141\n",
      "Tuesday      141\n",
      "Name: count, dtype: int64\n",
      "--------------------------------------------------\n",
      "\n",
      "Coluna: Order ID | Qtd categorias: 1004 | Qtd missings: 0 (0.0%)\n",
      "--------------------------------------------------\n",
      "\n",
      "Coluna: Location | Qtd categorias: 84 | Qtd missings: 0 (0.0%)\n",
      "--------------------------------------------------\n",
      "\n",
      "Coluna: Order Time | Qtd categorias: 968 | Qtd missings: 0 (0.0%)\n",
      "--------------------------------------------------\n",
      "\n",
      "Coluna: Distance (km) | Qtd categorias: 25 | Qtd missings: 0 (0.0%)\n",
      "--------------------------------------------------\n",
      "\n",
      "Coluna: Delivery Efficiency (min/km) | Qtd categorias: 40 | Qtd missings: 0 (0.0%)\n",
      "--------------------------------------------------\n",
      "\n",
      "Coluna: Estimated Duration (min) | Qtd categorias: 25 | Qtd missings: 0 (0.0%)\n",
      "--------------------------------------------------\n",
      "\n",
      "Coluna: Delay (min) | Qtd categorias: 54 | Qtd missings: 0 (0.0%)\n",
      "--------------------------------------------------\n",
      "\n",
      "Coluna: Order Hour | Qtd categorias: 33 | Qtd missings: 0 (0.0%)\n",
      "--------------------------------------------------\n",
      "\n",
      "Coluna: Month | Qtd categorias: 31 | Qtd missings: 0 (0.0%)\n",
      "--------------------------------------------------\n",
      "\n"
     ]
    }
   ],
   "source": [
    "categorias_colunas(df = df_pizza, n_max = 12)"
   ]
  },
  {
   "cell_type": "markdown",
   "metadata": {},
   "source": [
    "## Gráficos intermediários"
   ]
  },
  {
   "cell_type": "code",
   "execution_count": null,
   "metadata": {},
   "outputs": [],
   "source": [
    "## Gráfico\n",
    "\n",
    "\n",
    "# dropdown: restaurante\n",
    "# gráfico choropleth: qtd de pedidos por estado por mês (slider)\n",
    "# linhas: média eficiência de delivery por hora:min + média de delay por hora:min\n",
    "# bolhas: distancia vs tempo de delivery"
   ]
  },
  {
   "cell_type": "markdown",
   "metadata": {},
   "source": [
    "### Mapa"
   ]
  },
  {
   "cell_type": "code",
   "execution_count": 102,
   "metadata": {},
   "outputs": [],
   "source": [
    "def grafico_mapa(us_states, restaurante = None):\n",
    "\n",
    "    if restaurante == None:\n",
    "        df = df_pizza.copy()\n",
    "        restaurante_name = 'Todos os restaurantes'\n",
    "    else:\n",
    "        df = df_pizza[df_pizza['Restaurant Name'] == restaurante]\n",
    "        restaurante_name = restaurante\n",
    "\n",
    "    df = df[['State', 'Month']].value_counts().reset_index()\n",
    "    df.columns = ['State', 'Month', 'count']\n",
    "    df['Name'] = df['State'].map(us_states)\n",
    "    df['Name'] = df['Name'] + \" (\" + df['State'] + \")\"\n",
    "\n",
    "    # Certifique-se de que Month seja datetime (se ainda não for)\n",
    "    df['Month'] = pd.to_datetime(df['Month'])\n",
    "\n",
    "    # Criar uma coluna formatada\n",
    "    df['Month_str'] = df['Month'].dt.strftime('%b/%Y')  # 'jan/2024', 'fev/2024', etc.\n",
    "\n",
    "    # Obter meses únicos formatados, mantendo a ordem cronológica\n",
    "    meses_ordenados = df.sort_values('Month')['Month_str'].unique()\n",
    "\n",
    "    # Criar os traces e slider\n",
    "    data = []\n",
    "    steps = []\n",
    "\n",
    "    for i, mes_str in enumerate(meses_ordenados):\n",
    "        df_mes = df[df['Month_str'] == mes_str]\n",
    "        \n",
    "        trace = go.Choropleth(\n",
    "            locations=df_mes['State'],\n",
    "            z=df_mes['count'],\n",
    "            locationmode='USA-states',\n",
    "            colorscale='Reds',\n",
    "            zmin=df['count'].min(),\n",
    "            zmax=df['count'].max(),\n",
    "            customdata=df_mes['Name'],\n",
    "            hovertemplate='%{customdata}<br>%{z}<extra></extra>',\n",
    "            visible=(i == 0)\n",
    "        )\n",
    "        data.append(trace)\n",
    "        \n",
    "        step = dict(\n",
    "            method=\"update\",\n",
    "            args=[{\"visible\": [j == i for j in range(len(meses_ordenados))]},\n",
    "                {\"title\": f\"Quantidade de pedidos por Estado | {restaurante_name} | {mes_str}\"}],\n",
    "            label=mes_str\n",
    "        )\n",
    "        steps.append(step)\n",
    "\n",
    "    sliders = [dict(\n",
    "        active=0,\n",
    "        steps=steps,\n",
    "        currentvalue={\"prefix\": \"Mês: \"}\n",
    "    )]\n",
    "\n",
    "    fig = go.Figure(data=data)\n",
    "    # fig.update_layout(\n",
    "    #     title_text=f\"Quantidade de pedidos por Estado | {restaurante_name}\",\n",
    "    #     geo_scope='usa',\n",
    "    #     sliders=sliders,\n",
    "    #     height = 700,\n",
    "    #     width = 900\n",
    "    # )\n",
    "\n",
    "    # fig.show()\n",
    "    return fig\n",
    "\n",
    "# grafico_mapa(us_states, restaurante = \"Domino's\")\n"
   ]
  },
  {
   "cell_type": "markdown",
   "metadata": {},
   "source": [
    "### Gráfico de linhas eficiência + delay"
   ]
  },
  {
   "cell_type": "code",
   "execution_count": 99,
   "metadata": {},
   "outputs": [
    {
     "data": {
      "application/vnd.plotly.v1+json": {
       "config": {
        "plotlyServerURL": "https://plot.ly"
       },
       "data": [
        {
         "connectgaps": true,
         "hovertemplate": "variable=Delay (min)<br>Order Hour=%{x}<br>value=%{y}<extra></extra>",
         "legendgroup": "Delay (min)",
         "line": {
          "color": "#636efa",
          "dash": "solid"
         },
         "marker": {
          "symbol": "circle"
         },
         "mode": "lines+markers",
         "name": "Delay (min)",
         "orientation": "v",
         "showlegend": true,
         "type": "scatter",
         "x": [
          "17:30",
          "18:00",
          "18:15",
          "18:20",
          "18:25",
          "18:30",
          "18:45",
          "19:00",
          "19:05",
          "19:15",
          "19:20",
          "19:30",
          "19:45",
          "20:00",
          "20:15",
          "20:30",
          "21:00",
          "21:10"
         ],
         "xaxis": "x",
         "y": [
          10.4,
          13.232000000000001,
          18.69333333333333,
          14.4,
          15.6,
          11.794594594594596,
          16.228571428571428,
          20.224489795918366,
          22.04,
          16.848,
          22.04,
          17.966666666666665,
          14.199999999999998,
          18.835,
          22.011764705882353,
          17.2,
          22.04,
          17.04
         ],
         "yaxis": "y"
        },
        {
         "connectgaps": true,
         "hovertemplate": "variable=Delivery Efficiency (min/km)<br>Order Hour=%{x}<br>value=%{y}<extra></extra>",
         "legendgroup": "Delivery Efficiency (min/km)",
         "line": {
          "color": "#EF553B",
          "dash": "solid"
         },
         "marker": {
          "symbol": "circle"
         },
         "mode": "lines+markers",
         "name": "Delivery Efficiency (min/km)",
         "orientation": "v",
         "showlegend": true,
         "type": "scatter",
         "x": [
          "17:30",
          "18:00",
          "18:15",
          "18:20",
          "18:25",
          "18:30",
          "18:45",
          "19:00",
          "19:05",
          "19:15",
          "19:20",
          "19:30",
          "19:45",
          "20:00",
          "20:15",
          "20:30",
          "21:00",
          "21:10"
         ],
         "xaxis": "x",
         "y": [
          5,
          6.480086580086581,
          5.449735449735449,
          4.615384615384615,
          5,
          5.129402129402129,
          5.541125541125541,
          5.466354507170834,
          6.481481481481481,
          5.477056277056277,
          6.481481481481481,
          5.533216783216783,
          5.5555555555555545,
          6.264730639730639,
          5.053475935828877,
          6.151515151515151,
          6.481481481481481,
          5.555555555555555
         ],
         "yaxis": "y"
        },
        {
         "connectgaps": true,
         "hovertemplate": "variable=Qtd de pedidos<br>Order Hour=%{x}<br>value=%{y}<extra></extra>",
         "legendgroup": "Qtd de pedidos",
         "line": {
          "color": "#00cc96",
          "dash": "solid"
         },
         "marker": {
          "symbol": "circle"
         },
         "mode": "lines+markers",
         "name": "Qtd de pedidos",
         "orientation": "v",
         "showlegend": true,
         "type": "scatter",
         "x": [
          "17:30",
          "18:00",
          "18:15",
          "18:20",
          "18:25",
          "18:30",
          "18:45",
          "19:00",
          "19:05",
          "19:15",
          "19:20",
          "19:30",
          "19:45",
          "20:00",
          "20:15",
          "20:30",
          "21:00",
          "21:10"
         ],
         "xaxis": "x",
         "y": [
          1,
          25,
          3,
          1,
          1,
          37,
          7,
          49,
          1,
          25,
          1,
          12,
          3,
          24,
          17,
          3,
          1,
          1
         ],
         "yaxis": "y"
        }
       ],
       "layout": {
        "height": 600,
        "legend": {
         "orientation": "h",
         "title": {
          "text": ""
         },
         "tracegroupgap": 0,
         "x": 0.5,
         "xanchor": "center",
         "y": -0.5,
         "yanchor": "bottom"
        },
        "margin": {
         "t": 60
        },
        "plot_bgcolor": "white",
        "template": {
         "data": {
          "bar": [
           {
            "error_x": {
             "color": "#2a3f5f"
            },
            "error_y": {
             "color": "#2a3f5f"
            },
            "marker": {
             "line": {
              "color": "#E5ECF6",
              "width": 0.5
             },
             "pattern": {
              "fillmode": "overlay",
              "size": 10,
              "solidity": 0.2
             }
            },
            "type": "bar"
           }
          ],
          "barpolar": [
           {
            "marker": {
             "line": {
              "color": "#E5ECF6",
              "width": 0.5
             },
             "pattern": {
              "fillmode": "overlay",
              "size": 10,
              "solidity": 0.2
             }
            },
            "type": "barpolar"
           }
          ],
          "carpet": [
           {
            "aaxis": {
             "endlinecolor": "#2a3f5f",
             "gridcolor": "white",
             "linecolor": "white",
             "minorgridcolor": "white",
             "startlinecolor": "#2a3f5f"
            },
            "baxis": {
             "endlinecolor": "#2a3f5f",
             "gridcolor": "white",
             "linecolor": "white",
             "minorgridcolor": "white",
             "startlinecolor": "#2a3f5f"
            },
            "type": "carpet"
           }
          ],
          "choropleth": [
           {
            "colorbar": {
             "outlinewidth": 0,
             "ticks": ""
            },
            "type": "choropleth"
           }
          ],
          "contour": [
           {
            "colorbar": {
             "outlinewidth": 0,
             "ticks": ""
            },
            "colorscale": [
             [
              0,
              "#0d0887"
             ],
             [
              0.1111111111111111,
              "#46039f"
             ],
             [
              0.2222222222222222,
              "#7201a8"
             ],
             [
              0.3333333333333333,
              "#9c179e"
             ],
             [
              0.4444444444444444,
              "#bd3786"
             ],
             [
              0.5555555555555556,
              "#d8576b"
             ],
             [
              0.6666666666666666,
              "#ed7953"
             ],
             [
              0.7777777777777778,
              "#fb9f3a"
             ],
             [
              0.8888888888888888,
              "#fdca26"
             ],
             [
              1,
              "#f0f921"
             ]
            ],
            "type": "contour"
           }
          ],
          "contourcarpet": [
           {
            "colorbar": {
             "outlinewidth": 0,
             "ticks": ""
            },
            "type": "contourcarpet"
           }
          ],
          "heatmap": [
           {
            "colorbar": {
             "outlinewidth": 0,
             "ticks": ""
            },
            "colorscale": [
             [
              0,
              "#0d0887"
             ],
             [
              0.1111111111111111,
              "#46039f"
             ],
             [
              0.2222222222222222,
              "#7201a8"
             ],
             [
              0.3333333333333333,
              "#9c179e"
             ],
             [
              0.4444444444444444,
              "#bd3786"
             ],
             [
              0.5555555555555556,
              "#d8576b"
             ],
             [
              0.6666666666666666,
              "#ed7953"
             ],
             [
              0.7777777777777778,
              "#fb9f3a"
             ],
             [
              0.8888888888888888,
              "#fdca26"
             ],
             [
              1,
              "#f0f921"
             ]
            ],
            "type": "heatmap"
           }
          ],
          "heatmapgl": [
           {
            "colorbar": {
             "outlinewidth": 0,
             "ticks": ""
            },
            "colorscale": [
             [
              0,
              "#0d0887"
             ],
             [
              0.1111111111111111,
              "#46039f"
             ],
             [
              0.2222222222222222,
              "#7201a8"
             ],
             [
              0.3333333333333333,
              "#9c179e"
             ],
             [
              0.4444444444444444,
              "#bd3786"
             ],
             [
              0.5555555555555556,
              "#d8576b"
             ],
             [
              0.6666666666666666,
              "#ed7953"
             ],
             [
              0.7777777777777778,
              "#fb9f3a"
             ],
             [
              0.8888888888888888,
              "#fdca26"
             ],
             [
              1,
              "#f0f921"
             ]
            ],
            "type": "heatmapgl"
           }
          ],
          "histogram": [
           {
            "marker": {
             "pattern": {
              "fillmode": "overlay",
              "size": 10,
              "solidity": 0.2
             }
            },
            "type": "histogram"
           }
          ],
          "histogram2d": [
           {
            "colorbar": {
             "outlinewidth": 0,
             "ticks": ""
            },
            "colorscale": [
             [
              0,
              "#0d0887"
             ],
             [
              0.1111111111111111,
              "#46039f"
             ],
             [
              0.2222222222222222,
              "#7201a8"
             ],
             [
              0.3333333333333333,
              "#9c179e"
             ],
             [
              0.4444444444444444,
              "#bd3786"
             ],
             [
              0.5555555555555556,
              "#d8576b"
             ],
             [
              0.6666666666666666,
              "#ed7953"
             ],
             [
              0.7777777777777778,
              "#fb9f3a"
             ],
             [
              0.8888888888888888,
              "#fdca26"
             ],
             [
              1,
              "#f0f921"
             ]
            ],
            "type": "histogram2d"
           }
          ],
          "histogram2dcontour": [
           {
            "colorbar": {
             "outlinewidth": 0,
             "ticks": ""
            },
            "colorscale": [
             [
              0,
              "#0d0887"
             ],
             [
              0.1111111111111111,
              "#46039f"
             ],
             [
              0.2222222222222222,
              "#7201a8"
             ],
             [
              0.3333333333333333,
              "#9c179e"
             ],
             [
              0.4444444444444444,
              "#bd3786"
             ],
             [
              0.5555555555555556,
              "#d8576b"
             ],
             [
              0.6666666666666666,
              "#ed7953"
             ],
             [
              0.7777777777777778,
              "#fb9f3a"
             ],
             [
              0.8888888888888888,
              "#fdca26"
             ],
             [
              1,
              "#f0f921"
             ]
            ],
            "type": "histogram2dcontour"
           }
          ],
          "mesh3d": [
           {
            "colorbar": {
             "outlinewidth": 0,
             "ticks": ""
            },
            "type": "mesh3d"
           }
          ],
          "parcoords": [
           {
            "line": {
             "colorbar": {
              "outlinewidth": 0,
              "ticks": ""
             }
            },
            "type": "parcoords"
           }
          ],
          "pie": [
           {
            "automargin": true,
            "type": "pie"
           }
          ],
          "scatter": [
           {
            "fillpattern": {
             "fillmode": "overlay",
             "size": 10,
             "solidity": 0.2
            },
            "type": "scatter"
           }
          ],
          "scatter3d": [
           {
            "line": {
             "colorbar": {
              "outlinewidth": 0,
              "ticks": ""
             }
            },
            "marker": {
             "colorbar": {
              "outlinewidth": 0,
              "ticks": ""
             }
            },
            "type": "scatter3d"
           }
          ],
          "scattercarpet": [
           {
            "marker": {
             "colorbar": {
              "outlinewidth": 0,
              "ticks": ""
             }
            },
            "type": "scattercarpet"
           }
          ],
          "scattergeo": [
           {
            "marker": {
             "colorbar": {
              "outlinewidth": 0,
              "ticks": ""
             }
            },
            "type": "scattergeo"
           }
          ],
          "scattergl": [
           {
            "marker": {
             "colorbar": {
              "outlinewidth": 0,
              "ticks": ""
             }
            },
            "type": "scattergl"
           }
          ],
          "scattermapbox": [
           {
            "marker": {
             "colorbar": {
              "outlinewidth": 0,
              "ticks": ""
             }
            },
            "type": "scattermapbox"
           }
          ],
          "scatterpolar": [
           {
            "marker": {
             "colorbar": {
              "outlinewidth": 0,
              "ticks": ""
             }
            },
            "type": "scatterpolar"
           }
          ],
          "scatterpolargl": [
           {
            "marker": {
             "colorbar": {
              "outlinewidth": 0,
              "ticks": ""
             }
            },
            "type": "scatterpolargl"
           }
          ],
          "scatterternary": [
           {
            "marker": {
             "colorbar": {
              "outlinewidth": 0,
              "ticks": ""
             }
            },
            "type": "scatterternary"
           }
          ],
          "surface": [
           {
            "colorbar": {
             "outlinewidth": 0,
             "ticks": ""
            },
            "colorscale": [
             [
              0,
              "#0d0887"
             ],
             [
              0.1111111111111111,
              "#46039f"
             ],
             [
              0.2222222222222222,
              "#7201a8"
             ],
             [
              0.3333333333333333,
              "#9c179e"
             ],
             [
              0.4444444444444444,
              "#bd3786"
             ],
             [
              0.5555555555555556,
              "#d8576b"
             ],
             [
              0.6666666666666666,
              "#ed7953"
             ],
             [
              0.7777777777777778,
              "#fb9f3a"
             ],
             [
              0.8888888888888888,
              "#fdca26"
             ],
             [
              1,
              "#f0f921"
             ]
            ],
            "type": "surface"
           }
          ],
          "table": [
           {
            "cells": {
             "fill": {
              "color": "#EBF0F8"
             },
             "line": {
              "color": "white"
             }
            },
            "header": {
             "fill": {
              "color": "#C8D4E3"
             },
             "line": {
              "color": "white"
             }
            },
            "type": "table"
           }
          ]
         },
         "layout": {
          "annotationdefaults": {
           "arrowcolor": "#2a3f5f",
           "arrowhead": 0,
           "arrowwidth": 1
          },
          "autotypenumbers": "strict",
          "coloraxis": {
           "colorbar": {
            "outlinewidth": 0,
            "ticks": ""
           }
          },
          "colorscale": {
           "diverging": [
            [
             0,
             "#8e0152"
            ],
            [
             0.1,
             "#c51b7d"
            ],
            [
             0.2,
             "#de77ae"
            ],
            [
             0.3,
             "#f1b6da"
            ],
            [
             0.4,
             "#fde0ef"
            ],
            [
             0.5,
             "#f7f7f7"
            ],
            [
             0.6,
             "#e6f5d0"
            ],
            [
             0.7,
             "#b8e186"
            ],
            [
             0.8,
             "#7fbc41"
            ],
            [
             0.9,
             "#4d9221"
            ],
            [
             1,
             "#276419"
            ]
           ],
           "sequential": [
            [
             0,
             "#0d0887"
            ],
            [
             0.1111111111111111,
             "#46039f"
            ],
            [
             0.2222222222222222,
             "#7201a8"
            ],
            [
             0.3333333333333333,
             "#9c179e"
            ],
            [
             0.4444444444444444,
             "#bd3786"
            ],
            [
             0.5555555555555556,
             "#d8576b"
            ],
            [
             0.6666666666666666,
             "#ed7953"
            ],
            [
             0.7777777777777778,
             "#fb9f3a"
            ],
            [
             0.8888888888888888,
             "#fdca26"
            ],
            [
             1,
             "#f0f921"
            ]
           ],
           "sequentialminus": [
            [
             0,
             "#0d0887"
            ],
            [
             0.1111111111111111,
             "#46039f"
            ],
            [
             0.2222222222222222,
             "#7201a8"
            ],
            [
             0.3333333333333333,
             "#9c179e"
            ],
            [
             0.4444444444444444,
             "#bd3786"
            ],
            [
             0.5555555555555556,
             "#d8576b"
            ],
            [
             0.6666666666666666,
             "#ed7953"
            ],
            [
             0.7777777777777778,
             "#fb9f3a"
            ],
            [
             0.8888888888888888,
             "#fdca26"
            ],
            [
             1,
             "#f0f921"
            ]
           ]
          },
          "colorway": [
           "#636efa",
           "#EF553B",
           "#00cc96",
           "#ab63fa",
           "#FFA15A",
           "#19d3f3",
           "#FF6692",
           "#B6E880",
           "#FF97FF",
           "#FECB52"
          ],
          "font": {
           "color": "#2a3f5f"
          },
          "geo": {
           "bgcolor": "white",
           "lakecolor": "white",
           "landcolor": "#E5ECF6",
           "showlakes": true,
           "showland": true,
           "subunitcolor": "white"
          },
          "hoverlabel": {
           "align": "left"
          },
          "hovermode": "closest",
          "mapbox": {
           "style": "light"
          },
          "paper_bgcolor": "white",
          "plot_bgcolor": "#E5ECF6",
          "polar": {
           "angularaxis": {
            "gridcolor": "white",
            "linecolor": "white",
            "ticks": ""
           },
           "bgcolor": "#E5ECF6",
           "radialaxis": {
            "gridcolor": "white",
            "linecolor": "white",
            "ticks": ""
           }
          },
          "scene": {
           "xaxis": {
            "backgroundcolor": "#E5ECF6",
            "gridcolor": "white",
            "gridwidth": 2,
            "linecolor": "white",
            "showbackground": true,
            "ticks": "",
            "zerolinecolor": "white"
           },
           "yaxis": {
            "backgroundcolor": "#E5ECF6",
            "gridcolor": "white",
            "gridwidth": 2,
            "linecolor": "white",
            "showbackground": true,
            "ticks": "",
            "zerolinecolor": "white"
           },
           "zaxis": {
            "backgroundcolor": "#E5ECF6",
            "gridcolor": "white",
            "gridwidth": 2,
            "linecolor": "white",
            "showbackground": true,
            "ticks": "",
            "zerolinecolor": "white"
           }
          },
          "shapedefaults": {
           "line": {
            "color": "#2a3f5f"
           }
          },
          "ternary": {
           "aaxis": {
            "gridcolor": "white",
            "linecolor": "white",
            "ticks": ""
           },
           "baxis": {
            "gridcolor": "white",
            "linecolor": "white",
            "ticks": ""
           },
           "bgcolor": "#E5ECF6",
           "caxis": {
            "gridcolor": "white",
            "linecolor": "white",
            "ticks": ""
           }
          },
          "title": {
           "x": 0.05
          },
          "xaxis": {
           "automargin": true,
           "gridcolor": "white",
           "linecolor": "white",
           "ticks": "",
           "title": {
            "standoff": 15
           },
           "zerolinecolor": "white",
           "zerolinewidth": 2
          },
          "yaxis": {
           "automargin": true,
           "gridcolor": "white",
           "linecolor": "white",
           "ticks": "",
           "title": {
            "standoff": 15
           },
           "zerolinecolor": "white",
           "zerolinewidth": 2
          }
         }
        },
        "title": {
         "text": "Eficiência de delivery, Delay e Quantidade de pedidos | Domino's"
        },
        "xaxis": {
         "anchor": "y",
         "domain": [
          0,
          1
         ],
         "gridcolor": "lightgray",
         "showgrid": true,
         "title": {
          "text": ""
         }
        },
        "yaxis": {
         "anchor": "x",
         "domain": [
          0,
          1
         ],
         "gridcolor": "lightgray",
         "range": [
          0,
          60
         ],
         "showgrid": true,
         "title": {
          "text": ""
         }
        }
       }
      }
     },
     "metadata": {},
     "output_type": "display_data"
    }
   ],
   "source": [
    "def grafico_linhas(restaurante):\n",
    "\n",
    "    df_tmp = df_pizza[df_pizza['Restaurant Name'] == restaurante]\n",
    "    qtd_pedidos = df_tmp[['Order Hour']].value_counts().reset_index(name='value').assign(variable='Qtd de pedidos')\n",
    "    eficiencia = df_tmp.groupby(['Order Hour'])['Delivery Efficiency (min/km)'].mean().reset_index(name='value').assign(variable='Delivery Efficiency (min/km)')\n",
    "    delay = df_tmp.groupby(['Order Hour'])['Delay (min)'].mean().reset_index(name='value').assign(variable='Delay (min)')\n",
    "    df_plot_raw = pd.concat([eficiencia, delay, qtd_pedidos])\n",
    "\n",
    "    # Obter todos os valores únicos\n",
    "    # all_restaurants = df_plot_raw['Restaurant Name'].unique()\n",
    "    all_hours = sorted(df_tmp['Order Hour'].unique())\n",
    "    all_variables = df_plot_raw['variable'].unique()\n",
    "\n",
    "    # Criar produto cartesiano\n",
    "    full_grid = (\n",
    "        pd.MultiIndex.from_product(\n",
    "            [all_hours, all_variables],\n",
    "            names=['Order Hour', 'variable']\n",
    "        )\n",
    "        .to_frame(index=False)\n",
    "    )\n",
    "\n",
    "    df_plot = full_grid.merge(df_plot_raw, on=['Order Hour', 'variable'], how='left')\n",
    "\n",
    "    # Garantir que Order Hour é categórico ordenado\n",
    "    df_plot['Order Hour'] = pd.Categorical(df_plot['Order Hour'], categories=all_hours, ordered=True)\n",
    "\n",
    "    # Ordenar corretamente\n",
    "    df_plot = df_plot.sort_values(['variable', 'Order Hour'])\n",
    "\n",
    "    # Criar o gráfico\n",
    "    fig = px.line(\n",
    "        df_plot,\n",
    "        x='Order Hour',\n",
    "        y='value',\n",
    "        markers=True,\n",
    "        color = 'variable'\n",
    "    )\n",
    "\n",
    "    fig.update_yaxes(range=[0, 60], title = '', showgrid=True, gridcolor='lightgray')\n",
    "    fig.update_xaxes(title = '', showgrid=True, gridcolor='lightgray')\n",
    "\n",
    "    fig.update_traces(connectgaps=True)\n",
    "    fig.for_each_annotation(lambda a: a.update(text=a.text.split(\"=\")[-1]))\n",
    "\n",
    "    fig.update_layout(\n",
    "        legend=dict(orientation=\"h\",\n",
    "                    yanchor=\"bottom\",\n",
    "                    y=-0.5,\n",
    "                    xanchor=\"center\",\n",
    "                    x=0.5,\n",
    "                    title = ''),\n",
    "        height = 600,\n",
    "        plot_bgcolor = 'white',\n",
    "        title = f\"Eficiência de delivery, Delay e Quantidade de pedidos | {restaurante}\")\n",
    "\n",
    "    fig.show()\n",
    "\n",
    "grafico_linhas(restaurante = \"Domino's\")"
   ]
  },
  {
   "cell_type": "markdown",
   "metadata": {},
   "source": [
    "### Gráfico de bolhas duração do delivery x distância"
   ]
  },
  {
   "cell_type": "code",
   "execution_count": 100,
   "metadata": {},
   "outputs": [
    {
     "data": {
      "application/vnd.plotly.v1+json": {
       "config": {
        "plotlyServerURL": "https://plot.ly"
       },
       "data": [
        {
         "hovertemplate": "Distance (km)=%{x}<br>Delivery Duration (min)=%{y}<br>count=%{marker.size}<extra></extra>",
         "legendgroup": "",
         "marker": {
          "color": "#636efa",
          "size": [
           60,
           28,
           16,
           15,
           14,
           13,
           13,
           13,
           8,
           7,
           3,
           3,
           2,
           2,
           2,
           2,
           2,
           1,
           1,
           1,
           1,
           1,
           1,
           1,
           1,
           1
          ],
          "sizemode": "area",
          "sizeref": 0.15,
          "symbol": "circle"
         },
         "mode": "markers",
         "name": "",
         "orientation": "v",
         "showlegend": false,
         "type": "scatter",
         "x": [
          5.5,
          3,
          10,
          5.5,
          9,
          4,
          4.5,
          5,
          4.5,
          6,
          7,
          5.4,
          5.4,
          5,
          6,
          6.5,
          3.5,
          2.5,
          5,
          4.5,
          6,
          6.3,
          6.5,
          8,
          2.5,
          2
         ],
         "xaxis": "x",
         "y": [
          30,
          20,
          50,
          35,
          45,
          20,
          20,
          25,
          25,
          30,
          45,
          35,
          30,
          35,
          40,
          40,
          20,
          15,
          40,
          35,
          35,
          40,
          30,
          40,
          20,
          20
         ],
         "yaxis": "y"
        }
       ],
       "layout": {
        "height": 600,
        "legend": {
         "itemsizing": "constant",
         "tracegroupgap": 0
        },
        "margin": {
         "t": 60
        },
        "plot_bgcolor": "white",
        "template": {
         "data": {
          "bar": [
           {
            "error_x": {
             "color": "#2a3f5f"
            },
            "error_y": {
             "color": "#2a3f5f"
            },
            "marker": {
             "line": {
              "color": "#E5ECF6",
              "width": 0.5
             },
             "pattern": {
              "fillmode": "overlay",
              "size": 10,
              "solidity": 0.2
             }
            },
            "type": "bar"
           }
          ],
          "barpolar": [
           {
            "marker": {
             "line": {
              "color": "#E5ECF6",
              "width": 0.5
             },
             "pattern": {
              "fillmode": "overlay",
              "size": 10,
              "solidity": 0.2
             }
            },
            "type": "barpolar"
           }
          ],
          "carpet": [
           {
            "aaxis": {
             "endlinecolor": "#2a3f5f",
             "gridcolor": "white",
             "linecolor": "white",
             "minorgridcolor": "white",
             "startlinecolor": "#2a3f5f"
            },
            "baxis": {
             "endlinecolor": "#2a3f5f",
             "gridcolor": "white",
             "linecolor": "white",
             "minorgridcolor": "white",
             "startlinecolor": "#2a3f5f"
            },
            "type": "carpet"
           }
          ],
          "choropleth": [
           {
            "colorbar": {
             "outlinewidth": 0,
             "ticks": ""
            },
            "type": "choropleth"
           }
          ],
          "contour": [
           {
            "colorbar": {
             "outlinewidth": 0,
             "ticks": ""
            },
            "colorscale": [
             [
              0,
              "#0d0887"
             ],
             [
              0.1111111111111111,
              "#46039f"
             ],
             [
              0.2222222222222222,
              "#7201a8"
             ],
             [
              0.3333333333333333,
              "#9c179e"
             ],
             [
              0.4444444444444444,
              "#bd3786"
             ],
             [
              0.5555555555555556,
              "#d8576b"
             ],
             [
              0.6666666666666666,
              "#ed7953"
             ],
             [
              0.7777777777777778,
              "#fb9f3a"
             ],
             [
              0.8888888888888888,
              "#fdca26"
             ],
             [
              1,
              "#f0f921"
             ]
            ],
            "type": "contour"
           }
          ],
          "contourcarpet": [
           {
            "colorbar": {
             "outlinewidth": 0,
             "ticks": ""
            },
            "type": "contourcarpet"
           }
          ],
          "heatmap": [
           {
            "colorbar": {
             "outlinewidth": 0,
             "ticks": ""
            },
            "colorscale": [
             [
              0,
              "#0d0887"
             ],
             [
              0.1111111111111111,
              "#46039f"
             ],
             [
              0.2222222222222222,
              "#7201a8"
             ],
             [
              0.3333333333333333,
              "#9c179e"
             ],
             [
              0.4444444444444444,
              "#bd3786"
             ],
             [
              0.5555555555555556,
              "#d8576b"
             ],
             [
              0.6666666666666666,
              "#ed7953"
             ],
             [
              0.7777777777777778,
              "#fb9f3a"
             ],
             [
              0.8888888888888888,
              "#fdca26"
             ],
             [
              1,
              "#f0f921"
             ]
            ],
            "type": "heatmap"
           }
          ],
          "heatmapgl": [
           {
            "colorbar": {
             "outlinewidth": 0,
             "ticks": ""
            },
            "colorscale": [
             [
              0,
              "#0d0887"
             ],
             [
              0.1111111111111111,
              "#46039f"
             ],
             [
              0.2222222222222222,
              "#7201a8"
             ],
             [
              0.3333333333333333,
              "#9c179e"
             ],
             [
              0.4444444444444444,
              "#bd3786"
             ],
             [
              0.5555555555555556,
              "#d8576b"
             ],
             [
              0.6666666666666666,
              "#ed7953"
             ],
             [
              0.7777777777777778,
              "#fb9f3a"
             ],
             [
              0.8888888888888888,
              "#fdca26"
             ],
             [
              1,
              "#f0f921"
             ]
            ],
            "type": "heatmapgl"
           }
          ],
          "histogram": [
           {
            "marker": {
             "pattern": {
              "fillmode": "overlay",
              "size": 10,
              "solidity": 0.2
             }
            },
            "type": "histogram"
           }
          ],
          "histogram2d": [
           {
            "colorbar": {
             "outlinewidth": 0,
             "ticks": ""
            },
            "colorscale": [
             [
              0,
              "#0d0887"
             ],
             [
              0.1111111111111111,
              "#46039f"
             ],
             [
              0.2222222222222222,
              "#7201a8"
             ],
             [
              0.3333333333333333,
              "#9c179e"
             ],
             [
              0.4444444444444444,
              "#bd3786"
             ],
             [
              0.5555555555555556,
              "#d8576b"
             ],
             [
              0.6666666666666666,
              "#ed7953"
             ],
             [
              0.7777777777777778,
              "#fb9f3a"
             ],
             [
              0.8888888888888888,
              "#fdca26"
             ],
             [
              1,
              "#f0f921"
             ]
            ],
            "type": "histogram2d"
           }
          ],
          "histogram2dcontour": [
           {
            "colorbar": {
             "outlinewidth": 0,
             "ticks": ""
            },
            "colorscale": [
             [
              0,
              "#0d0887"
             ],
             [
              0.1111111111111111,
              "#46039f"
             ],
             [
              0.2222222222222222,
              "#7201a8"
             ],
             [
              0.3333333333333333,
              "#9c179e"
             ],
             [
              0.4444444444444444,
              "#bd3786"
             ],
             [
              0.5555555555555556,
              "#d8576b"
             ],
             [
              0.6666666666666666,
              "#ed7953"
             ],
             [
              0.7777777777777778,
              "#fb9f3a"
             ],
             [
              0.8888888888888888,
              "#fdca26"
             ],
             [
              1,
              "#f0f921"
             ]
            ],
            "type": "histogram2dcontour"
           }
          ],
          "mesh3d": [
           {
            "colorbar": {
             "outlinewidth": 0,
             "ticks": ""
            },
            "type": "mesh3d"
           }
          ],
          "parcoords": [
           {
            "line": {
             "colorbar": {
              "outlinewidth": 0,
              "ticks": ""
             }
            },
            "type": "parcoords"
           }
          ],
          "pie": [
           {
            "automargin": true,
            "type": "pie"
           }
          ],
          "scatter": [
           {
            "fillpattern": {
             "fillmode": "overlay",
             "size": 10,
             "solidity": 0.2
            },
            "type": "scatter"
           }
          ],
          "scatter3d": [
           {
            "line": {
             "colorbar": {
              "outlinewidth": 0,
              "ticks": ""
             }
            },
            "marker": {
             "colorbar": {
              "outlinewidth": 0,
              "ticks": ""
             }
            },
            "type": "scatter3d"
           }
          ],
          "scattercarpet": [
           {
            "marker": {
             "colorbar": {
              "outlinewidth": 0,
              "ticks": ""
             }
            },
            "type": "scattercarpet"
           }
          ],
          "scattergeo": [
           {
            "marker": {
             "colorbar": {
              "outlinewidth": 0,
              "ticks": ""
             }
            },
            "type": "scattergeo"
           }
          ],
          "scattergl": [
           {
            "marker": {
             "colorbar": {
              "outlinewidth": 0,
              "ticks": ""
             }
            },
            "type": "scattergl"
           }
          ],
          "scattermapbox": [
           {
            "marker": {
             "colorbar": {
              "outlinewidth": 0,
              "ticks": ""
             }
            },
            "type": "scattermapbox"
           }
          ],
          "scatterpolar": [
           {
            "marker": {
             "colorbar": {
              "outlinewidth": 0,
              "ticks": ""
             }
            },
            "type": "scatterpolar"
           }
          ],
          "scatterpolargl": [
           {
            "marker": {
             "colorbar": {
              "outlinewidth": 0,
              "ticks": ""
             }
            },
            "type": "scatterpolargl"
           }
          ],
          "scatterternary": [
           {
            "marker": {
             "colorbar": {
              "outlinewidth": 0,
              "ticks": ""
             }
            },
            "type": "scatterternary"
           }
          ],
          "surface": [
           {
            "colorbar": {
             "outlinewidth": 0,
             "ticks": ""
            },
            "colorscale": [
             [
              0,
              "#0d0887"
             ],
             [
              0.1111111111111111,
              "#46039f"
             ],
             [
              0.2222222222222222,
              "#7201a8"
             ],
             [
              0.3333333333333333,
              "#9c179e"
             ],
             [
              0.4444444444444444,
              "#bd3786"
             ],
             [
              0.5555555555555556,
              "#d8576b"
             ],
             [
              0.6666666666666666,
              "#ed7953"
             ],
             [
              0.7777777777777778,
              "#fb9f3a"
             ],
             [
              0.8888888888888888,
              "#fdca26"
             ],
             [
              1,
              "#f0f921"
             ]
            ],
            "type": "surface"
           }
          ],
          "table": [
           {
            "cells": {
             "fill": {
              "color": "#EBF0F8"
             },
             "line": {
              "color": "white"
             }
            },
            "header": {
             "fill": {
              "color": "#C8D4E3"
             },
             "line": {
              "color": "white"
             }
            },
            "type": "table"
           }
          ]
         },
         "layout": {
          "annotationdefaults": {
           "arrowcolor": "#2a3f5f",
           "arrowhead": 0,
           "arrowwidth": 1
          },
          "autotypenumbers": "strict",
          "coloraxis": {
           "colorbar": {
            "outlinewidth": 0,
            "ticks": ""
           }
          },
          "colorscale": {
           "diverging": [
            [
             0,
             "#8e0152"
            ],
            [
             0.1,
             "#c51b7d"
            ],
            [
             0.2,
             "#de77ae"
            ],
            [
             0.3,
             "#f1b6da"
            ],
            [
             0.4,
             "#fde0ef"
            ],
            [
             0.5,
             "#f7f7f7"
            ],
            [
             0.6,
             "#e6f5d0"
            ],
            [
             0.7,
             "#b8e186"
            ],
            [
             0.8,
             "#7fbc41"
            ],
            [
             0.9,
             "#4d9221"
            ],
            [
             1,
             "#276419"
            ]
           ],
           "sequential": [
            [
             0,
             "#0d0887"
            ],
            [
             0.1111111111111111,
             "#46039f"
            ],
            [
             0.2222222222222222,
             "#7201a8"
            ],
            [
             0.3333333333333333,
             "#9c179e"
            ],
            [
             0.4444444444444444,
             "#bd3786"
            ],
            [
             0.5555555555555556,
             "#d8576b"
            ],
            [
             0.6666666666666666,
             "#ed7953"
            ],
            [
             0.7777777777777778,
             "#fb9f3a"
            ],
            [
             0.8888888888888888,
             "#fdca26"
            ],
            [
             1,
             "#f0f921"
            ]
           ],
           "sequentialminus": [
            [
             0,
             "#0d0887"
            ],
            [
             0.1111111111111111,
             "#46039f"
            ],
            [
             0.2222222222222222,
             "#7201a8"
            ],
            [
             0.3333333333333333,
             "#9c179e"
            ],
            [
             0.4444444444444444,
             "#bd3786"
            ],
            [
             0.5555555555555556,
             "#d8576b"
            ],
            [
             0.6666666666666666,
             "#ed7953"
            ],
            [
             0.7777777777777778,
             "#fb9f3a"
            ],
            [
             0.8888888888888888,
             "#fdca26"
            ],
            [
             1,
             "#f0f921"
            ]
           ]
          },
          "colorway": [
           "#636efa",
           "#EF553B",
           "#00cc96",
           "#ab63fa",
           "#FFA15A",
           "#19d3f3",
           "#FF6692",
           "#B6E880",
           "#FF97FF",
           "#FECB52"
          ],
          "font": {
           "color": "#2a3f5f"
          },
          "geo": {
           "bgcolor": "white",
           "lakecolor": "white",
           "landcolor": "#E5ECF6",
           "showlakes": true,
           "showland": true,
           "subunitcolor": "white"
          },
          "hoverlabel": {
           "align": "left"
          },
          "hovermode": "closest",
          "mapbox": {
           "style": "light"
          },
          "paper_bgcolor": "white",
          "plot_bgcolor": "#E5ECF6",
          "polar": {
           "angularaxis": {
            "gridcolor": "white",
            "linecolor": "white",
            "ticks": ""
           },
           "bgcolor": "#E5ECF6",
           "radialaxis": {
            "gridcolor": "white",
            "linecolor": "white",
            "ticks": ""
           }
          },
          "scene": {
           "xaxis": {
            "backgroundcolor": "#E5ECF6",
            "gridcolor": "white",
            "gridwidth": 2,
            "linecolor": "white",
            "showbackground": true,
            "ticks": "",
            "zerolinecolor": "white"
           },
           "yaxis": {
            "backgroundcolor": "#E5ECF6",
            "gridcolor": "white",
            "gridwidth": 2,
            "linecolor": "white",
            "showbackground": true,
            "ticks": "",
            "zerolinecolor": "white"
           },
           "zaxis": {
            "backgroundcolor": "#E5ECF6",
            "gridcolor": "white",
            "gridwidth": 2,
            "linecolor": "white",
            "showbackground": true,
            "ticks": "",
            "zerolinecolor": "white"
           }
          },
          "shapedefaults": {
           "line": {
            "color": "#2a3f5f"
           }
          },
          "ternary": {
           "aaxis": {
            "gridcolor": "white",
            "linecolor": "white",
            "ticks": ""
           },
           "baxis": {
            "gridcolor": "white",
            "linecolor": "white",
            "ticks": ""
           },
           "bgcolor": "#E5ECF6",
           "caxis": {
            "gridcolor": "white",
            "linecolor": "white",
            "ticks": ""
           }
          },
          "title": {
           "x": 0.05
          },
          "xaxis": {
           "automargin": true,
           "gridcolor": "white",
           "linecolor": "white",
           "ticks": "",
           "title": {
            "standoff": 15
           },
           "zerolinecolor": "white",
           "zerolinewidth": 2
          },
          "yaxis": {
           "automargin": true,
           "gridcolor": "white",
           "linecolor": "white",
           "ticks": "",
           "title": {
            "standoff": 15
           },
           "zerolinecolor": "white",
           "zerolinewidth": 2
          }
         }
        },
        "title": {
         "text": "Duração de delivery vs. Distância | Domino's"
        },
        "xaxis": {
         "anchor": "y",
         "domain": [
          0,
          1
         ],
         "gridcolor": "lightgray",
         "showgrid": true,
         "title": {
          "text": "Distance (km)"
         }
        },
        "yaxis": {
         "anchor": "x",
         "domain": [
          0,
          1
         ],
         "gridcolor": "lightgray",
         "range": [
          0,
          60
         ],
         "showgrid": true,
         "title": {
          "text": "Delivery Duration (min)"
         }
        }
       }
      }
     },
     "metadata": {},
     "output_type": "display_data"
    }
   ],
   "source": [
    "def grafico_bolhas(restaurante):\n",
    "    df_tmp = df_pizza[df_pizza['Restaurant Name'] == restaurante]\n",
    "    fig = px.scatter(df_tmp[['Distance (km)', 'Delivery Duration (min)']].value_counts().reset_index(),\n",
    "            x = 'Distance (km)', y = 'Delivery Duration (min)', \n",
    "            size = 'count')\n",
    "    fig.update_yaxes(range=[0, 60], showgrid=True, gridcolor='lightgray')\n",
    "    fig.update_xaxes(showgrid=True, gridcolor='lightgray')\n",
    "    fig.update_layout(plot_bgcolor = 'white', height = 600, title = f\"Duração de delivery vs. Distância | {restaurante}\")\n",
    "    fig.show()\n",
    "\n",
    "grafico_bolhas(restaurante = \"Domino's\")"
   ]
  },
  {
   "cell_type": "markdown",
   "metadata": {},
   "source": [
    "## Gráfico com dropdown"
   ]
  },
  {
   "cell_type": "code",
   "execution_count": 105,
   "metadata": {},
   "outputs": [
    {
     "ename": "ValueError",
     "evalue": "\n    Invalid element(s) received for the 'data' property of \n        Invalid elements include: [Figure({\n    'data': [{'colorscale': [[0.0, 'rgb(255,245,240)'], [0.125,\n                             'rgb(254,224,210)'], [0.25, 'rgb(252,187,161)'],\n                             [0.375, 'rgb(252,146,114)'], [0.5, 'rgb(251,106,74)'],\n                             [0.625, 'rgb(239,59,44)'], [0.75, 'rgb(203,24,29)'],\n                             [0.875, 'rgb(165,15,21)'], [1.0, 'rgb(103,0,13)']],\n              'customdata': array(['New York (NY)', 'Washington (WA)', 'Florida (FL)', 'Colorado (CO)',\n                                   'California (CA)'], dtype=object),\n              'hovertemplate': '%{customdata}<br>%{z}<extra></extra>',\n              'locationmode': 'USA-states',\n              'locations': array(['NY', 'WA', 'FL', 'CO', 'CA'], dtype=object),\n              'type': 'choropleth',\n              'visible': True,\n              'z': array([2, 1, 1, 1, 1], dtype=int64),\n              'zmax': 7,\n              'zmin': 1},\n             {'colorscale': [[0.0, 'rgb(255,245,240)'], [0.125,\n                             'rgb(254,224,210)'], [0.25, 'rgb(252,187,161)'],\n                             [0.375, 'rgb(252,146,114)'], [0.5, 'rgb(251,106,74)'],\n                             [0.625, 'rgb(239,59,44)'], [0.75, 'rgb(203,24,29)'],\n                             [0.875, 'rgb(165,15,21)'], [1.0, 'rgb(103,0,13)']],\n              'customdata': array(['California (CA)', 'Washington (WA)', 'Texas (TX)', 'Florida (FL)',\n                                   'Colorado (CO)'], dtype=object),\n              'hovertemplate': '%{customdata}<br>%{z}<extra></extra>',\n              'locationmode': 'USA-states',\n              'locations': array(['CA', 'WA', 'TX', 'FL', 'CO'], dtype=object),\n              'type': 'choropleth',\n              'visible': False,\n              'z': array([2, 1, 1, 1, 1], dtype=int64),\n              'zmax': 7,\n              'zmin': 1},\n             {'colorscale': [[0.0, 'rgb(255,245,240)'], [0.125,\n                             'rgb(254,224,210)'], [0.25, 'rgb(252,187,161)'],\n                             [0.375, 'rgb(252,146,114)'], [0.5, 'rgb(251,106,74)'],\n                             [0.625, 'rgb(239,59,44)'], [0.75, 'rgb(203,24,29)'],\n                             [0.875, 'rgb(165,15,21)'], [1.0, 'rgb(103,0,13)']],\n              'customdata': array(['Florida (FL)', 'Colorado (CO)', 'Washington (WA)', 'California (CA)'],\n                                  dtype=object),\n              'hovertemplate': '%{customdata}<br>%{z}<extra></extra>',\n              'locationmode': 'USA-states',\n              'locations': array(['FL', 'CO', 'WA', 'CA'], dtype=object),\n              'type': 'choropleth',\n              'visible': False,\n              'z': array([2, 2, 1, 1], dtype=int64),\n              'zmax': 7,\n              'zmin': 1},\n             {'colorscale': [[0.0, 'rgb(255,245,240)'], [0.125,\n                             'rgb(254,224,210)'], [0.25, 'rgb(252,187,161)'],\n                             [0.375, 'rgb(252,146,114)'], [0.5, 'rgb(251,106,74)'],\n                             [0.625, 'rgb(239,59,44)'], [0.75, 'rgb(203,24,29)'],\n                             [0.875, 'rgb(165,15,21)'], [1.0, 'rgb(103,0,13)']],\n              'customdata': array(['Washington (WA)', 'California (CA)', 'Florida (FL)', 'Colorado (CO)'],\n                                  dtype=object),\n              'hovertemplate': '%{customdata}<br>%{z}<extra></extra>',\n              'locationmode': 'USA-states',\n              'locations': array(['WA', 'CA', 'FL', 'CO'], dtype=object),\n              'type': 'choropleth',\n              'visible': False,\n              'z': array([2, 2, 1, 1], dtype=int64),\n              'zmax': 7,\n              'zmin': 1},\n             {'colorscale': [[0.0, 'rgb(255,245,240)'], [0.125,\n                             'rgb(254,224,210)'], [0.25, 'rgb(252,187,161)'],\n                             [0.375, 'rgb(252,146,114)'], [0.5, 'rgb(251,106,74)'],\n                             [0.625, 'rgb(239,59,44)'], [0.75, 'rgb(203,24,29)'],\n                             [0.875, 'rgb(165,15,21)'], [1.0, 'rgb(103,0,13)']],\n              'customdata': array(['Washington (WA)'], dtype=object),\n              'hovertemplate': '%{customdata}<br>%{z}<extra></extra>',\n              'locationmode': 'USA-states',\n              'locations': array(['WA'], dtype=object),\n              'type': 'choropleth',\n              'visible': False,\n              'z': array([1], dtype=int64),\n              'zmax': 7,\n              'zmin': 1},\n             {'colorscale': [[0.0, 'rgb(255,245,240)'], [0.125,\n                             'rgb(254,224,210)'], [0.25, 'rgb(252,187,161)'],\n                             [0.375, 'rgb(252,146,114)'], [0.5, 'rgb(251,106,74)'],\n                             [0.625, 'rgb(239,59,44)'], [0.75, 'rgb(203,24,29)'],\n                             [0.875, 'rgb(165,15,21)'], [1.0, 'rgb(103,0,13)']],\n              'customdata': array(['Florida (FL)', 'Colorado (CO)'], dtype=object),\n              'hovertemplate': '%{customdata}<br>%{z}<extra></extra>',\n              'locationmode': 'USA-states',\n              'locations': array(['FL', 'CO'], dtype=object),\n              'type': 'choropleth',\n              'visible': False,\n              'z': array([1, 1], dtype=int64),\n              'zmax': 7,\n              'zmin': 1},\n             {'colorscale': [[0.0, 'rgb(255,245,240)'], [0.125,\n                             'rgb(254,224,210)'], [0.25, 'rgb(252,187,161)'],\n                             [0.375, 'rgb(252,146,114)'], [0.5, 'rgb(251,106,74)'],\n                             [0.625, 'rgb(239,59,44)'], [0.75, 'rgb(203,24,29)'],\n                             [0.875, 'rgb(165,15,21)'], [1.0, 'rgb(103,0,13)']],\n              'customdata': array(['Florida (FL)', 'Colorado (CO)', 'New York (NY)', 'California (CA)'],\n                                  dtype=object),\n              'hovertemplate': '%{customdata}<br>%{z}<extra></extra>',\n              'locationmode': 'USA-states',\n              'locations': array(['FL', 'CO', 'NY', 'CA'], dtype=object),\n              'type': 'choropleth',\n              'visible': False,\n              'z': array([3, 2, 1, 1], dtype=int64),\n              'zmax': 7,\n              'zmin': 1},\n             {'colorscale': [[0.0, 'rgb(255,245,240)'], [0.125,\n                             'rgb(254,224,210)'], [0.25, 'rgb(252,187,161)'],\n                             [0.375, 'rgb(252,146,114)'], [0.5, 'rgb(251,106,74)'],\n                             [0.625, 'rgb(239,59,44)'], [0.75, 'rgb(203,24,29)'],\n                             [0.875, 'rgb(165,15,21)'], [1.0, 'rgb(103,0,13)']],\n              'customdata': array(['Florida (FL)', 'New York (NY)', 'Colorado (CO)', 'Ohio (OH)',\n                                   'Michigan (MI)', 'California (CA)'], dtype=object),\n              'hovertemplate': '%{customdata}<br>%{z}<extra></extra>',\n              'locationmode': 'USA-states',\n              'locations': array(['FL', 'NY', 'CO', 'OH', 'MI', 'CA'], dtype=object),\n              'type': 'choropleth',\n              'visible': False,\n              'z': array([7, 5, 3, 1, 1, 1], dtype=int64),\n              'zmax': 7,\n              'zmin': 1},\n             {'colorscale': [[0.0, 'rgb(255,245,240)'], [0.125,\n                             'rgb(254,224,210)'], [0.25, 'rgb(252,187,161)'],\n                             [0.375, 'rgb(252,146,114)'], [0.5, 'rgb(251,106,74)'],\n                             [0.625, 'rgb(239,59,44)'], [0.75, 'rgb(203,24,29)'],\n                             [0.875, 'rgb(165,15,21)'], [1.0, 'rgb(103,0,13)']],\n              'customdata': array(['Florida (FL)', 'California (CA)', 'New York (NY)', 'Colorado (CO)',\n                                   'Texas (TX)', 'Washington (WA)', 'Ohio (OH)', 'Illinois (IL)',\n                                   'Michigan (MI)', 'Massachusetts (MA)'], dtype=object),\n              'hovertemplate': '%{customdata}<br>%{z}<extra></extra>',\n              'locationmode': 'USA-states',\n              'locations': array(['FL', 'CA', 'NY', 'CO', 'TX', 'WA', 'OH', 'IL', 'MI', 'MA'],\n                                 dtype=object),\n              'type': 'choropleth',\n              'visible': False,\n              'z': array([6, 4, 4, 3, 2, 1, 1, 1, 1, 1], dtype=int64),\n              'zmax': 7,\n              'zmin': 1},\n             {'colorscale': [[0.0, 'rgb(255,245,240)'], [0.125,\n                             'rgb(254,224,210)'], [0.25, 'rgb(252,187,161)'],\n                             [0.375, 'rgb(252,146,114)'], [0.5, 'rgb(251,106,74)'],\n                             [0.625, 'rgb(239,59,44)'], [0.75, 'rgb(203,24,29)'],\n                             [0.875, 'rgb(165,15,21)'], [1.0, 'rgb(103,0,13)']],\n              'customdata': array(['Florida (FL)', 'California (CA)', 'New York (NY)', 'Ohio (OH)',\n                                   'Michigan (MI)'], dtype=object),\n              'hovertemplate': '%{customdata}<br>%{z}<extra></extra>',\n              'locationmode': 'USA-states',\n              'locations': array(['FL', 'CA', 'NY', 'OH', 'MI'], dtype=object),\n              'type': 'choropleth',\n              'visible': False,\n              'z': array([3, 2, 2, 1, 1], dtype=int64),\n              'zmax': 7,\n              'zmin': 1},\n             {'colorscale': [[0.0, 'rgb(255,245,240)'], [0.125,\n                             'rgb(254,224,210)'], [0.25, 'rgb(252,187,161)'],\n                             [0.375, 'rgb(252,146,114)'], [0.5, 'rgb(251,106,74)'],\n                             [0.625, 'rgb(239,59,44)'], [0.75, 'rgb(203,24,29)'],\n                             [0.875, 'rgb(165,15,21)'], [1.0, 'rgb(103,0,13)']],\n              'customdata': array(['Florida (FL)', 'New York (NY)', 'Ohio (OH)', 'California (CA)',\n                                   'Michigan (MI)'], dtype=object),\n              'hovertemplate': '%{customdata}<br>%{z}<extra></extra>',\n              'locationmode': 'USA-states',\n              'locations': array(['FL', 'NY', 'OH', 'CA', 'MI'], dtype=object),\n              'type': 'choropleth',\n              'visible': False,\n              'z': array([2, 1, 1, 1, 1], dtype=int64),\n              'zmax': 7,\n              'zmin': 1},\n             {'colorscale': [[0.0, 'rgb(255,245,240)'], [0.125,\n                             'rgb(254,224,210)'], [0.25, 'rgb(252,187,161)'],\n                             [0.375, 'rgb(252,146,114)'], [0.5, 'rgb(251,106,74)'],\n                             [0.625, 'rgb(239,59,44)'], [0.75, 'rgb(203,24,29)'],\n                             [0.875, 'rgb(165,15,21)'], [1.0, 'rgb(103,0,13)']],\n              'customdata': array(['Florida (FL)', 'Ohio (OH)', 'New York (NY)', 'California (CA)',\n                                   'Michigan (MI)'], dtype=object),\n              'hovertemplate': '%{customdata}<br>%{z}<extra></extra>',\n              'locationmode': 'USA-states',\n              'locations': array(['FL', 'OH', 'NY', 'CA', 'MI'], dtype=object),\n              'type': 'choropleth',\n              'visible': False,\n              'z': array([4, 2, 1, 1, 1], dtype=int64),\n              'zmax': 7,\n              'zmin': 1},\n             {'colorscale': [[0.0, 'rgb(255,245,240)'], [0.125,\n                             'rgb(254,224,210)'], [0.25, 'rgb(252,187,161)'],\n                             [0.375, 'rgb(252,146,114)'], [0.5, 'rgb(251,106,74)'],\n                             [0.625, 'rgb(239,59,44)'], [0.75, 'rgb(203,24,29)'],\n                             [0.875, 'rgb(165,15,21)'], [1.0, 'rgb(103,0,13)']],\n              'customdata': array(['Florida (FL)', 'New York (NY)', 'Arizona (AZ)', 'California (CA)',\n                                   'North Carolina (NC)', 'Michigan (MI)'], dtype=object),\n              'hovertemplate': '%{customdata}<br>%{z}<extra></extra>',\n              'locationmode': 'USA-states',\n              'locations': array(['FL', 'NY', 'AZ', 'CA', 'NC', 'MI'], dtype=object),\n              'type': 'choropleth',\n              'visible': False,\n              'z': array([2, 2, 1, 1, 1, 1], dtype=int64),\n              'zmax': 7,\n              'zmin': 1},\n             {'colorscale': [[0.0, 'rgb(255,245,240)'], [0.125,\n                             'rgb(254,224,210)'], [0.25, 'rgb(252,187,161)'],\n                             [0.375, 'rgb(252,146,114)'], [0.5, 'rgb(251,106,74)'],\n                             [0.625, 'rgb(239,59,44)'], [0.75, 'rgb(203,24,29)'],\n                             [0.875, 'rgb(165,15,21)'], [1.0, 'rgb(103,0,13)']],\n              'customdata': array([nan, 'Florida (FL)', 'Georgia (GA)', 'Missouri (MO)', 'Minnesota (MN)',\n                                   'Wisconsin (WI)'], dtype=object),\n              'hovertemplate': '%{customdata}<br>%{z}<extra></extra>',\n              'locationmode': 'USA-states',\n              'locations': array(['DC', 'FL', 'GA', 'MO', 'MN', 'WI'], dtype=object),\n              'type': 'choropleth',\n              'visible': False,\n              'z': array([1, 1, 1, 1, 1, 1], dtype=int64),\n              'zmax': 7,\n              'zmin': 1},\n             {'colorscale': [[0.0, 'rgb(255,245,240)'], [0.125,\n                             'rgb(254,224,210)'], [0.25, 'rgb(252,187,161)'],\n                             [0.375, 'rgb(252,146,114)'], [0.5, 'rgb(251,106,74)'],\n                             [0.625, 'rgb(239,59,44)'], [0.75, 'rgb(203,24,29)'],\n                             [0.875, 'rgb(165,15,21)'], [1.0, 'rgb(103,0,13)']],\n              'customdata': array(['Nevada (NV)', 'New Jersey (NJ)', 'Florida (FL)', 'Arizona (AZ)',\n                                   'Kentucky (KY)', 'Indiana (IN)'], dtype=object),\n              'hovertemplate': '%{customdata}<br>%{z}<extra></extra>',\n              'locationmode': 'USA-states',\n              'locations': array(['NV', 'NJ', 'FL', 'AZ', 'KY', 'IN'], dtype=object),\n              'type': 'choropleth',\n              'visible': False,\n              'z': array([1, 1, 1, 1, 1, 1], dtype=int64),\n              'zmax': 7,\n              'zmin': 1},\n             {'colorscale': [[0.0, 'rgb(255,245,240)'], [0.125,\n                             'rgb(254,224,210)'], [0.25, 'rgb(252,187,161)'],\n                             [0.375, 'rgb(252,146,114)'], [0.5, 'rgb(251,106,74)'],\n                             [0.625, 'rgb(239,59,44)'], [0.75, 'rgb(203,24,29)'],\n                             [0.875, 'rgb(165,15,21)'], [1.0, 'rgb(103,0,13)']],\n              'customdata': array(['Ohio (OH)', 'Texas (TX)', 'Maryland (MD)', 'Indiana (IN)',\n                                   'Illinois (IL)'], dtype=object),\n              'hovertemplate': '%{customdata}<br>%{z}<extra></extra>',\n              'locationmode': 'USA-states',\n              'locations': array(['OH', 'TX', 'MD', 'IN', 'IL'], dtype=object),\n              'type': 'choropleth',\n              'visible': False,\n              'z': array([2, 2, 1, 1, 1], dtype=int64),\n              'zmax': 7,\n              'zmin': 1},\n             {'colorscale': [[0.0, 'rgb(255,245,240)'], [0.125,\n                             'rgb(254,224,210)'], [0.25, 'rgb(252,187,161)'],\n                             [0.375, 'rgb(252,146,114)'], [0.5, 'rgb(251,106,74)'],\n                             [0.625, 'rgb(239,59,44)'], [0.75, 'rgb(203,24,29)'],\n                             [0.875, 'rgb(165,15,21)'], [1.0, 'rgb(103,0,13)']],\n              'customdata': array(['California (CA)', 'New York (NY)', 'Texas (TX)', 'Pennsylvania (PA)',\n                                   'Massachusetts (MA)'], dtype=object),\n              'hovertemplate': '%{customdata}<br>%{z}<extra></extra>',\n              'locationmode': 'USA-states',\n              'locations': array(['CA', 'NY', 'TX', 'PA', 'MA'], dtype=object),\n              'type': 'choropleth',\n              'visible': False,\n              'z': array([2, 1, 1, 1, 1], dtype=int64),\n              'zmax': 7,\n              'zmin': 1},\n             {'colorscale': [[0.0, 'rgb(255,245,240)'], [0.125,\n                             'rgb(254,224,210)'], [0.25, 'rgb(252,187,161)'],\n                             [0.375, 'rgb(252,146,114)'], [0.5, 'rgb(251,106,74)'],\n                             [0.625, 'rgb(239,59,44)'], [0.75, 'rgb(203,24,29)'],\n                             [0.875, 'rgb(165,15,21)'], [1.0, 'rgb(103,0,13)']],\n              'customdata': array(['Texas (TX)', 'California (CA)', 'Pennsylvania (PA)', 'New York (NY)',\n                                   'Oregon (OR)', 'Arizona (AZ)', 'Massachusetts (MA)'], dtype=object),\n              'hovertemplate': '%{customdata}<br>%{z}<extra></extra>',\n              'locationmode': 'USA-states',\n              'locations': array(['TX', 'CA', 'PA', 'NY', 'OR', 'AZ', 'MA'], dtype=object),\n              'type': 'choropleth',\n              'visible': False,\n              'z': array([6, 2, 1, 1, 1, 1, 1], dtype=int64),\n              'zmax': 7,\n              'zmin': 1},\n             {'colorscale': [[0.0, 'rgb(255,245,240)'], [0.125,\n                             'rgb(254,224,210)'], [0.25, 'rgb(252,187,161)'],\n                             [0.375, 'rgb(252,146,114)'], [0.5, 'rgb(251,106,74)'],\n                             [0.625, 'rgb(239,59,44)'], [0.75, 'rgb(203,24,29)'],\n                             [0.875, 'rgb(165,15,21)'], [1.0, 'rgb(103,0,13)']],\n              'customdata': array(['Tennessee (TN)', 'California (CA)', 'Kentucky (KY)'], dtype=object),\n              'hovertemplate': '%{customdata}<br>%{z}<extra></extra>',\n              'locationmode': 'USA-states',\n              'locations': array(['TN', 'CA', 'KY'], dtype=object),\n              'type': 'choropleth',\n              'visible': False,\n              'z': array([1, 1, 1], dtype=int64),\n              'zmax': 7,\n              'zmin': 1},\n             {'colorscale': [[0.0, 'rgb(255,245,240)'], [0.125,\n                             'rgb(254,224,210)'], [0.25, 'rgb(252,187,161)'],\n                             [0.375, 'rgb(252,146,114)'], [0.5, 'rgb(251,106,74)'],\n                             [0.625, 'rgb(239,59,44)'], [0.75, 'rgb(203,24,29)'],\n                             [0.875, 'rgb(165,15,21)'], [1.0, 'rgb(103,0,13)']],\n              'customdata': array(['California (CA)', 'Oregon (OR)', 'Nebraska (NE)', 'Massachusetts (MA)',\n                                   'Indiana (IN)'], dtype=object),\n              'hovertemplate': '%{customdata}<br>%{z}<extra></extra>',\n              'locationmode': 'USA-states',\n              'locations': array(['CA', 'OR', 'NE', 'MA', 'IN'], dtype=object),\n              'type': 'choropleth',\n              'visible': False,\n              'z': array([2, 1, 1, 1, 1], dtype=int64),\n              'zmax': 7,\n              'zmin': 1},\n             {'colorscale': [[0.0, 'rgb(255,245,240)'], [0.125,\n                             'rgb(254,224,210)'], [0.25, 'rgb(252,187,161)'],\n                             [0.375, 'rgb(252,146,114)'], [0.5, 'rgb(251,106,74)'],\n                             [0.625, 'rgb(239,59,44)'], [0.75, 'rgb(203,24,29)'],\n                             [0.875, 'rgb(165,15,21)'], [1.0, 'rgb(103,0,13)']],\n              'customdata': array(['New Mexico (NM)', 'Arizona (AZ)'], dtype=object),\n              'hovertemplate': '%{customdata}<br>%{z}<extra></extra>',\n              'locationmode': 'USA-states',\n              'locations': array(['NM', 'AZ'], dtype=object),\n              'type': 'choropleth',\n              'visible': False,\n              'z': array([5, 1], dtype=int64),\n              'zmax': 7,\n              'zmin': 1},\n             {'colorscale': [[0.0, 'rgb(255,245,240)'], [0.125,\n                             'rgb(254,224,210)'], [0.25, 'rgb(252,187,161)'],\n                             [0.375, 'rgb(252,146,114)'], [0.5, 'rgb(251,106,74)'],\n                             [0.625, 'rgb(239,59,44)'], [0.75, 'rgb(203,24,29)'],\n                             [0.875, 'rgb(165,15,21)'], [1.0, 'rgb(103,0,13)']],\n              'customdata': array(['New Mexico (NM)'], dtype=object),\n              'hovertemplate': '%{customdata}<br>%{z}<extra></extra>',\n              'locationmode': 'USA-states',\n              'locations': array(['NM'], dtype=object),\n              'type': 'choropleth',\n              'visible': False,\n              'z': array([5], dtype=int64),\n              'zmax': 7,\n              'zmin': 1},\n             {'colorscale': [[0.0, 'rgb(255,245,240)'], [0.125,\n                             'rgb(254,224,210)'], [0.25, 'rgb(252,187,161)'],\n                             [0.375, 'rgb(252,146,114)'], [0.5, 'rgb(251,106,74)'],\n                             [0.625, 'rgb(239,59,44)'], [0.75, 'rgb(203,24,29)'],\n                             [0.875, 'rgb(165,15,21)'], [1.0, 'rgb(103,0,13)']],\n              'customdata': array(['New Mexico (NM)'], dtype=object),\n              'hovertemplate': '%{customdata}<br>%{z}<extra></extra>',\n              'locationmode': 'USA-states',\n              'locations': array(['NM'], dtype=object),\n              'type': 'choropleth',\n              'visible': False,\n              'z': array([6], dtype=int64),\n              'zmax': 7,\n              'zmin': 1},\n             {'colorscale': [[0.0, 'rgb(255,245,240)'], [0.125,\n                             'rgb(254,224,210)'], [0.25, 'rgb(252,187,161)'],\n                             [0.375, 'rgb(252,146,114)'], [0.5, 'rgb(251,106,74)'],\n                             [0.625, 'rgb(239,59,44)'], [0.75, 'rgb(203,24,29)'],\n                             [0.875, 'rgb(165,15,21)'], [1.0, 'rgb(103,0,13)']],\n              'customdata': array(['New Mexico (NM)'], dtype=object),\n              'hovertemplate': '%{customdata}<br>%{z}<extra></extra>',\n              'locationmode': 'USA-states',\n              'locations': array(['NM'], dtype=object),\n              'type': 'choropleth',\n              'visible': False,\n              'z': array([6], dtype=int64),\n              'zmax': 7,\n              'zmin': 1},\n             {'colorscale': [[0.0, 'rgb(255,245,240)'], [0.125,\n                             'rgb(254,224,210)'], [0.25, 'rgb(252,187,161)'],\n                             [0.375, 'rgb(252,146,114)'], [0.5, 'rgb(251,106,74)'],\n                             [0.625, 'rgb(239,59,44)'], [0.75, 'rgb(203,24,29)'],\n                             [0.875, 'rgb(165,15,21)'], [1.0, 'rgb(103,0,13)']],\n              'customdata': array(['New Mexico (NM)'], dtype=object),\n              'hovertemplate': '%{customdata}<br>%{z}<extra></extra>',\n              'locationmode': 'USA-states',\n              'locations': array(['NM'], dtype=object),\n              'type': 'choropleth',\n              'visible': False,\n              'z': array([6], dtype=int64),\n              'zmax': 7,\n              'zmin': 1},\n             {'colorscale': [[0.0, 'rgb(255,245,240)'], [0.125,\n                             'rgb(254,224,210)'], [0.25, 'rgb(252,187,161)'],\n                             [0.375, 'rgb(252,146,114)'], [0.5, 'rgb(251,106,74)'],\n                             [0.625, 'rgb(239,59,44)'], [0.75, 'rgb(203,24,29)'],\n                             [0.875, 'rgb(165,15,21)'], [1.0, 'rgb(103,0,13)']],\n              'customdata': array(['New Mexico (NM)'], dtype=object),\n              'hovertemplate': '%{customdata}<br>%{z}<extra></extra>',\n              'locationmode': 'USA-states',\n              'locations': array(['NM'], dtype=object),\n              'type': 'choropleth',\n              'visible': False,\n              'z': array([5], dtype=int64),\n              'zmax': 7,\n              'zmin': 1},\n             {'colorscale': [[0.0, 'rgb(255,245,240)'], [0.125,\n                             'rgb(254,224,210)'], [0.25, 'rgb(252,187,161)'],\n                             [0.375, 'rgb(252,146,114)'], [0.5, 'rgb(251,106,74)'],\n                             [0.625, 'rgb(239,59,44)'], [0.75, 'rgb(203,24,29)'],\n                             [0.875, 'rgb(165,15,21)'], [1.0, 'rgb(103,0,13)']],\n              'customdata': array(['New Mexico (NM)'], dtype=object),\n              'hovertemplate': '%{customdata}<br>%{z}<extra></extra>',\n              'locationmode': 'USA-states',\n              'locations': array(['NM'], dtype=object),\n              'type': 'choropleth',\n              'visible': False,\n              'z': array([6], dtype=int64),\n              'zmax': 7,\n              'zmin': 1},\n             {'colorscale': [[0.0, 'rgb(255,245,240)'], [0.125,\n                             'rgb(254,224,210)'], [0.25, 'rgb(252,187,161)'],\n                             [0.375, 'rgb(252,146,114)'], [0.5, 'rgb(251,106,74)'],\n                             [0.625, 'rgb(239,59,44)'], [0.75, 'rgb(203,24,29)'],\n                             [0.875, 'rgb(165,15,21)'], [1.0, 'rgb(103,0,13)']],\n              'customdata': array(['New Mexico (NM)'], dtype=object),\n              'hovertemplate': '%{customdata}<br>%{z}<extra></extra>',\n              'locationmode': 'USA-states',\n              'locations': array(['NM'], dtype=object),\n              'type': 'choropleth',\n              'visible': False,\n              'z': array([5], dtype=int64),\n              'zmax': 7,\n              'zmin': 1},\n             {'colorscale': [[0.0, 'rgb(255,245,240)'], [0.125,\n                             'rgb(254,224,210)'], [0.25, 'rgb(252,187,161)'],\n                             [0.375, 'rgb(252,146,114)'], [0.5, 'rgb(251,106,74)'],\n                             [0.625, 'rgb(239,59,44)'], [0.75, 'rgb(203,24,29)'],\n                             [0.875, 'rgb(165,15,21)'], [1.0, 'rgb(103,0,13)']],\n              'customdata': array(['New Mexico (NM)'], dtype=object),\n              'hovertemplate': '%{customdata}<br>%{z}<extra></extra>',\n              'locationmode': 'USA-states',\n              'locations': array(['NM'], dtype=object),\n              'type': 'choropleth',\n              'visible': False,\n              'z': array([6], dtype=int64),\n              'zmax': 7,\n              'zmin': 1},\n             {'colorscale': [[0.0, 'rgb(255,245,240)'], [0.125,\n                             'rgb(254,224,210)'], [0.25, 'rgb(252,187,161)'],\n                             [0.375, 'rgb(252,146,114)'], [0.5, 'rgb(251,106,74)'],\n                             [0.625, 'rgb(239,59,44)'], [0.75, 'rgb(203,24,29)'],\n                             [0.875, 'rgb(165,15,21)'], [1.0, 'rgb(103,0,13)']],\n              'customdata': array(['New Mexico (NM)'], dtype=object),\n              'hovertemplate': '%{customdata}<br>%{z}<extra></extra>',\n              'locationmode': 'USA-states',\n              'locations': array(['NM'], dtype=object),\n              'type': 'choropleth',\n              'visible': False,\n              'z': array([5], dtype=int64),\n              'zmax': 7,\n              'zmin': 1},\n             {'colorscale': [[0.0, 'rgb(255,245,240)'], [0.125,\n                             'rgb(254,224,210)'], [0.25, 'rgb(252,187,161)'],\n                             [0.375, 'rgb(252,146,114)'], [0.5, 'rgb(251,106,74)'],\n                             [0.625, 'rgb(239,59,44)'], [0.75, 'rgb(203,24,29)'],\n                             [0.875, 'rgb(165,15,21)'], [1.0, 'rgb(103,0,13)']],\n              'customdata': array(['New Mexico (NM)'], dtype=object),\n              'hovertemplate': '%{customdata}<br>%{z}<extra></extra>',\n              'locationmode': 'USA-states',\n              'locations': array(['NM'], dtype=object),\n              'type': 'choropleth',\n              'visible': False,\n              'z': array([1], dtype=int64),\n              'zmax': 7,\n              'zmin': 1}],\n    'layout': {'template': '...'}\n})]\n\n    The 'data' property is a tuple of trace instances\n    that may be specified as:\n      - A list or tuple of trace instances\n        (e.g. [Scatter(...), Bar(...)])\n      - A single trace instance\n        (e.g. Scatter(...), Bar(...), etc.)\n      - A list or tuple of dicts of string/value properties where:\n        - The 'type' property specifies the trace type\n            One of: ['bar', 'barpolar', 'box', 'candlestick',\n                     'carpet', 'choropleth', 'choroplethmapbox',\n                     'cone', 'contour', 'contourcarpet',\n                     'densitymapbox', 'funnel', 'funnelarea',\n                     'heatmap', 'heatmapgl', 'histogram',\n                     'histogram2d', 'histogram2dcontour', 'icicle',\n                     'image', 'indicator', 'isosurface', 'mesh3d',\n                     'ohlc', 'parcats', 'parcoords', 'pie',\n                     'pointcloud', 'sankey', 'scatter',\n                     'scatter3d', 'scattercarpet', 'scattergeo',\n                     'scattergl', 'scattermapbox', 'scatterpolar',\n                     'scatterpolargl', 'scattersmith',\n                     'scatterternary', 'splom', 'streamtube',\n                     'sunburst', 'surface', 'table', 'treemap',\n                     'violin', 'volume', 'waterfall']\n\n        - All remaining properties are passed to the constructor of\n          the specified trace type\n\n        (e.g. [{'type': 'scatter', ...}, {'type': 'bar, ...}])",
     "output_type": "error",
     "traceback": [
      "\u001b[1;31m---------------------------------------------------------------------------\u001b[0m",
      "\u001b[1;31mValueError\u001b[0m                                Traceback (most recent call last)",
      "Cell \u001b[1;32mIn[105], line 62\u001b[0m\n\u001b[0;32m     55\u001b[0m        fig\u001b[38;5;241m.\u001b[39madd_trace(go\u001b[38;5;241m.\u001b[39mFigure(data\u001b[38;5;241m=\u001b[39mdata), row \u001b[38;5;241m=\u001b[39m \u001b[38;5;241m1\u001b[39m, col \u001b[38;5;241m=\u001b[39m \u001b[38;5;241m1\u001b[39m)\n\u001b[0;32m     56\u001b[0m        fig\u001b[38;5;241m.\u001b[39mupdate_layout(\n\u001b[0;32m     57\u001b[0m               title_text\u001b[38;5;241m=\u001b[39m\u001b[38;5;124mf\u001b[39m\u001b[38;5;124m\"\u001b[39m\u001b[38;5;124mQuantidade de pedidos por Estado | \u001b[39m\u001b[38;5;132;01m{\u001b[39;00mrestaurante\u001b[38;5;132;01m}\u001b[39;00m\u001b[38;5;124m\"\u001b[39m,\n\u001b[0;32m     58\u001b[0m               geo_scope\u001b[38;5;241m=\u001b[39m\u001b[38;5;124m'\u001b[39m\u001b[38;5;124musa\u001b[39m\u001b[38;5;124m'\u001b[39m,\n\u001b[0;32m     59\u001b[0m               sliders\u001b[38;5;241m=\u001b[39msliders\n\u001b[0;32m     60\u001b[0m        )\n\u001b[1;32m---> 62\u001b[0m \u001b[43madd_traces\u001b[49m\u001b[43m(\u001b[49m\u001b[43mfig\u001b[49m\u001b[43m \u001b[49m\u001b[38;5;241;43m=\u001b[39;49m\u001b[43m \u001b[49m\u001b[43mfig\u001b[49m\u001b[43m,\u001b[49m\u001b[43m \u001b[49m\u001b[43mrestaurante\u001b[49m\u001b[38;5;241;43m=\u001b[39;49m\u001b[38;5;124;43m\"\u001b[39;49m\u001b[38;5;124;43mDomino\u001b[39;49m\u001b[38;5;124;43m'\u001b[39;49m\u001b[38;5;124;43ms\u001b[39;49m\u001b[38;5;124;43m\"\u001b[39;49m\u001b[43m)\u001b[49m\n\u001b[0;32m     64\u001b[0m fig\u001b[38;5;241m.\u001b[39mshow()\n\u001b[0;32m     65\u001b[0m        \u001b[38;5;66;03m# Gráfico de linhas -----------------------------------------------------------------------------------------------\u001b[39;00m\n\u001b[0;32m     66\u001b[0m \n\u001b[0;32m     67\u001b[0m \n\u001b[0;32m     68\u001b[0m \n\u001b[0;32m     69\u001b[0m        \u001b[38;5;66;03m# Gráfico de bolhas -----------------------------------------------------------------------------------------------\u001b[39;00m\n",
      "Cell \u001b[1;32mIn[105], line 55\u001b[0m, in \u001b[0;36madd_traces\u001b[1;34m(fig, restaurante)\u001b[0m\n\u001b[0;32m     47\u001b[0m        steps\u001b[38;5;241m.\u001b[39mappend(step)\n\u001b[0;32m     49\u001b[0m sliders \u001b[38;5;241m=\u001b[39m [\u001b[38;5;28mdict\u001b[39m(\n\u001b[0;32m     50\u001b[0m        active\u001b[38;5;241m=\u001b[39m\u001b[38;5;241m0\u001b[39m,\n\u001b[0;32m     51\u001b[0m        steps\u001b[38;5;241m=\u001b[39msteps,\n\u001b[0;32m     52\u001b[0m        currentvalue\u001b[38;5;241m=\u001b[39m{\u001b[38;5;124m\"\u001b[39m\u001b[38;5;124mprefix\u001b[39m\u001b[38;5;124m\"\u001b[39m: \u001b[38;5;124m\"\u001b[39m\u001b[38;5;124mMês: \u001b[39m\u001b[38;5;124m\"\u001b[39m}\n\u001b[0;32m     53\u001b[0m )]\n\u001b[1;32m---> 55\u001b[0m \u001b[43mfig\u001b[49m\u001b[38;5;241;43m.\u001b[39;49m\u001b[43madd_trace\u001b[49m\u001b[43m(\u001b[49m\u001b[43mgo\u001b[49m\u001b[38;5;241;43m.\u001b[39;49m\u001b[43mFigure\u001b[49m\u001b[43m(\u001b[49m\u001b[43mdata\u001b[49m\u001b[38;5;241;43m=\u001b[39;49m\u001b[43mdata\u001b[49m\u001b[43m)\u001b[49m\u001b[43m,\u001b[49m\u001b[43m \u001b[49m\u001b[43mrow\u001b[49m\u001b[43m \u001b[49m\u001b[38;5;241;43m=\u001b[39;49m\u001b[43m \u001b[49m\u001b[38;5;241;43m1\u001b[39;49m\u001b[43m,\u001b[49m\u001b[43m \u001b[49m\u001b[43mcol\u001b[49m\u001b[43m \u001b[49m\u001b[38;5;241;43m=\u001b[39;49m\u001b[43m \u001b[49m\u001b[38;5;241;43m1\u001b[39;49m\u001b[43m)\u001b[49m\n\u001b[0;32m     56\u001b[0m fig\u001b[38;5;241m.\u001b[39mupdate_layout(\n\u001b[0;32m     57\u001b[0m        title_text\u001b[38;5;241m=\u001b[39m\u001b[38;5;124mf\u001b[39m\u001b[38;5;124m\"\u001b[39m\u001b[38;5;124mQuantidade de pedidos por Estado | \u001b[39m\u001b[38;5;132;01m{\u001b[39;00mrestaurante\u001b[38;5;132;01m}\u001b[39;00m\u001b[38;5;124m\"\u001b[39m,\n\u001b[0;32m     58\u001b[0m        geo_scope\u001b[38;5;241m=\u001b[39m\u001b[38;5;124m'\u001b[39m\u001b[38;5;124musa\u001b[39m\u001b[38;5;124m'\u001b[39m,\n\u001b[0;32m     59\u001b[0m        sliders\u001b[38;5;241m=\u001b[39msliders\n\u001b[0;32m     60\u001b[0m )\n",
      "File \u001b[1;32mc:\\Users\\Leticia\\AppData\\Local\\Programs\\Python\\Python311\\Lib\\site-packages\\plotly\\graph_objs\\_figure.py:913\u001b[0m, in \u001b[0;36mFigure.add_trace\u001b[1;34m(self, trace, row, col, secondary_y, exclude_empty_subplots)\u001b[0m\n\u001b[0;32m    838\u001b[0m \u001b[38;5;28;01mdef\u001b[39;00m \u001b[38;5;21madd_trace\u001b[39m(\n\u001b[0;32m    839\u001b[0m     \u001b[38;5;28mself\u001b[39m, trace, row\u001b[38;5;241m=\u001b[39m\u001b[38;5;28;01mNone\u001b[39;00m, col\u001b[38;5;241m=\u001b[39m\u001b[38;5;28;01mNone\u001b[39;00m, secondary_y\u001b[38;5;241m=\u001b[39m\u001b[38;5;28;01mNone\u001b[39;00m, exclude_empty_subplots\u001b[38;5;241m=\u001b[39m\u001b[38;5;28;01mFalse\u001b[39;00m\n\u001b[0;32m    840\u001b[0m ) \u001b[38;5;241m-\u001b[39m\u001b[38;5;241m>\u001b[39m \u001b[38;5;124m\"\u001b[39m\u001b[38;5;124mFigure\u001b[39m\u001b[38;5;124m\"\u001b[39m:\n\u001b[0;32m    841\u001b[0m \u001b[38;5;250m    \u001b[39m\u001b[38;5;124;03m\"\"\"\u001b[39;00m\n\u001b[0;32m    842\u001b[0m \n\u001b[0;32m    843\u001b[0m \u001b[38;5;124;03m    Add a trace to the figure\u001b[39;00m\n\u001b[1;32m   (...)\u001b[0m\n\u001b[0;32m    911\u001b[0m \n\u001b[0;32m    912\u001b[0m \u001b[38;5;124;03m    \"\"\"\u001b[39;00m\n\u001b[1;32m--> 913\u001b[0m     \u001b[38;5;28;01mreturn\u001b[39;00m \u001b[38;5;28;43msuper\u001b[39;49m\u001b[43m(\u001b[49m\u001b[43mFigure\u001b[49m\u001b[43m,\u001b[49m\u001b[43m \u001b[49m\u001b[38;5;28;43mself\u001b[39;49m\u001b[43m)\u001b[49m\u001b[38;5;241;43m.\u001b[39;49m\u001b[43madd_trace\u001b[49m\u001b[43m(\u001b[49m\n\u001b[0;32m    914\u001b[0m \u001b[43m        \u001b[49m\u001b[43mtrace\u001b[49m\u001b[43m,\u001b[49m\u001b[43m \u001b[49m\u001b[43mrow\u001b[49m\u001b[43m,\u001b[49m\u001b[43m \u001b[49m\u001b[43mcol\u001b[49m\u001b[43m,\u001b[49m\u001b[43m \u001b[49m\u001b[43msecondary_y\u001b[49m\u001b[43m,\u001b[49m\u001b[43m \u001b[49m\u001b[43mexclude_empty_subplots\u001b[49m\n\u001b[0;32m    915\u001b[0m \u001b[43m    \u001b[49m\u001b[43m)\u001b[49m\n",
      "File \u001b[1;32mc:\\Users\\Leticia\\AppData\\Local\\Programs\\Python\\Python311\\Lib\\site-packages\\plotly\\basedatatypes.py:2106\u001b[0m, in \u001b[0;36mBaseFigure.add_trace\u001b[1;34m(self, trace, row, col, secondary_y, exclude_empty_subplots)\u001b[0m\n\u001b[0;32m   2097\u001b[0m         \u001b[38;5;28mself\u001b[39m\u001b[38;5;241m.\u001b[39madd_trace(\n\u001b[0;32m   2098\u001b[0m             trace,\n\u001b[0;32m   2099\u001b[0m             row\u001b[38;5;241m=\u001b[39mr,\n\u001b[1;32m   (...)\u001b[0m\n\u001b[0;32m   2102\u001b[0m             exclude_empty_subplots\u001b[38;5;241m=\u001b[39mexclude_empty_subplots,\n\u001b[0;32m   2103\u001b[0m         )\n\u001b[0;32m   2104\u001b[0m     \u001b[38;5;28;01mreturn\u001b[39;00m \u001b[38;5;28mself\u001b[39m\n\u001b[1;32m-> 2106\u001b[0m \u001b[38;5;28;01mreturn\u001b[39;00m \u001b[38;5;28;43mself\u001b[39;49m\u001b[38;5;241;43m.\u001b[39;49m\u001b[43madd_traces\u001b[49m\u001b[43m(\u001b[49m\n\u001b[0;32m   2107\u001b[0m \u001b[43m    \u001b[49m\u001b[43mdata\u001b[49m\u001b[38;5;241;43m=\u001b[39;49m\u001b[43m[\u001b[49m\u001b[43mtrace\u001b[49m\u001b[43m]\u001b[49m\u001b[43m,\u001b[49m\n\u001b[0;32m   2108\u001b[0m \u001b[43m    \u001b[49m\u001b[43mrows\u001b[49m\u001b[38;5;241;43m=\u001b[39;49m\u001b[43m[\u001b[49m\u001b[43mrow\u001b[49m\u001b[43m]\u001b[49m\u001b[43m \u001b[49m\u001b[38;5;28;43;01mif\u001b[39;49;00m\u001b[43m \u001b[49m\u001b[43mrow\u001b[49m\u001b[43m \u001b[49m\u001b[38;5;129;43;01mis\u001b[39;49;00m\u001b[43m \u001b[49m\u001b[38;5;129;43;01mnot\u001b[39;49;00m\u001b[43m \u001b[49m\u001b[38;5;28;43;01mNone\u001b[39;49;00m\u001b[43m \u001b[49m\u001b[38;5;28;43;01melse\u001b[39;49;00m\u001b[43m \u001b[49m\u001b[38;5;28;43;01mNone\u001b[39;49;00m\u001b[43m,\u001b[49m\n\u001b[0;32m   2109\u001b[0m \u001b[43m    \u001b[49m\u001b[43mcols\u001b[49m\u001b[38;5;241;43m=\u001b[39;49m\u001b[43m[\u001b[49m\u001b[43mcol\u001b[49m\u001b[43m]\u001b[49m\u001b[43m \u001b[49m\u001b[38;5;28;43;01mif\u001b[39;49;00m\u001b[43m \u001b[49m\u001b[43mcol\u001b[49m\u001b[43m \u001b[49m\u001b[38;5;129;43;01mis\u001b[39;49;00m\u001b[43m \u001b[49m\u001b[38;5;129;43;01mnot\u001b[39;49;00m\u001b[43m \u001b[49m\u001b[38;5;28;43;01mNone\u001b[39;49;00m\u001b[43m \u001b[49m\u001b[38;5;28;43;01melse\u001b[39;49;00m\u001b[43m \u001b[49m\u001b[38;5;28;43;01mNone\u001b[39;49;00m\u001b[43m,\u001b[49m\n\u001b[0;32m   2110\u001b[0m \u001b[43m    \u001b[49m\u001b[43msecondary_ys\u001b[49m\u001b[38;5;241;43m=\u001b[39;49m\u001b[43m[\u001b[49m\u001b[43msecondary_y\u001b[49m\u001b[43m]\u001b[49m\u001b[43m \u001b[49m\u001b[38;5;28;43;01mif\u001b[39;49;00m\u001b[43m \u001b[49m\u001b[43msecondary_y\u001b[49m\u001b[43m \u001b[49m\u001b[38;5;129;43;01mis\u001b[39;49;00m\u001b[43m \u001b[49m\u001b[38;5;129;43;01mnot\u001b[39;49;00m\u001b[43m \u001b[49m\u001b[38;5;28;43;01mNone\u001b[39;49;00m\u001b[43m \u001b[49m\u001b[38;5;28;43;01melse\u001b[39;49;00m\u001b[43m \u001b[49m\u001b[38;5;28;43;01mNone\u001b[39;49;00m\u001b[43m,\u001b[49m\n\u001b[0;32m   2111\u001b[0m \u001b[43m    \u001b[49m\u001b[43mexclude_empty_subplots\u001b[49m\u001b[38;5;241;43m=\u001b[39;49m\u001b[43mexclude_empty_subplots\u001b[49m\u001b[43m,\u001b[49m\n\u001b[0;32m   2112\u001b[0m \u001b[43m\u001b[49m\u001b[43m)\u001b[49m\n",
      "File \u001b[1;32mc:\\Users\\Leticia\\AppData\\Local\\Programs\\Python\\Python311\\Lib\\site-packages\\plotly\\graph_objs\\_figure.py:993\u001b[0m, in \u001b[0;36mFigure.add_traces\u001b[1;34m(self, data, rows, cols, secondary_ys, exclude_empty_subplots)\u001b[0m\n\u001b[0;32m    917\u001b[0m \u001b[38;5;28;01mdef\u001b[39;00m \u001b[38;5;21madd_traces\u001b[39m(\n\u001b[0;32m    918\u001b[0m     \u001b[38;5;28mself\u001b[39m,\n\u001b[0;32m    919\u001b[0m     data,\n\u001b[1;32m   (...)\u001b[0m\n\u001b[0;32m    923\u001b[0m     exclude_empty_subplots\u001b[38;5;241m=\u001b[39m\u001b[38;5;28;01mFalse\u001b[39;00m,\n\u001b[0;32m    924\u001b[0m ) \u001b[38;5;241m-\u001b[39m\u001b[38;5;241m>\u001b[39m \u001b[38;5;124m\"\u001b[39m\u001b[38;5;124mFigure\u001b[39m\u001b[38;5;124m\"\u001b[39m:\n\u001b[0;32m    925\u001b[0m \u001b[38;5;250m    \u001b[39m\u001b[38;5;124;03m\"\"\"\u001b[39;00m\n\u001b[0;32m    926\u001b[0m \n\u001b[0;32m    927\u001b[0m \u001b[38;5;124;03m    Add traces to the figure\u001b[39;00m\n\u001b[1;32m   (...)\u001b[0m\n\u001b[0;32m    991\u001b[0m \n\u001b[0;32m    992\u001b[0m \u001b[38;5;124;03m    \"\"\"\u001b[39;00m\n\u001b[1;32m--> 993\u001b[0m     \u001b[38;5;28;01mreturn\u001b[39;00m \u001b[38;5;28;43msuper\u001b[39;49m\u001b[43m(\u001b[49m\u001b[43mFigure\u001b[49m\u001b[43m,\u001b[49m\u001b[43m \u001b[49m\u001b[38;5;28;43mself\u001b[39;49m\u001b[43m)\u001b[49m\u001b[38;5;241;43m.\u001b[39;49m\u001b[43madd_traces\u001b[49m\u001b[43m(\u001b[49m\n\u001b[0;32m    994\u001b[0m \u001b[43m        \u001b[49m\u001b[43mdata\u001b[49m\u001b[43m,\u001b[49m\u001b[43m \u001b[49m\u001b[43mrows\u001b[49m\u001b[43m,\u001b[49m\u001b[43m \u001b[49m\u001b[43mcols\u001b[49m\u001b[43m,\u001b[49m\u001b[43m \u001b[49m\u001b[43msecondary_ys\u001b[49m\u001b[43m,\u001b[49m\u001b[43m \u001b[49m\u001b[43mexclude_empty_subplots\u001b[49m\n\u001b[0;32m    995\u001b[0m \u001b[43m    \u001b[49m\u001b[43m)\u001b[49m\n",
      "File \u001b[1;32mc:\\Users\\Leticia\\AppData\\Local\\Programs\\Python\\Python311\\Lib\\site-packages\\plotly\\basedatatypes.py:2190\u001b[0m, in \u001b[0;36mBaseFigure.add_traces\u001b[1;34m(self, data, rows, cols, secondary_ys, exclude_empty_subplots)\u001b[0m\n\u001b[0;32m   2122\u001b[0m \u001b[38;5;250m\u001b[39m\u001b[38;5;124;03m\"\"\"\u001b[39;00m\n\u001b[0;32m   2123\u001b[0m \u001b[38;5;124;03mAdd traces to the figure\u001b[39;00m\n\u001b[0;32m   2124\u001b[0m \n\u001b[1;32m   (...)\u001b[0m\n\u001b[0;32m   2186\u001b[0m \u001b[38;5;124;03mFigure(...)\u001b[39;00m\n\u001b[0;32m   2187\u001b[0m \u001b[38;5;124;03m\"\"\"\u001b[39;00m\n\u001b[0;32m   2189\u001b[0m \u001b[38;5;66;03m# Validate traces\u001b[39;00m\n\u001b[1;32m-> 2190\u001b[0m data \u001b[38;5;241m=\u001b[39m \u001b[38;5;28;43mself\u001b[39;49m\u001b[38;5;241;43m.\u001b[39;49m\u001b[43m_data_validator\u001b[49m\u001b[38;5;241;43m.\u001b[39;49m\u001b[43mvalidate_coerce\u001b[49m\u001b[43m(\u001b[49m\u001b[43mdata\u001b[49m\u001b[43m)\u001b[49m\n\u001b[0;32m   2192\u001b[0m \u001b[38;5;66;03m# Set trace indexes\u001b[39;00m\n\u001b[0;32m   2193\u001b[0m \u001b[38;5;28;01mfor\u001b[39;00m ind, new_trace \u001b[38;5;129;01min\u001b[39;00m \u001b[38;5;28menumerate\u001b[39m(data):\n",
      "File \u001b[1;32mc:\\Users\\Leticia\\AppData\\Local\\Programs\\Python\\Python311\\Lib\\site-packages\\_plotly_utils\\basevalidators.py:2711\u001b[0m, in \u001b[0;36mBaseDataValidator.validate_coerce\u001b[1;34m(self, v, skip_invalid, _validate)\u001b[0m\n\u001b[0;32m   2708\u001b[0m             invalid_els\u001b[38;5;241m.\u001b[39mappend(v_el)\n\u001b[0;32m   2710\u001b[0m \u001b[38;5;28;01mif\u001b[39;00m invalid_els:\n\u001b[1;32m-> 2711\u001b[0m     \u001b[38;5;28;43mself\u001b[39;49m\u001b[38;5;241;43m.\u001b[39;49m\u001b[43mraise_invalid_elements\u001b[49m\u001b[43m(\u001b[49m\u001b[43minvalid_els\u001b[49m\u001b[43m)\u001b[49m\n\u001b[0;32m   2713\u001b[0m v \u001b[38;5;241m=\u001b[39m to_scalar_or_list(res)\n\u001b[0;32m   2715\u001b[0m \u001b[38;5;66;03m# Set new UIDs\u001b[39;00m\n",
      "File \u001b[1;32mc:\\Users\\Leticia\\AppData\\Local\\Programs\\Python\\Python311\\Lib\\site-packages\\_plotly_utils\\basevalidators.py:312\u001b[0m, in \u001b[0;36mBaseValidator.raise_invalid_elements\u001b[1;34m(self, invalid_els)\u001b[0m\n\u001b[0;32m    310\u001b[0m     \u001b[38;5;28;01mdef\u001b[39;00m \u001b[38;5;21mraise_invalid_elements\u001b[39m(\u001b[38;5;28mself\u001b[39m, invalid_els):\n\u001b[0;32m    311\u001b[0m         \u001b[38;5;28;01mif\u001b[39;00m invalid_els:\n\u001b[1;32m--> 312\u001b[0m             \u001b[38;5;28;01mraise\u001b[39;00m \u001b[38;5;167;01mValueError\u001b[39;00m(\n\u001b[0;32m    313\u001b[0m \u001b[38;5;250m                \u001b[39m\u001b[38;5;124;03m\"\"\"\u001b[39;00m\n\u001b[0;32m    314\u001b[0m \u001b[38;5;124;03m    Invalid element(s) received for the '{name}' property of {pname}\u001b[39;00m\n\u001b[0;32m    315\u001b[0m \u001b[38;5;124;03m        Invalid elements include: {invalid}\u001b[39;00m\n\u001b[0;32m    316\u001b[0m \n\u001b[0;32m    317\u001b[0m \u001b[38;5;124;03m{valid_clr_desc}\"\"\"\u001b[39;00m\u001b[38;5;241m.\u001b[39mformat(\n\u001b[0;32m    318\u001b[0m                     name\u001b[38;5;241m=\u001b[39m\u001b[38;5;28mself\u001b[39m\u001b[38;5;241m.\u001b[39mplotly_name,\n\u001b[0;32m    319\u001b[0m                     pname\u001b[38;5;241m=\u001b[39m\u001b[38;5;28mself\u001b[39m\u001b[38;5;241m.\u001b[39mparent_name,\n\u001b[0;32m    320\u001b[0m                     invalid\u001b[38;5;241m=\u001b[39minvalid_els[:\u001b[38;5;241m10\u001b[39m],\n\u001b[0;32m    321\u001b[0m                     valid_clr_desc\u001b[38;5;241m=\u001b[39m\u001b[38;5;28mself\u001b[39m\u001b[38;5;241m.\u001b[39mdescription(),\n\u001b[0;32m    322\u001b[0m                 )\n\u001b[0;32m    323\u001b[0m             )\n",
      "\u001b[1;31mValueError\u001b[0m: \n    Invalid element(s) received for the 'data' property of \n        Invalid elements include: [Figure({\n    'data': [{'colorscale': [[0.0, 'rgb(255,245,240)'], [0.125,\n                             'rgb(254,224,210)'], [0.25, 'rgb(252,187,161)'],\n                             [0.375, 'rgb(252,146,114)'], [0.5, 'rgb(251,106,74)'],\n                             [0.625, 'rgb(239,59,44)'], [0.75, 'rgb(203,24,29)'],\n                             [0.875, 'rgb(165,15,21)'], [1.0, 'rgb(103,0,13)']],\n              'customdata': array(['New York (NY)', 'Washington (WA)', 'Florida (FL)', 'Colorado (CO)',\n                                   'California (CA)'], dtype=object),\n              'hovertemplate': '%{customdata}<br>%{z}<extra></extra>',\n              'locationmode': 'USA-states',\n              'locations': array(['NY', 'WA', 'FL', 'CO', 'CA'], dtype=object),\n              'type': 'choropleth',\n              'visible': True,\n              'z': array([2, 1, 1, 1, 1], dtype=int64),\n              'zmax': 7,\n              'zmin': 1},\n             {'colorscale': [[0.0, 'rgb(255,245,240)'], [0.125,\n                             'rgb(254,224,210)'], [0.25, 'rgb(252,187,161)'],\n                             [0.375, 'rgb(252,146,114)'], [0.5, 'rgb(251,106,74)'],\n                             [0.625, 'rgb(239,59,44)'], [0.75, 'rgb(203,24,29)'],\n                             [0.875, 'rgb(165,15,21)'], [1.0, 'rgb(103,0,13)']],\n              'customdata': array(['California (CA)', 'Washington (WA)', 'Texas (TX)', 'Florida (FL)',\n                                   'Colorado (CO)'], dtype=object),\n              'hovertemplate': '%{customdata}<br>%{z}<extra></extra>',\n              'locationmode': 'USA-states',\n              'locations': array(['CA', 'WA', 'TX', 'FL', 'CO'], dtype=object),\n              'type': 'choropleth',\n              'visible': False,\n              'z': array([2, 1, 1, 1, 1], dtype=int64),\n              'zmax': 7,\n              'zmin': 1},\n             {'colorscale': [[0.0, 'rgb(255,245,240)'], [0.125,\n                             'rgb(254,224,210)'], [0.25, 'rgb(252,187,161)'],\n                             [0.375, 'rgb(252,146,114)'], [0.5, 'rgb(251,106,74)'],\n                             [0.625, 'rgb(239,59,44)'], [0.75, 'rgb(203,24,29)'],\n                             [0.875, 'rgb(165,15,21)'], [1.0, 'rgb(103,0,13)']],\n              'customdata': array(['Florida (FL)', 'Colorado (CO)', 'Washington (WA)', 'California (CA)'],\n                                  dtype=object),\n              'hovertemplate': '%{customdata}<br>%{z}<extra></extra>',\n              'locationmode': 'USA-states',\n              'locations': array(['FL', 'CO', 'WA', 'CA'], dtype=object),\n              'type': 'choropleth',\n              'visible': False,\n              'z': array([2, 2, 1, 1], dtype=int64),\n              'zmax': 7,\n              'zmin': 1},\n             {'colorscale': [[0.0, 'rgb(255,245,240)'], [0.125,\n                             'rgb(254,224,210)'], [0.25, 'rgb(252,187,161)'],\n                             [0.375, 'rgb(252,146,114)'], [0.5, 'rgb(251,106,74)'],\n                             [0.625, 'rgb(239,59,44)'], [0.75, 'rgb(203,24,29)'],\n                             [0.875, 'rgb(165,15,21)'], [1.0, 'rgb(103,0,13)']],\n              'customdata': array(['Washington (WA)', 'California (CA)', 'Florida (FL)', 'Colorado (CO)'],\n                                  dtype=object),\n              'hovertemplate': '%{customdata}<br>%{z}<extra></extra>',\n              'locationmode': 'USA-states',\n              'locations': array(['WA', 'CA', 'FL', 'CO'], dtype=object),\n              'type': 'choropleth',\n              'visible': False,\n              'z': array([2, 2, 1, 1], dtype=int64),\n              'zmax': 7,\n              'zmin': 1},\n             {'colorscale': [[0.0, 'rgb(255,245,240)'], [0.125,\n                             'rgb(254,224,210)'], [0.25, 'rgb(252,187,161)'],\n                             [0.375, 'rgb(252,146,114)'], [0.5, 'rgb(251,106,74)'],\n                             [0.625, 'rgb(239,59,44)'], [0.75, 'rgb(203,24,29)'],\n                             [0.875, 'rgb(165,15,21)'], [1.0, 'rgb(103,0,13)']],\n              'customdata': array(['Washington (WA)'], dtype=object),\n              'hovertemplate': '%{customdata}<br>%{z}<extra></extra>',\n              'locationmode': 'USA-states',\n              'locations': array(['WA'], dtype=object),\n              'type': 'choropleth',\n              'visible': False,\n              'z': array([1], dtype=int64),\n              'zmax': 7,\n              'zmin': 1},\n             {'colorscale': [[0.0, 'rgb(255,245,240)'], [0.125,\n                             'rgb(254,224,210)'], [0.25, 'rgb(252,187,161)'],\n                             [0.375, 'rgb(252,146,114)'], [0.5, 'rgb(251,106,74)'],\n                             [0.625, 'rgb(239,59,44)'], [0.75, 'rgb(203,24,29)'],\n                             [0.875, 'rgb(165,15,21)'], [1.0, 'rgb(103,0,13)']],\n              'customdata': array(['Florida (FL)', 'Colorado (CO)'], dtype=object),\n              'hovertemplate': '%{customdata}<br>%{z}<extra></extra>',\n              'locationmode': 'USA-states',\n              'locations': array(['FL', 'CO'], dtype=object),\n              'type': 'choropleth',\n              'visible': False,\n              'z': array([1, 1], dtype=int64),\n              'zmax': 7,\n              'zmin': 1},\n             {'colorscale': [[0.0, 'rgb(255,245,240)'], [0.125,\n                             'rgb(254,224,210)'], [0.25, 'rgb(252,187,161)'],\n                             [0.375, 'rgb(252,146,114)'], [0.5, 'rgb(251,106,74)'],\n                             [0.625, 'rgb(239,59,44)'], [0.75, 'rgb(203,24,29)'],\n                             [0.875, 'rgb(165,15,21)'], [1.0, 'rgb(103,0,13)']],\n              'customdata': array(['Florida (FL)', 'Colorado (CO)', 'New York (NY)', 'California (CA)'],\n                                  dtype=object),\n              'hovertemplate': '%{customdata}<br>%{z}<extra></extra>',\n              'locationmode': 'USA-states',\n              'locations': array(['FL', 'CO', 'NY', 'CA'], dtype=object),\n              'type': 'choropleth',\n              'visible': False,\n              'z': array([3, 2, 1, 1], dtype=int64),\n              'zmax': 7,\n              'zmin': 1},\n             {'colorscale': [[0.0, 'rgb(255,245,240)'], [0.125,\n                             'rgb(254,224,210)'], [0.25, 'rgb(252,187,161)'],\n                             [0.375, 'rgb(252,146,114)'], [0.5, 'rgb(251,106,74)'],\n                             [0.625, 'rgb(239,59,44)'], [0.75, 'rgb(203,24,29)'],\n                             [0.875, 'rgb(165,15,21)'], [1.0, 'rgb(103,0,13)']],\n              'customdata': array(['Florida (FL)', 'New York (NY)', 'Colorado (CO)', 'Ohio (OH)',\n                                   'Michigan (MI)', 'California (CA)'], dtype=object),\n              'hovertemplate': '%{customdata}<br>%{z}<extra></extra>',\n              'locationmode': 'USA-states',\n              'locations': array(['FL', 'NY', 'CO', 'OH', 'MI', 'CA'], dtype=object),\n              'type': 'choropleth',\n              'visible': False,\n              'z': array([7, 5, 3, 1, 1, 1], dtype=int64),\n              'zmax': 7,\n              'zmin': 1},\n             {'colorscale': [[0.0, 'rgb(255,245,240)'], [0.125,\n                             'rgb(254,224,210)'], [0.25, 'rgb(252,187,161)'],\n                             [0.375, 'rgb(252,146,114)'], [0.5, 'rgb(251,106,74)'],\n                             [0.625, 'rgb(239,59,44)'], [0.75, 'rgb(203,24,29)'],\n                             [0.875, 'rgb(165,15,21)'], [1.0, 'rgb(103,0,13)']],\n              'customdata': array(['Florida (FL)', 'California (CA)', 'New York (NY)', 'Colorado (CO)',\n                                   'Texas (TX)', 'Washington (WA)', 'Ohio (OH)', 'Illinois (IL)',\n                                   'Michigan (MI)', 'Massachusetts (MA)'], dtype=object),\n              'hovertemplate': '%{customdata}<br>%{z}<extra></extra>',\n              'locationmode': 'USA-states',\n              'locations': array(['FL', 'CA', 'NY', 'CO', 'TX', 'WA', 'OH', 'IL', 'MI', 'MA'],\n                                 dtype=object),\n              'type': 'choropleth',\n              'visible': False,\n              'z': array([6, 4, 4, 3, 2, 1, 1, 1, 1, 1], dtype=int64),\n              'zmax': 7,\n              'zmin': 1},\n             {'colorscale': [[0.0, 'rgb(255,245,240)'], [0.125,\n                             'rgb(254,224,210)'], [0.25, 'rgb(252,187,161)'],\n                             [0.375, 'rgb(252,146,114)'], [0.5, 'rgb(251,106,74)'],\n                             [0.625, 'rgb(239,59,44)'], [0.75, 'rgb(203,24,29)'],\n                             [0.875, 'rgb(165,15,21)'], [1.0, 'rgb(103,0,13)']],\n              'customdata': array(['Florida (FL)', 'California (CA)', 'New York (NY)', 'Ohio (OH)',\n                                   'Michigan (MI)'], dtype=object),\n              'hovertemplate': '%{customdata}<br>%{z}<extra></extra>',\n              'locationmode': 'USA-states',\n              'locations': array(['FL', 'CA', 'NY', 'OH', 'MI'], dtype=object),\n              'type': 'choropleth',\n              'visible': False,\n              'z': array([3, 2, 2, 1, 1], dtype=int64),\n              'zmax': 7,\n              'zmin': 1},\n             {'colorscale': [[0.0, 'rgb(255,245,240)'], [0.125,\n                             'rgb(254,224,210)'], [0.25, 'rgb(252,187,161)'],\n                             [0.375, 'rgb(252,146,114)'], [0.5, 'rgb(251,106,74)'],\n                             [0.625, 'rgb(239,59,44)'], [0.75, 'rgb(203,24,29)'],\n                             [0.875, 'rgb(165,15,21)'], [1.0, 'rgb(103,0,13)']],\n              'customdata': array(['Florida (FL)', 'New York (NY)', 'Ohio (OH)', 'California (CA)',\n                                   'Michigan (MI)'], dtype=object),\n              'hovertemplate': '%{customdata}<br>%{z}<extra></extra>',\n              'locationmode': 'USA-states',\n              'locations': array(['FL', 'NY', 'OH', 'CA', 'MI'], dtype=object),\n              'type': 'choropleth',\n              'visible': False,\n              'z': array([2, 1, 1, 1, 1], dtype=int64),\n              'zmax': 7,\n              'zmin': 1},\n             {'colorscale': [[0.0, 'rgb(255,245,240)'], [0.125,\n                             'rgb(254,224,210)'], [0.25, 'rgb(252,187,161)'],\n                             [0.375, 'rgb(252,146,114)'], [0.5, 'rgb(251,106,74)'],\n                             [0.625, 'rgb(239,59,44)'], [0.75, 'rgb(203,24,29)'],\n                             [0.875, 'rgb(165,15,21)'], [1.0, 'rgb(103,0,13)']],\n              'customdata': array(['Florida (FL)', 'Ohio (OH)', 'New York (NY)', 'California (CA)',\n                                   'Michigan (MI)'], dtype=object),\n              'hovertemplate': '%{customdata}<br>%{z}<extra></extra>',\n              'locationmode': 'USA-states',\n              'locations': array(['FL', 'OH', 'NY', 'CA', 'MI'], dtype=object),\n              'type': 'choropleth',\n              'visible': False,\n              'z': array([4, 2, 1, 1, 1], dtype=int64),\n              'zmax': 7,\n              'zmin': 1},\n             {'colorscale': [[0.0, 'rgb(255,245,240)'], [0.125,\n                             'rgb(254,224,210)'], [0.25, 'rgb(252,187,161)'],\n                             [0.375, 'rgb(252,146,114)'], [0.5, 'rgb(251,106,74)'],\n                             [0.625, 'rgb(239,59,44)'], [0.75, 'rgb(203,24,29)'],\n                             [0.875, 'rgb(165,15,21)'], [1.0, 'rgb(103,0,13)']],\n              'customdata': array(['Florida (FL)', 'New York (NY)', 'Arizona (AZ)', 'California (CA)',\n                                   'North Carolina (NC)', 'Michigan (MI)'], dtype=object),\n              'hovertemplate': '%{customdata}<br>%{z}<extra></extra>',\n              'locationmode': 'USA-states',\n              'locations': array(['FL', 'NY', 'AZ', 'CA', 'NC', 'MI'], dtype=object),\n              'type': 'choropleth',\n              'visible': False,\n              'z': array([2, 2, 1, 1, 1, 1], dtype=int64),\n              'zmax': 7,\n              'zmin': 1},\n             {'colorscale': [[0.0, 'rgb(255,245,240)'], [0.125,\n                             'rgb(254,224,210)'], [0.25, 'rgb(252,187,161)'],\n                             [0.375, 'rgb(252,146,114)'], [0.5, 'rgb(251,106,74)'],\n                             [0.625, 'rgb(239,59,44)'], [0.75, 'rgb(203,24,29)'],\n                             [0.875, 'rgb(165,15,21)'], [1.0, 'rgb(103,0,13)']],\n              'customdata': array([nan, 'Florida (FL)', 'Georgia (GA)', 'Missouri (MO)', 'Minnesota (MN)',\n                                   'Wisconsin (WI)'], dtype=object),\n              'hovertemplate': '%{customdata}<br>%{z}<extra></extra>',\n              'locationmode': 'USA-states',\n              'locations': array(['DC', 'FL', 'GA', 'MO', 'MN', 'WI'], dtype=object),\n              'type': 'choropleth',\n              'visible': False,\n              'z': array([1, 1, 1, 1, 1, 1], dtype=int64),\n              'zmax': 7,\n              'zmin': 1},\n             {'colorscale': [[0.0, 'rgb(255,245,240)'], [0.125,\n                             'rgb(254,224,210)'], [0.25, 'rgb(252,187,161)'],\n                             [0.375, 'rgb(252,146,114)'], [0.5, 'rgb(251,106,74)'],\n                             [0.625, 'rgb(239,59,44)'], [0.75, 'rgb(203,24,29)'],\n                             [0.875, 'rgb(165,15,21)'], [1.0, 'rgb(103,0,13)']],\n              'customdata': array(['Nevada (NV)', 'New Jersey (NJ)', 'Florida (FL)', 'Arizona (AZ)',\n                                   'Kentucky (KY)', 'Indiana (IN)'], dtype=object),\n              'hovertemplate': '%{customdata}<br>%{z}<extra></extra>',\n              'locationmode': 'USA-states',\n              'locations': array(['NV', 'NJ', 'FL', 'AZ', 'KY', 'IN'], dtype=object),\n              'type': 'choropleth',\n              'visible': False,\n              'z': array([1, 1, 1, 1, 1, 1], dtype=int64),\n              'zmax': 7,\n              'zmin': 1},\n             {'colorscale': [[0.0, 'rgb(255,245,240)'], [0.125,\n                             'rgb(254,224,210)'], [0.25, 'rgb(252,187,161)'],\n                             [0.375, 'rgb(252,146,114)'], [0.5, 'rgb(251,106,74)'],\n                             [0.625, 'rgb(239,59,44)'], [0.75, 'rgb(203,24,29)'],\n                             [0.875, 'rgb(165,15,21)'], [1.0, 'rgb(103,0,13)']],\n              'customdata': array(['Ohio (OH)', 'Texas (TX)', 'Maryland (MD)', 'Indiana (IN)',\n                                   'Illinois (IL)'], dtype=object),\n              'hovertemplate': '%{customdata}<br>%{z}<extra></extra>',\n              'locationmode': 'USA-states',\n              'locations': array(['OH', 'TX', 'MD', 'IN', 'IL'], dtype=object),\n              'type': 'choropleth',\n              'visible': False,\n              'z': array([2, 2, 1, 1, 1], dtype=int64),\n              'zmax': 7,\n              'zmin': 1},\n             {'colorscale': [[0.0, 'rgb(255,245,240)'], [0.125,\n                             'rgb(254,224,210)'], [0.25, 'rgb(252,187,161)'],\n                             [0.375, 'rgb(252,146,114)'], [0.5, 'rgb(251,106,74)'],\n                             [0.625, 'rgb(239,59,44)'], [0.75, 'rgb(203,24,29)'],\n                             [0.875, 'rgb(165,15,21)'], [1.0, 'rgb(103,0,13)']],\n              'customdata': array(['California (CA)', 'New York (NY)', 'Texas (TX)', 'Pennsylvania (PA)',\n                                   'Massachusetts (MA)'], dtype=object),\n              'hovertemplate': '%{customdata}<br>%{z}<extra></extra>',\n              'locationmode': 'USA-states',\n              'locations': array(['CA', 'NY', 'TX', 'PA', 'MA'], dtype=object),\n              'type': 'choropleth',\n              'visible': False,\n              'z': array([2, 1, 1, 1, 1], dtype=int64),\n              'zmax': 7,\n              'zmin': 1},\n             {'colorscale': [[0.0, 'rgb(255,245,240)'], [0.125,\n                             'rgb(254,224,210)'], [0.25, 'rgb(252,187,161)'],\n                             [0.375, 'rgb(252,146,114)'], [0.5, 'rgb(251,106,74)'],\n                             [0.625, 'rgb(239,59,44)'], [0.75, 'rgb(203,24,29)'],\n                             [0.875, 'rgb(165,15,21)'], [1.0, 'rgb(103,0,13)']],\n              'customdata': array(['Texas (TX)', 'California (CA)', 'Pennsylvania (PA)', 'New York (NY)',\n                                   'Oregon (OR)', 'Arizona (AZ)', 'Massachusetts (MA)'], dtype=object),\n              'hovertemplate': '%{customdata}<br>%{z}<extra></extra>',\n              'locationmode': 'USA-states',\n              'locations': array(['TX', 'CA', 'PA', 'NY', 'OR', 'AZ', 'MA'], dtype=object),\n              'type': 'choropleth',\n              'visible': False,\n              'z': array([6, 2, 1, 1, 1, 1, 1], dtype=int64),\n              'zmax': 7,\n              'zmin': 1},\n             {'colorscale': [[0.0, 'rgb(255,245,240)'], [0.125,\n                             'rgb(254,224,210)'], [0.25, 'rgb(252,187,161)'],\n                             [0.375, 'rgb(252,146,114)'], [0.5, 'rgb(251,106,74)'],\n                             [0.625, 'rgb(239,59,44)'], [0.75, 'rgb(203,24,29)'],\n                             [0.875, 'rgb(165,15,21)'], [1.0, 'rgb(103,0,13)']],\n              'customdata': array(['Tennessee (TN)', 'California (CA)', 'Kentucky (KY)'], dtype=object),\n              'hovertemplate': '%{customdata}<br>%{z}<extra></extra>',\n              'locationmode': 'USA-states',\n              'locations': array(['TN', 'CA', 'KY'], dtype=object),\n              'type': 'choropleth',\n              'visible': False,\n              'z': array([1, 1, 1], dtype=int64),\n              'zmax': 7,\n              'zmin': 1},\n             {'colorscale': [[0.0, 'rgb(255,245,240)'], [0.125,\n                             'rgb(254,224,210)'], [0.25, 'rgb(252,187,161)'],\n                             [0.375, 'rgb(252,146,114)'], [0.5, 'rgb(251,106,74)'],\n                             [0.625, 'rgb(239,59,44)'], [0.75, 'rgb(203,24,29)'],\n                             [0.875, 'rgb(165,15,21)'], [1.0, 'rgb(103,0,13)']],\n              'customdata': array(['California (CA)', 'Oregon (OR)', 'Nebraska (NE)', 'Massachusetts (MA)',\n                                   'Indiana (IN)'], dtype=object),\n              'hovertemplate': '%{customdata}<br>%{z}<extra></extra>',\n              'locationmode': 'USA-states',\n              'locations': array(['CA', 'OR', 'NE', 'MA', 'IN'], dtype=object),\n              'type': 'choropleth',\n              'visible': False,\n              'z': array([2, 1, 1, 1, 1], dtype=int64),\n              'zmax': 7,\n              'zmin': 1},\n             {'colorscale': [[0.0, 'rgb(255,245,240)'], [0.125,\n                             'rgb(254,224,210)'], [0.25, 'rgb(252,187,161)'],\n                             [0.375, 'rgb(252,146,114)'], [0.5, 'rgb(251,106,74)'],\n                             [0.625, 'rgb(239,59,44)'], [0.75, 'rgb(203,24,29)'],\n                             [0.875, 'rgb(165,15,21)'], [1.0, 'rgb(103,0,13)']],\n              'customdata': array(['New Mexico (NM)', 'Arizona (AZ)'], dtype=object),\n              'hovertemplate': '%{customdata}<br>%{z}<extra></extra>',\n              'locationmode': 'USA-states',\n              'locations': array(['NM', 'AZ'], dtype=object),\n              'type': 'choropleth',\n              'visible': False,\n              'z': array([5, 1], dtype=int64),\n              'zmax': 7,\n              'zmin': 1},\n             {'colorscale': [[0.0, 'rgb(255,245,240)'], [0.125,\n                             'rgb(254,224,210)'], [0.25, 'rgb(252,187,161)'],\n                             [0.375, 'rgb(252,146,114)'], [0.5, 'rgb(251,106,74)'],\n                             [0.625, 'rgb(239,59,44)'], [0.75, 'rgb(203,24,29)'],\n                             [0.875, 'rgb(165,15,21)'], [1.0, 'rgb(103,0,13)']],\n              'customdata': array(['New Mexico (NM)'], dtype=object),\n              'hovertemplate': '%{customdata}<br>%{z}<extra></extra>',\n              'locationmode': 'USA-states',\n              'locations': array(['NM'], dtype=object),\n              'type': 'choropleth',\n              'visible': False,\n              'z': array([5], dtype=int64),\n              'zmax': 7,\n              'zmin': 1},\n             {'colorscale': [[0.0, 'rgb(255,245,240)'], [0.125,\n                             'rgb(254,224,210)'], [0.25, 'rgb(252,187,161)'],\n                             [0.375, 'rgb(252,146,114)'], [0.5, 'rgb(251,106,74)'],\n                             [0.625, 'rgb(239,59,44)'], [0.75, 'rgb(203,24,29)'],\n                             [0.875, 'rgb(165,15,21)'], [1.0, 'rgb(103,0,13)']],\n              'customdata': array(['New Mexico (NM)'], dtype=object),\n              'hovertemplate': '%{customdata}<br>%{z}<extra></extra>',\n              'locationmode': 'USA-states',\n              'locations': array(['NM'], dtype=object),\n              'type': 'choropleth',\n              'visible': False,\n              'z': array([6], dtype=int64),\n              'zmax': 7,\n              'zmin': 1},\n             {'colorscale': [[0.0, 'rgb(255,245,240)'], [0.125,\n                             'rgb(254,224,210)'], [0.25, 'rgb(252,187,161)'],\n                             [0.375, 'rgb(252,146,114)'], [0.5, 'rgb(251,106,74)'],\n                             [0.625, 'rgb(239,59,44)'], [0.75, 'rgb(203,24,29)'],\n                             [0.875, 'rgb(165,15,21)'], [1.0, 'rgb(103,0,13)']],\n              'customdata': array(['New Mexico (NM)'], dtype=object),\n              'hovertemplate': '%{customdata}<br>%{z}<extra></extra>',\n              'locationmode': 'USA-states',\n              'locations': array(['NM'], dtype=object),\n              'type': 'choropleth',\n              'visible': False,\n              'z': array([6], dtype=int64),\n              'zmax': 7,\n              'zmin': 1},\n             {'colorscale': [[0.0, 'rgb(255,245,240)'], [0.125,\n                             'rgb(254,224,210)'], [0.25, 'rgb(252,187,161)'],\n                             [0.375, 'rgb(252,146,114)'], [0.5, 'rgb(251,106,74)'],\n                             [0.625, 'rgb(239,59,44)'], [0.75, 'rgb(203,24,29)'],\n                             [0.875, 'rgb(165,15,21)'], [1.0, 'rgb(103,0,13)']],\n              'customdata': array(['New Mexico (NM)'], dtype=object),\n              'hovertemplate': '%{customdata}<br>%{z}<extra></extra>',\n              'locationmode': 'USA-states',\n              'locations': array(['NM'], dtype=object),\n              'type': 'choropleth',\n              'visible': False,\n              'z': array([6], dtype=int64),\n              'zmax': 7,\n              'zmin': 1},\n             {'colorscale': [[0.0, 'rgb(255,245,240)'], [0.125,\n                             'rgb(254,224,210)'], [0.25, 'rgb(252,187,161)'],\n                             [0.375, 'rgb(252,146,114)'], [0.5, 'rgb(251,106,74)'],\n                             [0.625, 'rgb(239,59,44)'], [0.75, 'rgb(203,24,29)'],\n                             [0.875, 'rgb(165,15,21)'], [1.0, 'rgb(103,0,13)']],\n              'customdata': array(['New Mexico (NM)'], dtype=object),\n              'hovertemplate': '%{customdata}<br>%{z}<extra></extra>',\n              'locationmode': 'USA-states',\n              'locations': array(['NM'], dtype=object),\n              'type': 'choropleth',\n              'visible': False,\n              'z': array([5], dtype=int64),\n              'zmax': 7,\n              'zmin': 1},\n             {'colorscale': [[0.0, 'rgb(255,245,240)'], [0.125,\n                             'rgb(254,224,210)'], [0.25, 'rgb(252,187,161)'],\n                             [0.375, 'rgb(252,146,114)'], [0.5, 'rgb(251,106,74)'],\n                             [0.625, 'rgb(239,59,44)'], [0.75, 'rgb(203,24,29)'],\n                             [0.875, 'rgb(165,15,21)'], [1.0, 'rgb(103,0,13)']],\n              'customdata': array(['New Mexico (NM)'], dtype=object),\n              'hovertemplate': '%{customdata}<br>%{z}<extra></extra>',\n              'locationmode': 'USA-states',\n              'locations': array(['NM'], dtype=object),\n              'type': 'choropleth',\n              'visible': False,\n              'z': array([6], dtype=int64),\n              'zmax': 7,\n              'zmin': 1},\n             {'colorscale': [[0.0, 'rgb(255,245,240)'], [0.125,\n                             'rgb(254,224,210)'], [0.25, 'rgb(252,187,161)'],\n                             [0.375, 'rgb(252,146,114)'], [0.5, 'rgb(251,106,74)'],\n                             [0.625, 'rgb(239,59,44)'], [0.75, 'rgb(203,24,29)'],\n                             [0.875, 'rgb(165,15,21)'], [1.0, 'rgb(103,0,13)']],\n              'customdata': array(['New Mexico (NM)'], dtype=object),\n              'hovertemplate': '%{customdata}<br>%{z}<extra></extra>',\n              'locationmode': 'USA-states',\n              'locations': array(['NM'], dtype=object),\n              'type': 'choropleth',\n              'visible': False,\n              'z': array([5], dtype=int64),\n              'zmax': 7,\n              'zmin': 1},\n             {'colorscale': [[0.0, 'rgb(255,245,240)'], [0.125,\n                             'rgb(254,224,210)'], [0.25, 'rgb(252,187,161)'],\n                             [0.375, 'rgb(252,146,114)'], [0.5, 'rgb(251,106,74)'],\n                             [0.625, 'rgb(239,59,44)'], [0.75, 'rgb(203,24,29)'],\n                             [0.875, 'rgb(165,15,21)'], [1.0, 'rgb(103,0,13)']],\n              'customdata': array(['New Mexico (NM)'], dtype=object),\n              'hovertemplate': '%{customdata}<br>%{z}<extra></extra>',\n              'locationmode': 'USA-states',\n              'locations': array(['NM'], dtype=object),\n              'type': 'choropleth',\n              'visible': False,\n              'z': array([6], dtype=int64),\n              'zmax': 7,\n              'zmin': 1},\n             {'colorscale': [[0.0, 'rgb(255,245,240)'], [0.125,\n                             'rgb(254,224,210)'], [0.25, 'rgb(252,187,161)'],\n                             [0.375, 'rgb(252,146,114)'], [0.5, 'rgb(251,106,74)'],\n                             [0.625, 'rgb(239,59,44)'], [0.75, 'rgb(203,24,29)'],\n                             [0.875, 'rgb(165,15,21)'], [1.0, 'rgb(103,0,13)']],\n              'customdata': array(['New Mexico (NM)'], dtype=object),\n              'hovertemplate': '%{customdata}<br>%{z}<extra></extra>',\n              'locationmode': 'USA-states',\n              'locations': array(['NM'], dtype=object),\n              'type': 'choropleth',\n              'visible': False,\n              'z': array([5], dtype=int64),\n              'zmax': 7,\n              'zmin': 1},\n             {'colorscale': [[0.0, 'rgb(255,245,240)'], [0.125,\n                             'rgb(254,224,210)'], [0.25, 'rgb(252,187,161)'],\n                             [0.375, 'rgb(252,146,114)'], [0.5, 'rgb(251,106,74)'],\n                             [0.625, 'rgb(239,59,44)'], [0.75, 'rgb(203,24,29)'],\n                             [0.875, 'rgb(165,15,21)'], [1.0, 'rgb(103,0,13)']],\n              'customdata': array(['New Mexico (NM)'], dtype=object),\n              'hovertemplate': '%{customdata}<br>%{z}<extra></extra>',\n              'locationmode': 'USA-states',\n              'locations': array(['NM'], dtype=object),\n              'type': 'choropleth',\n              'visible': False,\n              'z': array([1], dtype=int64),\n              'zmax': 7,\n              'zmin': 1}],\n    'layout': {'template': '...'}\n})]\n\n    The 'data' property is a tuple of trace instances\n    that may be specified as:\n      - A list or tuple of trace instances\n        (e.g. [Scatter(...), Bar(...)])\n      - A single trace instance\n        (e.g. Scatter(...), Bar(...), etc.)\n      - A list or tuple of dicts of string/value properties where:\n        - The 'type' property specifies the trace type\n            One of: ['bar', 'barpolar', 'box', 'candlestick',\n                     'carpet', 'choropleth', 'choroplethmapbox',\n                     'cone', 'contour', 'contourcarpet',\n                     'densitymapbox', 'funnel', 'funnelarea',\n                     'heatmap', 'heatmapgl', 'histogram',\n                     'histogram2d', 'histogram2dcontour', 'icicle',\n                     'image', 'indicator', 'isosurface', 'mesh3d',\n                     'ohlc', 'parcats', 'parcoords', 'pie',\n                     'pointcloud', 'sankey', 'scatter',\n                     'scatter3d', 'scattercarpet', 'scattergeo',\n                     'scattergl', 'scattermapbox', 'scatterpolar',\n                     'scatterpolargl', 'scattersmith',\n                     'scatterternary', 'splom', 'streamtube',\n                     'sunburst', 'surface', 'table', 'treemap',\n                     'violin', 'volume', 'waterfall']\n\n        - All remaining properties are passed to the constructor of\n          the specified trace type\n\n        (e.g. [{'type': 'scatter', ...}, {'type': 'bar, ...}])"
     ]
    }
   ],
   "source": [
    "fig = make_subplots(rows = 2, cols = 2,\n",
    "                    specs=[[{\"rowspan\":2}, {}],\n",
    "                           [None, {}]])\n",
    "\n",
    "def add_traces(fig, restaurante):\n",
    "\n",
    "       # if restaurante == \"Domino's\":\n",
    "       #        visible = True\n",
    "       # else:\n",
    "       #        visible = False\n",
    "\n",
    "       # Gráfico de mapa -------------------------------------------------------------------------------------------------\n",
    "       df = df_pizza[df_pizza['Restaurant Name'] == restaurante]\n",
    "\n",
    "       df = df[['State', 'Month']].value_counts().reset_index()\n",
    "       df.columns = ['State', 'Month', 'count']\n",
    "       df['Name'] = df['State'].map(us_states)\n",
    "       df['Name'] = df['Name'] + \" (\" + df['State'] + \")\"\n",
    "       df['Month'] = pd.to_datetime(df['Month'])\n",
    "       df['Month_str'] = df['Month'].dt.strftime('%b/%Y')\n",
    "\n",
    "       meses_ordenados = df.sort_values('Month')['Month_str'].unique()\n",
    "\n",
    "       data = []\n",
    "       steps = []\n",
    "\n",
    "       for i, mes_str in enumerate(meses_ordenados):\n",
    "              df_mes = df[df['Month_str'] == mes_str]\n",
    "              \n",
    "              trace = go.Choropleth(\n",
    "              locations=df_mes['State'],\n",
    "              z=df_mes['count'],\n",
    "              locationmode='USA-states',\n",
    "              colorscale='Reds',\n",
    "              zmin=df['count'].min(),\n",
    "              zmax=df['count'].max(),\n",
    "              customdata=df_mes['Name'],\n",
    "              hovertemplate='%{customdata}<br>%{z}<extra></extra>',\n",
    "              visible=(i == 0)\n",
    "              )\n",
    "              data.append(trace)\n",
    "              \n",
    "              step = dict(\n",
    "              method=\"update\",\n",
    "              args=[{\"visible\": [j == i for j in range(len(meses_ordenados))]},\n",
    "                     {\"title\": f\"Quantidade de pedidos por Estado | {restaurante} | {mes_str}\"}],\n",
    "              label=mes_str\n",
    "              )\n",
    "              steps.append(step)\n",
    "\n",
    "       sliders = [dict(\n",
    "              active=0,\n",
    "              steps=steps,\n",
    "              currentvalue={\"prefix\": \"Mês: \"}\n",
    "       )]\n",
    "\n",
    "       fig.add_trace(go.Figure(data=data), row = 1, col = 1)\n",
    "       fig.update_layout(\n",
    "              title_text=f\"Quantidade de pedidos por Estado | {restaurante}\",\n",
    "              geo_scope='usa',\n",
    "              sliders=sliders\n",
    "       )\n",
    "\n",
    "       # Gráfico de linhas -----------------------------------------------------------------------------------------------\n",
    "\n",
    "       df_tmp = df_pizza[df_pizza['Restaurant Name'] == restaurante]\n",
    "       qtd_pedidos = df_tmp[['Order Hour']].value_counts().reset_index(name='value').assign(variable='Qtd de pedidos')\n",
    "       eficiencia = df_tmp.groupby(['Order Hour'])['Delivery Efficiency (min/km)'].mean().reset_index(name='value').assign(variable='Delivery Efficiency (min/km)')\n",
    "       delay = df_tmp.groupby(['Order Hour'])['Delay (min)'].mean().reset_index(name='value').assign(variable='Delay (min)')\n",
    "       df_plot_raw = pd.concat([eficiencia, delay, qtd_pedidos])\n",
    "\n",
    "       # Obter todos os valores únicos\n",
    "       # all_restaurants = df_plot_raw['Restaurant Name'].unique()\n",
    "       all_hours = sorted(df_tmp['Order Hour'].unique())\n",
    "       all_variables = df_plot_raw['variable'].unique()\n",
    "\n",
    "       # Criar produto cartesiano\n",
    "       full_grid = (\n",
    "              pd.MultiIndex.from_product(\n",
    "              [all_hours, all_variables],\n",
    "              names=['Order Hour', 'variable']\n",
    "              )\n",
    "              .to_frame(index=False)\n",
    "       )\n",
    "\n",
    "       df_plot = full_grid.merge(df_plot_raw, on=['Order Hour', 'variable'], how='left')\n",
    "\n",
    "       # Garantir que Order Hour é categórico ordenado\n",
    "       df_plot['Order Hour'] = pd.Categorical(df_plot['Order Hour'], categories=all_hours, ordered=True)\n",
    "\n",
    "       # Ordenar corretamente\n",
    "       df_plot = df_plot.sort_values(['variable', 'Order Hour'])\n",
    "\n",
    "       # Criar o gráfico\n",
    "       fig = px.line(\n",
    "              df_plot,\n",
    "              x='Order Hour',\n",
    "              y='value',\n",
    "              markers=True,\n",
    "              color = 'variable'\n",
    "       )\n",
    "\n",
    "       fig.update_yaxes(range=[0, 60], title = '', showgrid=True, gridcolor='lightgray')\n",
    "       fig.update_xaxes(title = '', showgrid=True, gridcolor='lightgray')\n",
    "\n",
    "       fig.update_traces(connectgaps=True)\n",
    "       fig.for_each_annotation(lambda a: a.update(text=a.text.split(\"=\")[-1]))\n",
    "\n",
    "       fig.update_layout(\n",
    "              legend=dict(orientation=\"h\",\n",
    "                     yanchor=\"bottom\",\n",
    "                     y=-0.5,\n",
    "                     xanchor=\"center\",\n",
    "                     x=0.5,\n",
    "                     title = ''),\n",
    "              height = 600,\n",
    "              plot_bgcolor = 'white',\n",
    "              title = f\"Eficiência de delivery, Delay e Quantidade de pedidos | {restaurante}\")\n",
    "\n",
    "\n",
    "\n",
    "       # Gráfico de bolhas -----------------------------------------------------------------------------------------------\n",
    "\n",
    "\n",
    "\n",
    "\n",
    "add_traces(fig = fig, restaurante = \"Domino's\")\n",
    "\n",
    "fig.show()"
   ]
  },
  {
   "cell_type": "markdown",
   "metadata": {},
   "source": [
    "## [Exemplo original]"
   ]
  },
  {
   "cell_type": "code",
   "execution_count": 144,
   "metadata": {},
   "outputs": [],
   "source": [
    "# fig = make_subplots(rows = 1, cols = 5, shared_yaxes=True)\n",
    "\n",
    "# def add_traces(fig, df_vol, delta_jan_fev, delta_fev_mar, visible):\n",
    "   \n",
    "#     # Gráficos de volume de cada mês ----------------------------------------------------------------\n",
    "#     for i in [1, 2, 3]:\n",
    "#         fig.add_trace(\n",
    "#             go.Bar(x = df_vol[df_vol['DAT_REF'] == f'2025-0{str(i)}']['qtd'],\n",
    "#                    y = df_vol[df_vol['DAT_REF'] == f'2025-0{str(i)}']['TIPO'],\n",
    "#                    text=df_vol[df_vol['DAT_REF'] == f'2025-0{str(i)}']['qtd_pct'],\n",
    "#                    customdata = df_vol[df_vol['DAT_REF'] == f'2025-0{str(i)}']['DAT_REF'],\n",
    "#                    hovertemplate = \"<b>%{customdata}</b> <br><b>Motivo:</b> %{y} <br><b>Quantidade:</b> %{text}<extra></extra>\",\n",
    "#                    textposition='outside',\n",
    "#                    textfont=dict(size=10),\n",
    "#                    orientation = 'h', showlegend=False, width=0.7, marker_color = 'gray', visible = visible),\n",
    "#             row = 1,\n",
    "#             col = i\n",
    "#         )\n",
    "   \n",
    "#     # Gráficos de delta ------------------------------------------------------------------------------\n",
    "#     for idx, df in enumerate([delta_jan_fev, delta_fev_mar]):\n",
    "#         fig.add_trace(\n",
    "#             go.Bar(x = df['pct'],\n",
    "#                    y = df['TIPO'],\n",
    "#                    text= [f\"{v:.1%}\" for v in df['pct']],\n",
    "#                    textposition='outside',\n",
    "#                    textfont=dict(size=10),\n",
    "#                    customdata = df['delta'],\n",
    "#                    hovertemplate = \"<b>Motivo:</b> %{y} <br><b>Δ Volume:</b> %{customdata} (%{text})<extra></extra>\",\n",
    "#                    orientation = 'h', showlegend=False, width=0.7,\n",
    "#                    marker_color = ['#ac3a4e' if val > 0 else 'darkgreen' for val in df['delta']],\n",
    "#                    visible = visible),\n",
    "#             row = 1,\n",
    "#             col = idx + 4\n",
    "#         )\n",
    "       \n",
    "# # Traces - Todas as Plataformas\n",
    "# add_traces(fig = fig,\n",
    "#            df_vol = comp_mes_2025,\n",
    "#            delta_jan_fev = delta_jan_fev,\n",
    "#            delta_fev_mar = delta_fev_mar,\n",
    "#            visible = True)\n",
    "\n",
    "# # Traces - Controle\n",
    "# add_traces(fig = fig,\n",
    "#            df_vol = comp_mes_2025_plataformas[comp_mes_2025_plataformas['PRODUTO_CONSOLIDADO_2'] == 'Controle'],\n",
    "#            delta_jan_fev = delta_jan_fev_c,\n",
    "#            delta_fev_mar = delta_fev_mar_c,\n",
    "#            visible = False)\n",
    "\n",
    "# # Traces - Pós-pago\n",
    "# add_traces(fig = fig,\n",
    "#            df_vol = comp_mes_2025_plataformas[comp_mes_2025_plataformas['PRODUTO_CONSOLIDADO_2'] == 'Pós-pago'],\n",
    "#            delta_jan_fev = delta_jan_fev_p,\n",
    "#            delta_fev_mar = delta_fev_mar_p,\n",
    "#            visible = False)\n",
    "\n",
    "# title = dict(\n",
    "#     text=\"<b>[Comparação mensal] Canais Críticos</b> | Todas as Causas N1\",\n",
    "#     y=0.95,\n",
    "#     yanchor='top'\n",
    "# )\n",
    "\n",
    "# # volumes totais\n",
    "# vol_jan_c = str(sep_milhar(comp_mes_2025_plataformas[(comp_mes_2025_plataformas['PRODUTO_CONSOLIDADO_2'] == 'Controle') & (comp_mes_2025_plataformas['DAT_REF'] == '2025-01')]['qtd'].sum()))\n",
    "# vol_fev_c = str(sep_milhar(comp_mes_2025_plataformas[(comp_mes_2025_plataformas['PRODUTO_CONSOLIDADO_2'] == 'Controle') & (comp_mes_2025_plataformas['DAT_REF'] == '2025-02')]['qtd'].sum()))\n",
    "# vol_mar_c = str(sep_milhar(comp_mes_2025_plataformas[(comp_mes_2025_plataformas['PRODUTO_CONSOLIDADO_2'] == 'Controle') & (comp_mes_2025_plataformas['DAT_REF'] == '2025-03')]['qtd'].sum()))\n",
    "\n",
    "# vol_jan_p = str(sep_milhar(comp_mes_2025_plataformas[(comp_mes_2025_plataformas['PRODUTO_CONSOLIDADO_2'] == 'Pós-pago') & (comp_mes_2025_plataformas['DAT_REF'] == '2025-01')]['qtd'].sum()))\n",
    "# vol_fev_p = str(sep_milhar(comp_mes_2025_plataformas[(comp_mes_2025_plataformas['PRODUTO_CONSOLIDADO_2'] == 'Pós-pago') & (comp_mes_2025_plataformas['DAT_REF'] == '2025-02')]['qtd'].sum()))\n",
    "# vol_mar_p = str(sep_milhar(comp_mes_2025_plataformas[(comp_mes_2025_plataformas['PRODUTO_CONSOLIDADO_2'] == 'Pós-pago') & (comp_mes_2025_plataformas['DAT_REF'] == '2025-03')]['qtd'].sum()))\n",
    "\n",
    "# lista_x = [0.02, 0.23, 0.5, 0.71, 0.92]\n",
    "# altura_y = 1.07\n",
    "\n",
    "# def get_annotations(option):\n",
    "#     if option == \"Controle + Pós-pago\":\n",
    "#         return [\n",
    "#             dict(text=f\"<b>Jan/2025</b><br>Volume total: {str(sep_milhar(comp_mes_2025[comp_mes_2025['DAT_REF'] == '2025-01']['qtd'].sum()))}\",\n",
    "#                  x=lista_x[0], y=altura_y, font = dict(size=12, color='black'), xref = 'paper', yref = 'paper', showarrow = False),\n",
    "#             dict(text=f\"<b>Fev/2025</b><br>Volume total: {str(sep_milhar(comp_mes_2025[comp_mes_2025['DAT_REF'] == '2025-02']['qtd'].sum()))}\",\n",
    "#                  x=lista_x[1], y=altura_y, font = dict(size=12, color='black'), xref = 'paper', yref = 'paper', showarrow = False),\n",
    "#             dict(text=f\"<b>Mar/2025</b><br>Volume total: {str(sep_milhar(comp_mes_2025[comp_mes_2025['DAT_REF'] == '2025-03']['qtd'].sum()))}\",\n",
    "#                  x=lista_x[2], y=altura_y, font = dict(size=12, color='black'), xref = 'paper', yref = 'paper', showarrow = False),\n",
    "#             dict(text=f\"<b>Δ Jan → Fev</b><br>Δ Volume: {str(sep_milhar(vol_delta_jan_fev))}\",\n",
    "#                  x=lista_x[3], y=altura_y, font = dict(size=12, color='black'), xref = 'paper', yref = 'paper', showarrow = False),\n",
    "#             dict(text=f\"<b>Δ Fev → Mar</b><br>Δ Volume: {str(sep_milhar(vol_delta_fev_mar))}\",\n",
    "#                  x=lista_x[4], y=altura_y, font = dict(size=12, color='black'), xref = 'paper', yref = 'paper', showarrow = False)\n",
    "#         ]\n",
    "#     elif option == \"Controle\":\n",
    "#         return [\n",
    "#             dict(text=f\"<b>Jan/2025</b><br>Volume total: {vol_jan_c}\",\n",
    "#                  x=lista_x[0], y=altura_y, font = dict(size=12, color='black'), xref = 'paper', yref = 'paper', showarrow = False),\n",
    "#             dict(text=f\"<b>Fev/2025</b><br>Volume total: {vol_fev_c}\",\n",
    "#                  x=lista_x[1], y=altura_y, font = dict(size=12, color='black'), xref = 'paper', yref = 'paper', showarrow = False),\n",
    "#             dict(text=f\"<b>Mar/2025</b><br>Volume total: {vol_mar_c}\",\n",
    "#                  x=lista_x[2], y=altura_y, font = dict(size=12, color='black'), xref = 'paper', yref = 'paper', showarrow = False),\n",
    "#             dict(text=f\"<b>Δ Jan → Fev</b><br>Δ Volume: {str(sep_milhar(vol_delta_jan_fev_c))}\",\n",
    "#                  x=lista_x[3], y=altura_y, font = dict(size=12, color='black'), xref = 'paper', yref = 'paper', showarrow = False),\n",
    "#             dict(text=f\"<b>Δ Fev → Mar</b><br>Δ Volume: {str(sep_milhar(vol_delta_fev_mar_c))}\",\n",
    "#                  x=lista_x[4], y=altura_y, font = dict(size=12, color='black'), xref = 'paper', yref = 'paper', showarrow = False)\n",
    "#         ]\n",
    "#     elif option == \"Pós-pago\":\n",
    "#         return [\n",
    "#             dict(text=f\"<b>Jan/2025</b><br>Volume total: {vol_jan_p}\",\n",
    "#                  x=lista_x[0], y=altura_y, font = dict(size=12, color='black'), xref = 'paper', yref = 'paper', showarrow = False),\n",
    "#             dict(text=f\"<b>Fev/2025</b><br>Volume total: {vol_fev_p}\",\n",
    "#                  x=lista_x[1], y=altura_y, font = dict(size=12, color='black'), xref = 'paper', yref = 'paper', showarrow = False),\n",
    "#             dict(text=f\"<b>Mar/2025</b><br>Volume total: {vol_mar_p}\",\n",
    "#                  x=lista_x[2], y=altura_y, font = dict(size=12, color='black'), xref = 'paper', yref = 'paper', showarrow = False),\n",
    "#             dict(text=f\"<b>Δ Jan → Fev</b><br>Δ Volume: {str(sep_milhar(vol_delta_jan_fev_p))}\",\n",
    "#                  x=lista_x[3], y=altura_y, font = dict(size=12, color='black'), xref = 'paper', yref = 'paper', showarrow = False),\n",
    "#             dict(text=f\"<b>Δ Fev → Mar</b><br>Δ Volume: {str(sep_milhar(vol_delta_fev_mar_p))}\",\n",
    "#                  x=lista_x[4], y=altura_y, font = dict(size=12, color='black'), xref = 'paper', yref = 'paper', showarrow = False)\n",
    "#         ]\n",
    "\n",
    "# buttons = [\n",
    "#     dict(label=\"Controle + Pós-pago\",\n",
    "#          method=\"update\",\n",
    "#          args=[{\"visible\": [True] * 5 + [False] * 5 + [False] * 5},\n",
    "#                {\"title\": title,\n",
    "#                 \"annotations\": get_annotations(\"Controle + Pós-pago\")}]),\n",
    "#     dict(label=\"Controle\",\n",
    "#          method=\"update\",\n",
    "#          args=[{\"visible\": [False] * 5 + [True] * 5 + [False] * 5},\n",
    "#                {\"title\": title,\n",
    "#                 \"annotations\": get_annotations(\"Controle\")}]),\n",
    "#     dict(label=\"Pós-pago\",\n",
    "#          method=\"update\",\n",
    "#          args=[{\"visible\": [False] * 5 + [False] * 5 + [True] * 5},\n",
    "#                {\"title\": title,\n",
    "#                 \"annotations\": get_annotations(\"Pós-pago\")}])\n",
    "# ]\n",
    "   \n",
    "# fig.update_layout(height=800, width=1500, plot_bgcolor='white', paper_bgcolor='white',\n",
    "#                   margin=dict(t=150, b=50, l=50, r=50),\n",
    "#                   updatemenus=[dict(active=0, buttons=buttons, x=-0.087, y=1.15, xanchor='left', yanchor='top',\n",
    "#                                     pad={\"r\": 10, \"t\": 10},\n",
    "#                                     font=dict(size=12),\n",
    "#                                     bgcolor='#e4e4e4',\n",
    "#                                     bordercolor='gray',\n",
    "#                                     borderwidth=1.5)],\n",
    "#                   annotations=get_annotations(\"Controle + Pós-pago\"),\n",
    "#                   title = title,\n",
    "#                   hoverlabel=dict(bgcolor='white'),\n",
    "#                   font=dict(size=12))\n",
    "\n",
    "# for i in [1, 2, 3]:\n",
    "#     fig.update_xaxes(row = 1, col = i, title_font = {\"size\": 12}, tickfont = dict(size = 10, color = 'lightgray'), range=[0, 4000], dtick=1000)\n",
    "#     fig.add_shape(row = 1, col = i, type=\"line\", x0=0, x1=0, y0=-1, y1=20, yref='paper',line=dict(color=\"Black\", width=1, dash=\"solid\"))\n",
    "   \n",
    "# for i in [4, 5]:\n",
    "#     fig.update_xaxes(row = 1, col = i, title_font = {\"size\": 12}, tickfont = dict(size = 10, color = 'lightgray'), range=[-5, 12], dtick=5, tickformat='.0%')\n",
    "#     fig.add_shape(row = 1, col = i, type=\"line\", x0=0, x1=0, y0=-1, y1=20, yref='paper',line=dict(color=\"Black\", width=1, dash=\"solid\"))\n",
    "\n",
    "# fig.update_yaxes(row = 1, col = 1, title_font = {\"size\": 12}, tickfont = dict(size = 11))\n",
    "\n",
    "# fig.show()"
   ]
  },
  {
   "cell_type": "markdown",
   "metadata": {},
   "source": [
    "## Código para exportar html\n",
    "> Apenas markdown e outputs"
   ]
  },
  {
   "cell_type": "code",
   "execution_count": null,
   "metadata": {},
   "outputs": [],
   "source": []
  }
 ],
 "metadata": {
  "kernelspec": {
   "display_name": "Python 3",
   "language": "python",
   "name": "python3"
  },
  "language_info": {
   "codemirror_mode": {
    "name": "ipython",
    "version": 3
   },
   "file_extension": ".py",
   "mimetype": "text/x-python",
   "name": "python",
   "nbconvert_exporter": "python",
   "pygments_lexer": "ipython3",
   "version": "3.11.3"
  }
 },
 "nbformat": 4,
 "nbformat_minor": 2
}
