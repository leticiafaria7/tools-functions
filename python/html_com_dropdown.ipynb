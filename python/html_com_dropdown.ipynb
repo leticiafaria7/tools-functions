{
 "cells": [
  {
   "cell_type": "markdown",
   "metadata": {},
   "source": [
    "## Imports"
   ]
  },
  {
   "cell_type": "code",
   "execution_count": 71,
   "metadata": {},
   "outputs": [],
   "source": [
    "import pandas as pd\n",
    "import numpy as np\n",
    "import plotly\n",
    "import plotly.graph_objects as go\n",
    "from plotly.subplots import make_subplots\n",
    "import plotly.express as px\n",
    "\n",
    "from modulos.funcoes_sanity_check import categorias_colunas\n",
    "\n",
    "pd.set_option('display.max_columns', None)"
   ]
  },
  {
   "cell_type": "markdown",
   "metadata": {},
   "source": [
    "## Base de dados"
   ]
  },
  {
   "cell_type": "code",
   "execution_count": 85,
   "metadata": {},
   "outputs": [],
   "source": [
    "def faixa_dia_mes(x):\n",
    "    if x <= 5:\n",
    "        return \"Até dia 5\"\n",
    "    if x <= 10:\n",
    "        return \"De 6 a 10\"\n",
    "    if x <= 15:\n",
    "        return \"De 11 a 15\"\n",
    "    if x <= 20:\n",
    "        return \"De 16 a 20\"\n",
    "    if x <= 25:\n",
    "        return \"De 21 a 25\"\n",
    "    else:\n",
    "        return \"Depois do dia 26\""
   ]
  },
  {
   "cell_type": "code",
   "execution_count": 129,
   "metadata": {},
   "outputs": [
    {
     "name": "stdout",
     "output_type": "stream",
     "text": [
      "(1004, 20)\n"
     ]
    },
    {
     "data": {
      "text/html": [
       "<div>\n",
       "<style scoped>\n",
       "    .dataframe tbody tr th:only-of-type {\n",
       "        vertical-align: middle;\n",
       "    }\n",
       "\n",
       "    .dataframe tbody tr th {\n",
       "        vertical-align: top;\n",
       "    }\n",
       "\n",
       "    .dataframe thead th {\n",
       "        text-align: right;\n",
       "    }\n",
       "</style>\n",
       "<table border=\"1\" class=\"dataframe\">\n",
       "  <thead>\n",
       "    <tr style=\"text-align: right;\">\n",
       "      <th></th>\n",
       "      <th>Order ID</th>\n",
       "      <th>Restaurant Name</th>\n",
       "      <th>Location</th>\n",
       "      <th>Order Time</th>\n",
       "      <th>Delivery Duration (min)</th>\n",
       "      <th>Pizza Size</th>\n",
       "      <th>Pizza Type</th>\n",
       "      <th>Distance (km)</th>\n",
       "      <th>Traffic Level</th>\n",
       "      <th>Payment Method</th>\n",
       "      <th>Is Peak Hour</th>\n",
       "      <th>Delivery Efficiency (min/km)</th>\n",
       "      <th>Estimated Duration (min)</th>\n",
       "      <th>Delay (min)</th>\n",
       "      <th>Is Delayed</th>\n",
       "      <th>Order Hour</th>\n",
       "      <th>Month</th>\n",
       "      <th>Month Day</th>\n",
       "      <th>Weekday</th>\n",
       "      <th>State</th>\n",
       "    </tr>\n",
       "  </thead>\n",
       "  <tbody>\n",
       "    <tr>\n",
       "      <th>0</th>\n",
       "      <td>ORD001</td>\n",
       "      <td>Domino's</td>\n",
       "      <td>New York, NY</td>\n",
       "      <td>2024-01-05 18:30:00</td>\n",
       "      <td>15</td>\n",
       "      <td>Medium</td>\n",
       "      <td>Veg</td>\n",
       "      <td>2.5</td>\n",
       "      <td>Medium</td>\n",
       "      <td>Card</td>\n",
       "      <td>True</td>\n",
       "      <td>6.000000</td>\n",
       "      <td>6.0</td>\n",
       "      <td>9.0</td>\n",
       "      <td>False</td>\n",
       "      <td>18:30</td>\n",
       "      <td>2024-01</td>\n",
       "      <td>Até dia 5</td>\n",
       "      <td>Friday</td>\n",
       "      <td>NY</td>\n",
       "    </tr>\n",
       "    <tr>\n",
       "      <th>1</th>\n",
       "      <td>ORD002</td>\n",
       "      <td>Papa John's</td>\n",
       "      <td>Los Angeles, CA</td>\n",
       "      <td>2024-02-14 20:00:00</td>\n",
       "      <td>25</td>\n",
       "      <td>Large</td>\n",
       "      <td>Non-Veg</td>\n",
       "      <td>5.0</td>\n",
       "      <td>High</td>\n",
       "      <td>Wallet</td>\n",
       "      <td>True</td>\n",
       "      <td>5.000000</td>\n",
       "      <td>12.0</td>\n",
       "      <td>13.0</td>\n",
       "      <td>False</td>\n",
       "      <td>20:00</td>\n",
       "      <td>2024-02</td>\n",
       "      <td>De 11 a 15</td>\n",
       "      <td>Wednesday</td>\n",
       "      <td>CA</td>\n",
       "    </tr>\n",
       "    <tr>\n",
       "      <th>2</th>\n",
       "      <td>ORD003</td>\n",
       "      <td>Little Caesars</td>\n",
       "      <td>Chicago, IL</td>\n",
       "      <td>2024-03-21 12:15:00</td>\n",
       "      <td>20</td>\n",
       "      <td>Small</td>\n",
       "      <td>Vegan</td>\n",
       "      <td>3.0</td>\n",
       "      <td>Low</td>\n",
       "      <td>UPI</td>\n",
       "      <td>False</td>\n",
       "      <td>6.666667</td>\n",
       "      <td>7.2</td>\n",
       "      <td>12.8</td>\n",
       "      <td>False</td>\n",
       "      <td>12:15</td>\n",
       "      <td>2024-03</td>\n",
       "      <td>De 21 a 25</td>\n",
       "      <td>Thursday</td>\n",
       "      <td>IL</td>\n",
       "    </tr>\n",
       "    <tr>\n",
       "      <th>3</th>\n",
       "      <td>ORD004</td>\n",
       "      <td>Pizza Hut</td>\n",
       "      <td>Miami, FL</td>\n",
       "      <td>2024-04-10 19:45:00</td>\n",
       "      <td>25</td>\n",
       "      <td>XL</td>\n",
       "      <td>Cheese Burst</td>\n",
       "      <td>4.5</td>\n",
       "      <td>Medium</td>\n",
       "      <td>Cash</td>\n",
       "      <td>True</td>\n",
       "      <td>5.555556</td>\n",
       "      <td>10.8</td>\n",
       "      <td>14.2</td>\n",
       "      <td>False</td>\n",
       "      <td>19:45</td>\n",
       "      <td>2024-04</td>\n",
       "      <td>De 6 a 10</td>\n",
       "      <td>Wednesday</td>\n",
       "      <td>FL</td>\n",
       "    </tr>\n",
       "    <tr>\n",
       "      <th>4</th>\n",
       "      <td>ORD005</td>\n",
       "      <td>Marco's Pizza</td>\n",
       "      <td>Dallas, TX</td>\n",
       "      <td>2024-05-05 13:00:00</td>\n",
       "      <td>20</td>\n",
       "      <td>Medium</td>\n",
       "      <td>Non-Veg</td>\n",
       "      <td>2.0</td>\n",
       "      <td>High</td>\n",
       "      <td>Card</td>\n",
       "      <td>False</td>\n",
       "      <td>10.000000</td>\n",
       "      <td>4.8</td>\n",
       "      <td>15.2</td>\n",
       "      <td>False</td>\n",
       "      <td>13:00</td>\n",
       "      <td>2024-05</td>\n",
       "      <td>Até dia 5</td>\n",
       "      <td>Sunday</td>\n",
       "      <td>TX</td>\n",
       "    </tr>\n",
       "  </tbody>\n",
       "</table>\n",
       "</div>"
      ],
      "text/plain": [
       "  Order ID Restaurant Name         Location          Order Time  \\\n",
       "0   ORD001        Domino's     New York, NY 2024-01-05 18:30:00   \n",
       "1   ORD002     Papa John's  Los Angeles, CA 2024-02-14 20:00:00   \n",
       "2   ORD003  Little Caesars      Chicago, IL 2024-03-21 12:15:00   \n",
       "3   ORD004       Pizza Hut        Miami, FL 2024-04-10 19:45:00   \n",
       "4   ORD005   Marco's Pizza       Dallas, TX 2024-05-05 13:00:00   \n",
       "\n",
       "   Delivery Duration (min) Pizza Size    Pizza Type  Distance (km)  \\\n",
       "0                       15     Medium           Veg            2.5   \n",
       "1                       25      Large       Non-Veg            5.0   \n",
       "2                       20      Small         Vegan            3.0   \n",
       "3                       25         XL  Cheese Burst            4.5   \n",
       "4                       20     Medium       Non-Veg            2.0   \n",
       "\n",
       "  Traffic Level Payment Method  Is Peak Hour  Delivery Efficiency (min/km)  \\\n",
       "0        Medium           Card          True                      6.000000   \n",
       "1          High         Wallet          True                      5.000000   \n",
       "2           Low            UPI         False                      6.666667   \n",
       "3        Medium           Cash          True                      5.555556   \n",
       "4          High           Card         False                     10.000000   \n",
       "\n",
       "   Estimated Duration (min)  Delay (min)  Is Delayed Order Hour    Month  \\\n",
       "0                       6.0          9.0       False      18:30  2024-01   \n",
       "1                      12.0         13.0       False      20:00  2024-02   \n",
       "2                       7.2         12.8       False      12:15  2024-03   \n",
       "3                      10.8         14.2       False      19:45  2024-04   \n",
       "4                       4.8         15.2       False      13:00  2024-05   \n",
       "\n",
       "    Month Day    Weekday State  \n",
       "0   Até dia 5     Friday    NY  \n",
       "1  De 11 a 15  Wednesday    CA  \n",
       "2  De 21 a 25   Thursday    IL  \n",
       "3   De 6 a 10  Wednesday    FL  \n",
       "4   Até dia 5     Sunday    TX  "
      ]
     },
     "execution_count": 129,
     "metadata": {},
     "output_type": "execute_result"
    }
   ],
   "source": [
    "df_pizza = pd.read_excel('dados/Enhanced_pizza_sell_data_2024-25.xlsx')\n",
    "df_pizza['Restaurant Name'] = np.where(df_pizza['Restaurant Name'] == 'Marco’s Pizza', \"Marco's Pizza\", df_pizza['Restaurant Name'])\n",
    "df_pizza = df_pizza.drop(['Delivery Time', 'Topping Density', 'Order Month', 'Payment Category', 'Pizza Complexity', 'Traffic Impact', 'Restaurant Avg Time', \n",
    "                          'Is Weekend', 'Toppings Count'], axis = 1)\n",
    "df_pizza['Month'] = df_pizza['Order Time'].astype(str).apply(lambda x: x[:7])\n",
    "df_pizza['Month Day'] = df_pizza['Order Time'].dt.day.apply(faixa_dia_mes)\n",
    "df_pizza['Weekday'] = df_pizza['Order Time'].dt.day_name()\n",
    "df_pizza['Order Hour'] = df_pizza['Order Time'].astype(str).apply(lambda x: x[11:16])\n",
    "df_pizza['State'] = df_pizza['Location'].apply(lambda x: x.split(', ')[1])\n",
    "print(df_pizza.shape)\n",
    "df_pizza.head()\n",
    "\n",
    "# dropdown: restaurante\n",
    "# gráfico choropleth: qtd de pedidos por estado por mês (slider)\n",
    "# linhas: média eficiência de delivery por hora:min + média de delay por hora:min\n",
    "# bolhas: distancia vs tempo de delivery"
   ]
  },
  {
   "cell_type": "code",
   "execution_count": 142,
   "metadata": {},
   "outputs": [
    {
     "data": {
      "application/vnd.plotly.v1+json": {
       "config": {
        "plotlyServerURL": "https://plot.ly"
       },
       "data": [
        {
         "colorscale": [
          [
           0,
           "rgb(255,245,240)"
          ],
          [
           0.125,
           "rgb(254,224,210)"
          ],
          [
           0.25,
           "rgb(252,187,161)"
          ],
          [
           0.375,
           "rgb(252,146,114)"
          ],
          [
           0.5,
           "rgb(251,106,74)"
          ],
          [
           0.625,
           "rgb(239,59,44)"
          ],
          [
           0.75,
           "rgb(203,24,29)"
          ],
          [
           0.875,
           "rgb(165,15,21)"
          ],
          [
           1,
           "rgb(103,0,13)"
          ]
         ],
         "locationmode": "USA-states",
         "locations": [
          "TX",
          "IL",
          "CA",
          "FL",
          "AZ",
          "WA",
          "NY",
          "CO",
          "GA",
          "MA"
         ],
         "type": "choropleth",
         "visible": true,
         "z": [
          5,
          3,
          3,
          3,
          2,
          2,
          2,
          2,
          2,
          2
         ],
         "zmax": 18,
         "zmin": 1
        },
        {
         "colorscale": [
          [
           0,
           "rgb(255,245,240)"
          ],
          [
           0.125,
           "rgb(254,224,210)"
          ],
          [
           0.25,
           "rgb(252,187,161)"
          ],
          [
           0.375,
           "rgb(252,146,114)"
          ],
          [
           0.5,
           "rgb(251,106,74)"
          ],
          [
           0.625,
           "rgb(239,59,44)"
          ],
          [
           0.75,
           "rgb(203,24,29)"
          ],
          [
           0.875,
           "rgb(165,15,21)"
          ],
          [
           1,
           "rgb(103,0,13)"
          ]
         ],
         "locationmode": "USA-states",
         "locations": [
          "TX",
          "AZ",
          "GA",
          "CA",
          "WA",
          "CO",
          "FL",
          "IL",
          "MA"
         ],
         "type": "choropleth",
         "visible": false,
         "z": [
          7,
          4,
          4,
          4,
          3,
          2,
          2,
          2,
          2
         ],
         "zmax": 18,
         "zmin": 1
        },
        {
         "colorscale": [
          [
           0,
           "rgb(255,245,240)"
          ],
          [
           0.125,
           "rgb(254,224,210)"
          ],
          [
           0.25,
           "rgb(252,187,161)"
          ],
          [
           0.375,
           "rgb(252,146,114)"
          ],
          [
           0.5,
           "rgb(251,106,74)"
          ],
          [
           0.625,
           "rgb(239,59,44)"
          ],
          [
           0.75,
           "rgb(203,24,29)"
          ],
          [
           0.875,
           "rgb(165,15,21)"
          ],
          [
           1,
           "rgb(103,0,13)"
          ]
         ],
         "locationmode": "USA-states",
         "locations": [
          "TX",
          "IL",
          "AZ",
          "MA",
          "CA",
          "CO",
          "WA",
          "FL",
          "GA"
         ],
         "type": "choropleth",
         "visible": false,
         "z": [
          6,
          5,
          3,
          3,
          3,
          3,
          3,
          3,
          3
         ],
         "zmax": 18,
         "zmin": 1
        },
        {
         "colorscale": [
          [
           0,
           "rgb(255,245,240)"
          ],
          [
           0.125,
           "rgb(254,224,210)"
          ],
          [
           0.25,
           "rgb(252,187,161)"
          ],
          [
           0.375,
           "rgb(252,146,114)"
          ],
          [
           0.5,
           "rgb(251,106,74)"
          ],
          [
           0.625,
           "rgb(239,59,44)"
          ],
          [
           0.75,
           "rgb(203,24,29)"
          ],
          [
           0.875,
           "rgb(165,15,21)"
          ],
          [
           1,
           "rgb(103,0,13)"
          ]
         ],
         "locationmode": "USA-states",
         "locations": [
          "TX",
          "IL",
          "FL",
          "MA",
          "GA",
          "AZ",
          "CA",
          "CO",
          "WA"
         ],
         "type": "choropleth",
         "visible": false,
         "z": [
          5,
          4,
          4,
          3,
          3,
          3,
          3,
          3,
          3
         ],
         "zmax": 18,
         "zmin": 1
        },
        {
         "colorscale": [
          [
           0,
           "rgb(255,245,240)"
          ],
          [
           0.125,
           "rgb(254,224,210)"
          ],
          [
           0.25,
           "rgb(252,187,161)"
          ],
          [
           0.375,
           "rgb(252,146,114)"
          ],
          [
           0.5,
           "rgb(251,106,74)"
          ],
          [
           0.625,
           "rgb(239,59,44)"
          ],
          [
           0.75,
           "rgb(203,24,29)"
          ],
          [
           0.875,
           "rgb(165,15,21)"
          ],
          [
           1,
           "rgb(103,0,13)"
          ]
         ],
         "locationmode": "USA-states",
         "locations": [
          "CO",
          "WA",
          "FL",
          "TX",
          "MA",
          "IL"
         ],
         "type": "choropleth",
         "visible": false,
         "z": [
          1,
          1,
          1,
          1,
          1,
          1
         ],
         "zmax": 18,
         "zmin": 1
        },
        {
         "colorscale": [
          [
           0,
           "rgb(255,245,240)"
          ],
          [
           0.125,
           "rgb(254,224,210)"
          ],
          [
           0.25,
           "rgb(252,187,161)"
          ],
          [
           0.375,
           "rgb(252,146,114)"
          ],
          [
           0.5,
           "rgb(251,106,74)"
          ],
          [
           0.625,
           "rgb(239,59,44)"
          ],
          [
           0.75,
           "rgb(203,24,29)"
          ],
          [
           0.875,
           "rgb(165,15,21)"
          ],
          [
           1,
           "rgb(103,0,13)"
          ]
         ],
         "locationmode": "USA-states",
         "locations": [
          "GA",
          "FL",
          "IL",
          "AZ",
          "CA",
          "CO",
          "TX",
          "MA"
         ],
         "type": "choropleth",
         "visible": false,
         "z": [
          2,
          2,
          2,
          1,
          1,
          1,
          1,
          1
         ],
         "zmax": 18,
         "zmin": 1
        },
        {
         "colorscale": [
          [
           0,
           "rgb(255,245,240)"
          ],
          [
           0.125,
           "rgb(254,224,210)"
          ],
          [
           0.25,
           "rgb(252,187,161)"
          ],
          [
           0.375,
           "rgb(252,146,114)"
          ],
          [
           0.5,
           "rgb(251,106,74)"
          ],
          [
           0.625,
           "rgb(239,59,44)"
          ],
          [
           0.75,
           "rgb(203,24,29)"
          ],
          [
           0.875,
           "rgb(165,15,21)"
          ],
          [
           1,
           "rgb(103,0,13)"
          ]
         ],
         "locationmode": "USA-states",
         "locations": [
          "TX",
          "CA",
          "CO",
          "MA",
          "IL",
          "FL",
          "WA",
          "AZ",
          "NY",
          "GA"
         ],
         "type": "choropleth",
         "visible": false,
         "z": [
          7,
          4,
          4,
          4,
          3,
          3,
          2,
          2,
          1,
          1
         ],
         "zmax": 18,
         "zmin": 1
        },
        {
         "colorscale": [
          [
           0,
           "rgb(255,245,240)"
          ],
          [
           0.125,
           "rgb(254,224,210)"
          ],
          [
           0.25,
           "rgb(252,187,161)"
          ],
          [
           0.375,
           "rgb(252,146,114)"
          ],
          [
           0.5,
           "rgb(251,106,74)"
          ],
          [
           0.625,
           "rgb(239,59,44)"
          ],
          [
           0.75,
           "rgb(203,24,29)"
          ],
          [
           0.875,
           "rgb(165,15,21)"
          ],
          [
           1,
           "rgb(103,0,13)"
          ]
         ],
         "locationmode": "USA-states",
         "locations": [
          "TX",
          "CA",
          "MA",
          "CO",
          "FL",
          "IL",
          "AZ",
          "NY",
          "WA",
          "NC",
          "TN",
          "MD",
          "MI",
          "GA",
          "OH",
          "IN"
         ],
         "type": "choropleth",
         "visible": false,
         "z": [
          18,
          11,
          10,
          9,
          8,
          7,
          6,
          5,
          4,
          2,
          1,
          1,
          1,
          1,
          1,
          1
         ],
         "zmax": 18,
         "zmin": 1
        },
        {
         "colorscale": [
          [
           0,
           "rgb(255,245,240)"
          ],
          [
           0.125,
           "rgb(254,224,210)"
          ],
          [
           0.25,
           "rgb(252,187,161)"
          ],
          [
           0.375,
           "rgb(252,146,114)"
          ],
          [
           0.5,
           "rgb(251,106,74)"
          ],
          [
           0.625,
           "rgb(239,59,44)"
          ],
          [
           0.75,
           "rgb(203,24,29)"
          ],
          [
           0.875,
           "rgb(165,15,21)"
          ],
          [
           1,
           "rgb(103,0,13)"
          ]
         ],
         "locationmode": "USA-states",
         "locations": [
          "TX",
          "CA",
          "FL",
          "MA",
          "IL",
          "CO",
          "NY",
          "WA",
          "AZ",
          "NC",
          "TN",
          "MI",
          "OH",
          "MD",
          "IN"
         ],
         "type": "choropleth",
         "visible": false,
         "z": [
          14,
          12,
          8,
          7,
          7,
          6,
          5,
          5,
          4,
          2,
          1,
          1,
          1,
          1,
          1
         ],
         "zmax": 18,
         "zmin": 1
        },
        {
         "colorscale": [
          [
           0,
           "rgb(255,245,240)"
          ],
          [
           0.125,
           "rgb(254,224,210)"
          ],
          [
           0.25,
           "rgb(252,187,161)"
          ],
          [
           0.375,
           "rgb(252,146,114)"
          ],
          [
           0.5,
           "rgb(251,106,74)"
          ],
          [
           0.625,
           "rgb(239,59,44)"
          ],
          [
           0.75,
           "rgb(203,24,29)"
          ],
          [
           0.875,
           "rgb(165,15,21)"
          ],
          [
           1,
           "rgb(103,0,13)"
          ]
         ],
         "locationmode": "USA-states",
         "locations": [
          "TX",
          "CA",
          "MA",
          "CO",
          "FL",
          "WA",
          "NC",
          "NY",
          "IL",
          "AZ",
          "TN",
          "OH",
          "MI",
          "MD",
          "IN"
         ],
         "type": "choropleth",
         "visible": false,
         "z": [
          9,
          6,
          5,
          4,
          4,
          3,
          2,
          2,
          2,
          2,
          1,
          1,
          1,
          1,
          1
         ],
         "zmax": 18,
         "zmin": 1
        },
        {
         "colorscale": [
          [
           0,
           "rgb(255,245,240)"
          ],
          [
           0.125,
           "rgb(254,224,210)"
          ],
          [
           0.25,
           "rgb(252,187,161)"
          ],
          [
           0.375,
           "rgb(252,146,114)"
          ],
          [
           0.5,
           "rgb(251,106,74)"
          ],
          [
           0.625,
           "rgb(239,59,44)"
          ],
          [
           0.75,
           "rgb(203,24,29)"
          ],
          [
           0.875,
           "rgb(165,15,21)"
          ],
          [
           1,
           "rgb(103,0,13)"
          ]
         ],
         "locationmode": "USA-states",
         "locations": [
          "TX",
          "CA",
          "FL",
          "MA",
          "NC",
          "AZ",
          "TN",
          "CO",
          "WA",
          "OH",
          "MI",
          "MD",
          "NY",
          "IN",
          "IL"
         ],
         "type": "choropleth",
         "visible": false,
         "z": [
          7,
          5,
          4,
          2,
          2,
          1,
          1,
          1,
          1,
          1,
          1,
          1,
          1,
          1,
          1
         ],
         "zmax": 18,
         "zmin": 1
        },
        {
         "colorscale": [
          [
           0,
           "rgb(255,245,240)"
          ],
          [
           0.125,
           "rgb(254,224,210)"
          ],
          [
           0.25,
           "rgb(252,187,161)"
          ],
          [
           0.375,
           "rgb(252,146,114)"
          ],
          [
           0.5,
           "rgb(251,106,74)"
          ],
          [
           0.625,
           "rgb(239,59,44)"
          ],
          [
           0.75,
           "rgb(203,24,29)"
          ],
          [
           0.875,
           "rgb(165,15,21)"
          ],
          [
           1,
           "rgb(103,0,13)"
          ]
         ],
         "locationmode": "USA-states",
         "locations": [
          "TX",
          "CA",
          "FL",
          "NC",
          "MA",
          "WA",
          "OH",
          "CO",
          "IN",
          "IL",
          "AZ",
          "TN",
          "MI",
          "MD",
          "NY"
         ],
         "type": "choropleth",
         "visible": false,
         "z": [
          7,
          6,
          5,
          4,
          3,
          2,
          2,
          2,
          2,
          2,
          2,
          1,
          1,
          1,
          1
         ],
         "zmax": 18,
         "zmin": 1
        },
        {
         "colorscale": [
          [
           0,
           "rgb(255,245,240)"
          ],
          [
           0.125,
           "rgb(254,224,210)"
          ],
          [
           0.25,
           "rgb(252,187,161)"
          ],
          [
           0.375,
           "rgb(252,146,114)"
          ],
          [
           0.5,
           "rgb(251,106,74)"
          ],
          [
           0.625,
           "rgb(239,59,44)"
          ],
          [
           0.75,
           "rgb(203,24,29)"
          ],
          [
           0.875,
           "rgb(165,15,21)"
          ],
          [
           1,
           "rgb(103,0,13)"
          ]
         ],
         "locationmode": "USA-states",
         "locations": [
          "TX",
          "CA",
          "FL",
          "MA",
          "NY",
          "IL",
          "OH",
          "TN",
          "PA",
          "AZ",
          "CO",
          "WA",
          "MI",
          "NC",
          "MD",
          "GA"
         ],
         "type": "choropleth",
         "visible": false,
         "z": [
          8,
          4,
          3,
          2,
          2,
          2,
          1,
          1,
          1,
          1,
          1,
          1,
          1,
          1,
          1,
          1
         ],
         "zmax": 18,
         "zmin": 1
        },
        {
         "colorscale": [
          [
           0,
           "rgb(255,245,240)"
          ],
          [
           0.125,
           "rgb(254,224,210)"
          ],
          [
           0.25,
           "rgb(252,187,161)"
          ],
          [
           0.375,
           "rgb(252,146,114)"
          ],
          [
           0.5,
           "rgb(251,106,74)"
          ],
          [
           0.625,
           "rgb(239,59,44)"
          ],
          [
           0.75,
           "rgb(203,24,29)"
          ],
          [
           0.875,
           "rgb(165,15,21)"
          ],
          [
           1,
           "rgb(103,0,13)"
          ]
         ],
         "locationmode": "USA-states",
         "locations": [
          "CA",
          "FL",
          "AZ",
          "OH",
          "TN",
          "OK",
          "WI",
          "WA",
          "DC",
          "CO",
          "TX",
          "MO",
          "MN",
          "KY",
          "KS",
          "LA",
          "MA",
          "MD",
          "NC",
          "GA",
          "NE",
          "IN",
          "NM"
         ],
         "type": "choropleth",
         "visible": false,
         "z": [
          4,
          2,
          2,
          1,
          1,
          1,
          1,
          1,
          1,
          1,
          1,
          1,
          1,
          1,
          1,
          1,
          1,
          1,
          1,
          1,
          1,
          1,
          1
         ],
         "zmax": 18,
         "zmin": 1
        },
        {
         "colorscale": [
          [
           0,
           "rgb(255,245,240)"
          ],
          [
           0.125,
           "rgb(254,224,210)"
          ],
          [
           0.25,
           "rgb(252,187,161)"
          ],
          [
           0.375,
           "rgb(252,146,114)"
          ],
          [
           0.5,
           "rgb(251,106,74)"
          ],
          [
           0.625,
           "rgb(239,59,44)"
          ],
          [
           0.75,
           "rgb(203,24,29)"
          ],
          [
           0.875,
           "rgb(165,15,21)"
          ],
          [
           1,
           "rgb(103,0,13)"
          ]
         ],
         "locationmode": "USA-states",
         "locations": [
          "TX",
          "CA",
          "AZ",
          "NV",
          "NJ",
          "FL",
          "OH",
          "WI",
          "CO",
          "MN",
          "MO",
          "LA",
          "KY",
          "NC",
          "HI",
          "ID",
          "IN",
          "NE"
         ],
         "type": "choropleth",
         "visible": false,
         "z": [
          5,
          5,
          3,
          2,
          2,
          2,
          1,
          1,
          1,
          1,
          1,
          1,
          1,
          1,
          1,
          1,
          1,
          1
         ],
         "zmax": 18,
         "zmin": 1
        },
        {
         "colorscale": [
          [
           0,
           "rgb(255,245,240)"
          ],
          [
           0.125,
           "rgb(254,224,210)"
          ],
          [
           0.25,
           "rgb(252,187,161)"
          ],
          [
           0.375,
           "rgb(252,146,114)"
          ],
          [
           0.5,
           "rgb(251,106,74)"
          ],
          [
           0.625,
           "rgb(239,59,44)"
          ],
          [
           0.75,
           "rgb(203,24,29)"
          ],
          [
           0.875,
           "rgb(165,15,21)"
          ],
          [
           1,
           "rgb(103,0,13)"
          ]
         ],
         "locationmode": "USA-states",
         "locations": [
          "TX",
          "AZ",
          "OH",
          "TN",
          "NC",
          "CA",
          "FL",
          "OK",
          "OR",
          "WA",
          "VA",
          "CO",
          "LA",
          "MA",
          "MD",
          "GA",
          "NV",
          "IN",
          "IL"
         ],
         "type": "choropleth",
         "visible": false,
         "z": [
          5,
          3,
          2,
          2,
          2,
          2,
          2,
          1,
          1,
          1,
          1,
          1,
          1,
          1,
          1,
          1,
          1,
          1,
          1
         ],
         "zmax": 18,
         "zmin": 1
        },
        {
         "colorscale": [
          [
           0,
           "rgb(255,245,240)"
          ],
          [
           0.125,
           "rgb(254,224,210)"
          ],
          [
           0.25,
           "rgb(252,187,161)"
          ],
          [
           0.375,
           "rgb(252,146,114)"
          ],
          [
           0.5,
           "rgb(251,106,74)"
          ],
          [
           0.625,
           "rgb(239,59,44)"
          ],
          [
           0.75,
           "rgb(203,24,29)"
          ],
          [
           0.875,
           "rgb(165,15,21)"
          ],
          [
           1,
           "rgb(103,0,13)"
          ]
         ],
         "locationmode": "USA-states",
         "locations": [
          "TX",
          "CA",
          "WI",
          "TN",
          "AZ",
          "OH",
          "FL",
          "PA",
          "WA",
          "DC",
          "CO",
          "MI",
          "MA",
          "IN",
          "NC",
          "NY",
          "IL",
          "NM"
         ],
         "type": "choropleth",
         "visible": false,
         "z": [
          6,
          6,
          2,
          2,
          2,
          1,
          1,
          1,
          1,
          1,
          1,
          1,
          1,
          1,
          1,
          1,
          1,
          1
         ],
         "zmax": 18,
         "zmin": 1
        },
        {
         "colorscale": [
          [
           0,
           "rgb(255,245,240)"
          ],
          [
           0.125,
           "rgb(254,224,210)"
          ],
          [
           0.25,
           "rgb(252,187,161)"
          ],
          [
           0.375,
           "rgb(252,146,114)"
          ],
          [
           0.5,
           "rgb(251,106,74)"
          ],
          [
           0.625,
           "rgb(239,59,44)"
          ],
          [
           0.75,
           "rgb(203,24,29)"
          ],
          [
           0.875,
           "rgb(165,15,21)"
          ],
          [
           1,
           "rgb(103,0,13)"
          ]
         ],
         "locationmode": "USA-states",
         "locations": [
          "TX",
          "FL",
          "CA",
          "WA",
          "NC",
          "CO",
          "IL",
          "GA",
          "AZ",
          "OK",
          "TN",
          "OH",
          "PA",
          "OR",
          "DC",
          "MI",
          "IN",
          "MA",
          "NV",
          "NY"
         ],
         "type": "choropleth",
         "visible": false,
         "z": [
          13,
          8,
          6,
          2,
          2,
          2,
          2,
          2,
          2,
          1,
          1,
          1,
          1,
          1,
          1,
          1,
          1,
          1,
          1,
          1
         ],
         "zmax": 18,
         "zmin": 1
        },
        {
         "colorscale": [
          [
           0,
           "rgb(255,245,240)"
          ],
          [
           0.125,
           "rgb(254,224,210)"
          ],
          [
           0.25,
           "rgb(252,187,161)"
          ],
          [
           0.375,
           "rgb(252,146,114)"
          ],
          [
           0.5,
           "rgb(251,106,74)"
          ],
          [
           0.625,
           "rgb(239,59,44)"
          ],
          [
           0.75,
           "rgb(203,24,29)"
          ],
          [
           0.875,
           "rgb(165,15,21)"
          ],
          [
           1,
           "rgb(103,0,13)"
          ]
         ],
         "locationmode": "USA-states",
         "locations": [
          "TN",
          "CA",
          "WA",
          "TX",
          "DC",
          "CO",
          "MI",
          "IN",
          "KY",
          "MA",
          "NV"
         ],
         "type": "choropleth",
         "visible": false,
         "z": [
          1,
          1,
          1,
          1,
          1,
          1,
          1,
          1,
          1,
          1,
          1
         ],
         "zmax": 18,
         "zmin": 1
        },
        {
         "colorscale": [
          [
           0,
           "rgb(255,245,240)"
          ],
          [
           0.125,
           "rgb(254,224,210)"
          ],
          [
           0.25,
           "rgb(252,187,161)"
          ],
          [
           0.375,
           "rgb(252,146,114)"
          ],
          [
           0.5,
           "rgb(251,106,74)"
          ],
          [
           0.625,
           "rgb(239,59,44)"
          ],
          [
           0.75,
           "rgb(203,24,29)"
          ],
          [
           0.875,
           "rgb(165,15,21)"
          ],
          [
           1,
           "rgb(103,0,13)"
          ]
         ],
         "locationmode": "USA-states",
         "locations": [
          "CA",
          "MD",
          "TX",
          "TN",
          "NC",
          "AZ",
          "FL",
          "OH",
          "OK",
          "OR",
          "VA",
          "WA",
          "WI",
          "CO",
          "MI",
          "MO",
          "IN",
          "GA",
          "NE",
          "NM",
          "MA"
         ],
         "type": "choropleth",
         "visible": false,
         "z": [
          6,
          2,
          2,
          2,
          2,
          2,
          1,
          1,
          1,
          1,
          1,
          1,
          1,
          1,
          1,
          1,
          1,
          1,
          1,
          1,
          1
         ],
         "zmax": 18,
         "zmin": 1
        },
        {
         "colorscale": [
          [
           0,
           "rgb(255,245,240)"
          ],
          [
           0.125,
           "rgb(254,224,210)"
          ],
          [
           0.25,
           "rgb(252,187,161)"
          ],
          [
           0.375,
           "rgb(252,146,114)"
          ],
          [
           0.5,
           "rgb(251,106,74)"
          ],
          [
           0.625,
           "rgb(239,59,44)"
          ],
          [
           0.75,
           "rgb(203,24,29)"
          ],
          [
           0.875,
           "rgb(165,15,21)"
          ],
          [
           1,
           "rgb(103,0,13)"
          ]
         ],
         "locationmode": "USA-states",
         "locations": [
          "WI",
          "GA",
          "KY",
          "NM",
          "NE",
          "CA",
          "AZ",
          "MO",
          "NV"
         ],
         "type": "choropleth",
         "visible": false,
         "z": [
          5,
          5,
          5,
          5,
          4,
          2,
          2,
          1,
          1
         ],
         "zmax": 18,
         "zmin": 1
        },
        {
         "colorscale": [
          [
           0,
           "rgb(255,245,240)"
          ],
          [
           0.125,
           "rgb(254,224,210)"
          ],
          [
           0.25,
           "rgb(252,187,161)"
          ],
          [
           0.375,
           "rgb(252,146,114)"
          ],
          [
           0.5,
           "rgb(251,106,74)"
          ],
          [
           0.625,
           "rgb(239,59,44)"
          ],
          [
           0.75,
           "rgb(203,24,29)"
          ],
          [
           0.875,
           "rgb(165,15,21)"
          ],
          [
           1,
           "rgb(103,0,13)"
          ]
         ],
         "locationmode": "USA-states",
         "locations": [
          "NE",
          "WI",
          "KY",
          "GA",
          "NM"
         ],
         "type": "choropleth",
         "visible": false,
         "z": [
          7,
          7,
          7,
          5,
          5
         ],
         "zmax": 18,
         "zmin": 1
        },
        {
         "colorscale": [
          [
           0,
           "rgb(255,245,240)"
          ],
          [
           0.125,
           "rgb(254,224,210)"
          ],
          [
           0.25,
           "rgb(252,187,161)"
          ],
          [
           0.375,
           "rgb(252,146,114)"
          ],
          [
           0.5,
           "rgb(251,106,74)"
          ],
          [
           0.625,
           "rgb(239,59,44)"
          ],
          [
           0.75,
           "rgb(203,24,29)"
          ],
          [
           0.875,
           "rgb(165,15,21)"
          ],
          [
           1,
           "rgb(103,0,13)"
          ]
         ],
         "locationmode": "USA-states",
         "locations": [
          "NM",
          "GA",
          "KY",
          "NE",
          "WI"
         ],
         "type": "choropleth",
         "visible": false,
         "z": [
          6,
          6,
          6,
          6,
          6
         ],
         "zmax": 18,
         "zmin": 1
        },
        {
         "colorscale": [
          [
           0,
           "rgb(255,245,240)"
          ],
          [
           0.125,
           "rgb(254,224,210)"
          ],
          [
           0.25,
           "rgb(252,187,161)"
          ],
          [
           0.375,
           "rgb(252,146,114)"
          ],
          [
           0.5,
           "rgb(251,106,74)"
          ],
          [
           0.625,
           "rgb(239,59,44)"
          ],
          [
           0.75,
           "rgb(203,24,29)"
          ],
          [
           0.875,
           "rgb(165,15,21)"
          ],
          [
           1,
           "rgb(103,0,13)"
          ]
         ],
         "locationmode": "USA-states",
         "locations": [
          "NE",
          "KY",
          "WI",
          "NM",
          "GA"
         ],
         "type": "choropleth",
         "visible": false,
         "z": [
          9,
          9,
          9,
          6,
          6
         ],
         "zmax": 18,
         "zmin": 1
        },
        {
         "colorscale": [
          [
           0,
           "rgb(255,245,240)"
          ],
          [
           0.125,
           "rgb(254,224,210)"
          ],
          [
           0.25,
           "rgb(252,187,161)"
          ],
          [
           0.375,
           "rgb(252,146,114)"
          ],
          [
           0.5,
           "rgb(251,106,74)"
          ],
          [
           0.625,
           "rgb(239,59,44)"
          ],
          [
           0.75,
           "rgb(203,24,29)"
          ],
          [
           0.875,
           "rgb(165,15,21)"
          ],
          [
           1,
           "rgb(103,0,13)"
          ]
         ],
         "locationmode": "USA-states",
         "locations": [
          "NE",
          "NM",
          "KY",
          "GA",
          "WI"
         ],
         "type": "choropleth",
         "visible": false,
         "z": [
          7,
          6,
          6,
          6,
          6
         ],
         "zmax": 18,
         "zmin": 1
        },
        {
         "colorscale": [
          [
           0,
           "rgb(255,245,240)"
          ],
          [
           0.125,
           "rgb(254,224,210)"
          ],
          [
           0.25,
           "rgb(252,187,161)"
          ],
          [
           0.375,
           "rgb(252,146,114)"
          ],
          [
           0.5,
           "rgb(251,106,74)"
          ],
          [
           0.625,
           "rgb(239,59,44)"
          ],
          [
           0.75,
           "rgb(203,24,29)"
          ],
          [
           0.875,
           "rgb(165,15,21)"
          ],
          [
           1,
           "rgb(103,0,13)"
          ]
         ],
         "locationmode": "USA-states",
         "locations": [
          "KY",
          "WI",
          "NE",
          "NM",
          "GA"
         ],
         "type": "choropleth",
         "visible": false,
         "z": [
          6,
          6,
          6,
          5,
          5
         ],
         "zmax": 18,
         "zmin": 1
        },
        {
         "colorscale": [
          [
           0,
           "rgb(255,245,240)"
          ],
          [
           0.125,
           "rgb(254,224,210)"
          ],
          [
           0.25,
           "rgb(252,187,161)"
          ],
          [
           0.375,
           "rgb(252,146,114)"
          ],
          [
           0.5,
           "rgb(251,106,74)"
          ],
          [
           0.625,
           "rgb(239,59,44)"
          ],
          [
           0.75,
           "rgb(203,24,29)"
          ],
          [
           0.875,
           "rgb(165,15,21)"
          ],
          [
           1,
           "rgb(103,0,13)"
          ]
         ],
         "locationmode": "USA-states",
         "locations": [
          "KY",
          "WI",
          "NM",
          "NE",
          "GA"
         ],
         "type": "choropleth",
         "visible": false,
         "z": [
          7,
          7,
          6,
          6,
          5
         ],
         "zmax": 18,
         "zmin": 1
        },
        {
         "colorscale": [
          [
           0,
           "rgb(255,245,240)"
          ],
          [
           0.125,
           "rgb(254,224,210)"
          ],
          [
           0.25,
           "rgb(252,187,161)"
          ],
          [
           0.375,
           "rgb(252,146,114)"
          ],
          [
           0.5,
           "rgb(251,106,74)"
          ],
          [
           0.625,
           "rgb(239,59,44)"
          ],
          [
           0.75,
           "rgb(203,24,29)"
          ],
          [
           0.875,
           "rgb(165,15,21)"
          ],
          [
           1,
           "rgb(103,0,13)"
          ]
         ],
         "locationmode": "USA-states",
         "locations": [
          "NE",
          "KY",
          "GA",
          "WI",
          "NM"
         ],
         "type": "choropleth",
         "visible": false,
         "z": [
          7,
          6,
          6,
          6,
          5
         ],
         "zmax": 18,
         "zmin": 1
        },
        {
         "colorscale": [
          [
           0,
           "rgb(255,245,240)"
          ],
          [
           0.125,
           "rgb(254,224,210)"
          ],
          [
           0.25,
           "rgb(252,187,161)"
          ],
          [
           0.375,
           "rgb(252,146,114)"
          ],
          [
           0.5,
           "rgb(251,106,74)"
          ],
          [
           0.625,
           "rgb(239,59,44)"
          ],
          [
           0.75,
           "rgb(203,24,29)"
          ],
          [
           0.875,
           "rgb(165,15,21)"
          ],
          [
           1,
           "rgb(103,0,13)"
          ]
         ],
         "locationmode": "USA-states",
         "locations": [
          "KY",
          "WI",
          "NM",
          "NE",
          "GA"
         ],
         "type": "choropleth",
         "visible": false,
         "z": [
          7,
          7,
          6,
          6,
          5
         ],
         "zmax": 18,
         "zmin": 1
        },
        {
         "colorscale": [
          [
           0,
           "rgb(255,245,240)"
          ],
          [
           0.125,
           "rgb(254,224,210)"
          ],
          [
           0.25,
           "rgb(252,187,161)"
          ],
          [
           0.375,
           "rgb(252,146,114)"
          ],
          [
           0.5,
           "rgb(251,106,74)"
          ],
          [
           0.625,
           "rgb(239,59,44)"
          ],
          [
           0.75,
           "rgb(203,24,29)"
          ],
          [
           0.875,
           "rgb(165,15,21)"
          ],
          [
           1,
           "rgb(103,0,13)"
          ]
         ],
         "locationmode": "USA-states",
         "locations": [
          "NE",
          "KY",
          "GA",
          "WI",
          "NM"
         ],
         "type": "choropleth",
         "visible": false,
         "z": [
          7,
          6,
          6,
          6,
          5
         ],
         "zmax": 18,
         "zmin": 1
        },
        {
         "colorscale": [
          [
           0,
           "rgb(255,245,240)"
          ],
          [
           0.125,
           "rgb(254,224,210)"
          ],
          [
           0.25,
           "rgb(252,187,161)"
          ],
          [
           0.375,
           "rgb(252,146,114)"
          ],
          [
           0.5,
           "rgb(251,106,74)"
          ],
          [
           0.625,
           "rgb(239,59,44)"
          ],
          [
           0.75,
           "rgb(203,24,29)"
          ],
          [
           0.875,
           "rgb(165,15,21)"
          ],
          [
           1,
           "rgb(103,0,13)"
          ]
         ],
         "locationmode": "USA-states",
         "locations": [
          "WI",
          "KY",
          "NM",
          "GA",
          "NE"
         ],
         "type": "choropleth",
         "visible": false,
         "z": [
          2,
          2,
          1,
          1,
          1
         ],
         "zmax": 18,
         "zmin": 1
        }
       ],
       "layout": {
        "geo": {
         "scope": "usa"
        },
        "height": 700,
        "sliders": [
         {
          "active": 0,
          "currentvalue": {
           "prefix": "Mês: "
          },
          "steps": [
           {
            "args": [
             {
              "visible": [
               true,
               false,
               false,
               false,
               false,
               false,
               false,
               false,
               false,
               false,
               false,
               false,
               false,
               false,
               false,
               false,
               false,
               false,
               false,
               false,
               false,
               false,
               false,
               false,
               false,
               false,
               false,
               false,
               false,
               false,
               false
              ]
             },
             {
              "title": "Qtd pedidos por Estado | Jan/2024"
             }
            ],
            "label": "Jan/2024",
            "method": "update"
           },
           {
            "args": [
             {
              "visible": [
               false,
               true,
               false,
               false,
               false,
               false,
               false,
               false,
               false,
               false,
               false,
               false,
               false,
               false,
               false,
               false,
               false,
               false,
               false,
               false,
               false,
               false,
               false,
               false,
               false,
               false,
               false,
               false,
               false,
               false,
               false
              ]
             },
             {
              "title": "Qtd pedidos por Estado | Feb/2024"
             }
            ],
            "label": "Feb/2024",
            "method": "update"
           },
           {
            "args": [
             {
              "visible": [
               false,
               false,
               true,
               false,
               false,
               false,
               false,
               false,
               false,
               false,
               false,
               false,
               false,
               false,
               false,
               false,
               false,
               false,
               false,
               false,
               false,
               false,
               false,
               false,
               false,
               false,
               false,
               false,
               false,
               false,
               false
              ]
             },
             {
              "title": "Qtd pedidos por Estado | Mar/2024"
             }
            ],
            "label": "Mar/2024",
            "method": "update"
           },
           {
            "args": [
             {
              "visible": [
               false,
               false,
               false,
               true,
               false,
               false,
               false,
               false,
               false,
               false,
               false,
               false,
               false,
               false,
               false,
               false,
               false,
               false,
               false,
               false,
               false,
               false,
               false,
               false,
               false,
               false,
               false,
               false,
               false,
               false,
               false
              ]
             },
             {
              "title": "Qtd pedidos por Estado | Apr/2024"
             }
            ],
            "label": "Apr/2024",
            "method": "update"
           },
           {
            "args": [
             {
              "visible": [
               false,
               false,
               false,
               false,
               true,
               false,
               false,
               false,
               false,
               false,
               false,
               false,
               false,
               false,
               false,
               false,
               false,
               false,
               false,
               false,
               false,
               false,
               false,
               false,
               false,
               false,
               false,
               false,
               false,
               false,
               false
              ]
             },
             {
              "title": "Qtd pedidos por Estado | May/2024"
             }
            ],
            "label": "May/2024",
            "method": "update"
           },
           {
            "args": [
             {
              "visible": [
               false,
               false,
               false,
               false,
               false,
               true,
               false,
               false,
               false,
               false,
               false,
               false,
               false,
               false,
               false,
               false,
               false,
               false,
               false,
               false,
               false,
               false,
               false,
               false,
               false,
               false,
               false,
               false,
               false,
               false,
               false
              ]
             },
             {
              "title": "Qtd pedidos por Estado | Jun/2024"
             }
            ],
            "label": "Jun/2024",
            "method": "update"
           },
           {
            "args": [
             {
              "visible": [
               false,
               false,
               false,
               false,
               false,
               false,
               true,
               false,
               false,
               false,
               false,
               false,
               false,
               false,
               false,
               false,
               false,
               false,
               false,
               false,
               false,
               false,
               false,
               false,
               false,
               false,
               false,
               false,
               false,
               false,
               false
              ]
             },
             {
              "title": "Qtd pedidos por Estado | Jul/2024"
             }
            ],
            "label": "Jul/2024",
            "method": "update"
           },
           {
            "args": [
             {
              "visible": [
               false,
               false,
               false,
               false,
               false,
               false,
               false,
               true,
               false,
               false,
               false,
               false,
               false,
               false,
               false,
               false,
               false,
               false,
               false,
               false,
               false,
               false,
               false,
               false,
               false,
               false,
               false,
               false,
               false,
               false,
               false
              ]
             },
             {
              "title": "Qtd pedidos por Estado | Aug/2024"
             }
            ],
            "label": "Aug/2024",
            "method": "update"
           },
           {
            "args": [
             {
              "visible": [
               false,
               false,
               false,
               false,
               false,
               false,
               false,
               false,
               true,
               false,
               false,
               false,
               false,
               false,
               false,
               false,
               false,
               false,
               false,
               false,
               false,
               false,
               false,
               false,
               false,
               false,
               false,
               false,
               false,
               false,
               false
              ]
             },
             {
              "title": "Qtd pedidos por Estado | Sep/2024"
             }
            ],
            "label": "Sep/2024",
            "method": "update"
           },
           {
            "args": [
             {
              "visible": [
               false,
               false,
               false,
               false,
               false,
               false,
               false,
               false,
               false,
               true,
               false,
               false,
               false,
               false,
               false,
               false,
               false,
               false,
               false,
               false,
               false,
               false,
               false,
               false,
               false,
               false,
               false,
               false,
               false,
               false,
               false
              ]
             },
             {
              "title": "Qtd pedidos por Estado | Oct/2024"
             }
            ],
            "label": "Oct/2024",
            "method": "update"
           },
           {
            "args": [
             {
              "visible": [
               false,
               false,
               false,
               false,
               false,
               false,
               false,
               false,
               false,
               false,
               true,
               false,
               false,
               false,
               false,
               false,
               false,
               false,
               false,
               false,
               false,
               false,
               false,
               false,
               false,
               false,
               false,
               false,
               false,
               false,
               false
              ]
             },
             {
              "title": "Qtd pedidos por Estado | Nov/2024"
             }
            ],
            "label": "Nov/2024",
            "method": "update"
           },
           {
            "args": [
             {
              "visible": [
               false,
               false,
               false,
               false,
               false,
               false,
               false,
               false,
               false,
               false,
               false,
               true,
               false,
               false,
               false,
               false,
               false,
               false,
               false,
               false,
               false,
               false,
               false,
               false,
               false,
               false,
               false,
               false,
               false,
               false,
               false
              ]
             },
             {
              "title": "Qtd pedidos por Estado | Dec/2024"
             }
            ],
            "label": "Dec/2024",
            "method": "update"
           },
           {
            "args": [
             {
              "visible": [
               false,
               false,
               false,
               false,
               false,
               false,
               false,
               false,
               false,
               false,
               false,
               false,
               true,
               false,
               false,
               false,
               false,
               false,
               false,
               false,
               false,
               false,
               false,
               false,
               false,
               false,
               false,
               false,
               false,
               false,
               false
              ]
             },
             {
              "title": "Qtd pedidos por Estado | Jan/2025"
             }
            ],
            "label": "Jan/2025",
            "method": "update"
           },
           {
            "args": [
             {
              "visible": [
               false,
               false,
               false,
               false,
               false,
               false,
               false,
               false,
               false,
               false,
               false,
               false,
               false,
               true,
               false,
               false,
               false,
               false,
               false,
               false,
               false,
               false,
               false,
               false,
               false,
               false,
               false,
               false,
               false,
               false,
               false
              ]
             },
             {
              "title": "Qtd pedidos por Estado | Feb/2025"
             }
            ],
            "label": "Feb/2025",
            "method": "update"
           },
           {
            "args": [
             {
              "visible": [
               false,
               false,
               false,
               false,
               false,
               false,
               false,
               false,
               false,
               false,
               false,
               false,
               false,
               false,
               true,
               false,
               false,
               false,
               false,
               false,
               false,
               false,
               false,
               false,
               false,
               false,
               false,
               false,
               false,
               false,
               false
              ]
             },
             {
              "title": "Qtd pedidos por Estado | Mar/2025"
             }
            ],
            "label": "Mar/2025",
            "method": "update"
           },
           {
            "args": [
             {
              "visible": [
               false,
               false,
               false,
               false,
               false,
               false,
               false,
               false,
               false,
               false,
               false,
               false,
               false,
               false,
               false,
               true,
               false,
               false,
               false,
               false,
               false,
               false,
               false,
               false,
               false,
               false,
               false,
               false,
               false,
               false,
               false
              ]
             },
             {
              "title": "Qtd pedidos por Estado | Apr/2025"
             }
            ],
            "label": "Apr/2025",
            "method": "update"
           },
           {
            "args": [
             {
              "visible": [
               false,
               false,
               false,
               false,
               false,
               false,
               false,
               false,
               false,
               false,
               false,
               false,
               false,
               false,
               false,
               false,
               true,
               false,
               false,
               false,
               false,
               false,
               false,
               false,
               false,
               false,
               false,
               false,
               false,
               false,
               false
              ]
             },
             {
              "title": "Qtd pedidos por Estado | May/2025"
             }
            ],
            "label": "May/2025",
            "method": "update"
           },
           {
            "args": [
             {
              "visible": [
               false,
               false,
               false,
               false,
               false,
               false,
               false,
               false,
               false,
               false,
               false,
               false,
               false,
               false,
               false,
               false,
               false,
               true,
               false,
               false,
               false,
               false,
               false,
               false,
               false,
               false,
               false,
               false,
               false,
               false,
               false
              ]
             },
             {
              "title": "Qtd pedidos por Estado | Jun/2025"
             }
            ],
            "label": "Jun/2025",
            "method": "update"
           },
           {
            "args": [
             {
              "visible": [
               false,
               false,
               false,
               false,
               false,
               false,
               false,
               false,
               false,
               false,
               false,
               false,
               false,
               false,
               false,
               false,
               false,
               false,
               true,
               false,
               false,
               false,
               false,
               false,
               false,
               false,
               false,
               false,
               false,
               false,
               false
              ]
             },
             {
              "title": "Qtd pedidos por Estado | Jul/2025"
             }
            ],
            "label": "Jul/2025",
            "method": "update"
           },
           {
            "args": [
             {
              "visible": [
               false,
               false,
               false,
               false,
               false,
               false,
               false,
               false,
               false,
               false,
               false,
               false,
               false,
               false,
               false,
               false,
               false,
               false,
               false,
               true,
               false,
               false,
               false,
               false,
               false,
               false,
               false,
               false,
               false,
               false,
               false
              ]
             },
             {
              "title": "Qtd pedidos por Estado | Aug/2025"
             }
            ],
            "label": "Aug/2025",
            "method": "update"
           },
           {
            "args": [
             {
              "visible": [
               false,
               false,
               false,
               false,
               false,
               false,
               false,
               false,
               false,
               false,
               false,
               false,
               false,
               false,
               false,
               false,
               false,
               false,
               false,
               false,
               true,
               false,
               false,
               false,
               false,
               false,
               false,
               false,
               false,
               false,
               false
              ]
             },
             {
              "title": "Qtd pedidos por Estado | Sep/2025"
             }
            ],
            "label": "Sep/2025",
            "method": "update"
           },
           {
            "args": [
             {
              "visible": [
               false,
               false,
               false,
               false,
               false,
               false,
               false,
               false,
               false,
               false,
               false,
               false,
               false,
               false,
               false,
               false,
               false,
               false,
               false,
               false,
               false,
               true,
               false,
               false,
               false,
               false,
               false,
               false,
               false,
               false,
               false
              ]
             },
             {
              "title": "Qtd pedidos por Estado | Oct/2025"
             }
            ],
            "label": "Oct/2025",
            "method": "update"
           },
           {
            "args": [
             {
              "visible": [
               false,
               false,
               false,
               false,
               false,
               false,
               false,
               false,
               false,
               false,
               false,
               false,
               false,
               false,
               false,
               false,
               false,
               false,
               false,
               false,
               false,
               false,
               true,
               false,
               false,
               false,
               false,
               false,
               false,
               false,
               false
              ]
             },
             {
              "title": "Qtd pedidos por Estado | Nov/2025"
             }
            ],
            "label": "Nov/2025",
            "method": "update"
           },
           {
            "args": [
             {
              "visible": [
               false,
               false,
               false,
               false,
               false,
               false,
               false,
               false,
               false,
               false,
               false,
               false,
               false,
               false,
               false,
               false,
               false,
               false,
               false,
               false,
               false,
               false,
               false,
               true,
               false,
               false,
               false,
               false,
               false,
               false,
               false
              ]
             },
             {
              "title": "Qtd pedidos por Estado | Dec/2025"
             }
            ],
            "label": "Dec/2025",
            "method": "update"
           },
           {
            "args": [
             {
              "visible": [
               false,
               false,
               false,
               false,
               false,
               false,
               false,
               false,
               false,
               false,
               false,
               false,
               false,
               false,
               false,
               false,
               false,
               false,
               false,
               false,
               false,
               false,
               false,
               false,
               true,
               false,
               false,
               false,
               false,
               false,
               false
              ]
             },
             {
              "title": "Qtd pedidos por Estado | Jan/2026"
             }
            ],
            "label": "Jan/2026",
            "method": "update"
           },
           {
            "args": [
             {
              "visible": [
               false,
               false,
               false,
               false,
               false,
               false,
               false,
               false,
               false,
               false,
               false,
               false,
               false,
               false,
               false,
               false,
               false,
               false,
               false,
               false,
               false,
               false,
               false,
               false,
               false,
               true,
               false,
               false,
               false,
               false,
               false
              ]
             },
             {
              "title": "Qtd pedidos por Estado | Feb/2026"
             }
            ],
            "label": "Feb/2026",
            "method": "update"
           },
           {
            "args": [
             {
              "visible": [
               false,
               false,
               false,
               false,
               false,
               false,
               false,
               false,
               false,
               false,
               false,
               false,
               false,
               false,
               false,
               false,
               false,
               false,
               false,
               false,
               false,
               false,
               false,
               false,
               false,
               false,
               true,
               false,
               false,
               false,
               false
              ]
             },
             {
              "title": "Qtd pedidos por Estado | Mar/2026"
             }
            ],
            "label": "Mar/2026",
            "method": "update"
           },
           {
            "args": [
             {
              "visible": [
               false,
               false,
               false,
               false,
               false,
               false,
               false,
               false,
               false,
               false,
               false,
               false,
               false,
               false,
               false,
               false,
               false,
               false,
               false,
               false,
               false,
               false,
               false,
               false,
               false,
               false,
               false,
               true,
               false,
               false,
               false
              ]
             },
             {
              "title": "Qtd pedidos por Estado | Apr/2026"
             }
            ],
            "label": "Apr/2026",
            "method": "update"
           },
           {
            "args": [
             {
              "visible": [
               false,
               false,
               false,
               false,
               false,
               false,
               false,
               false,
               false,
               false,
               false,
               false,
               false,
               false,
               false,
               false,
               false,
               false,
               false,
               false,
               false,
               false,
               false,
               false,
               false,
               false,
               false,
               false,
               true,
               false,
               false
              ]
             },
             {
              "title": "Qtd pedidos por Estado | May/2026"
             }
            ],
            "label": "May/2026",
            "method": "update"
           },
           {
            "args": [
             {
              "visible": [
               false,
               false,
               false,
               false,
               false,
               false,
               false,
               false,
               false,
               false,
               false,
               false,
               false,
               false,
               false,
               false,
               false,
               false,
               false,
               false,
               false,
               false,
               false,
               false,
               false,
               false,
               false,
               false,
               false,
               true,
               false
              ]
             },
             {
              "title": "Qtd pedidos por Estado | Jun/2026"
             }
            ],
            "label": "Jun/2026",
            "method": "update"
           },
           {
            "args": [
             {
              "visible": [
               false,
               false,
               false,
               false,
               false,
               false,
               false,
               false,
               false,
               false,
               false,
               false,
               false,
               false,
               false,
               false,
               false,
               false,
               false,
               false,
               false,
               false,
               false,
               false,
               false,
               false,
               false,
               false,
               false,
               false,
               true
              ]
             },
             {
              "title": "Qtd pedidos por Estado | Jul/2026"
             }
            ],
            "label": "Jul/2026",
            "method": "update"
           }
          ]
         }
        ],
        "template": {
         "data": {
          "bar": [
           {
            "error_x": {
             "color": "#2a3f5f"
            },
            "error_y": {
             "color": "#2a3f5f"
            },
            "marker": {
             "line": {
              "color": "#E5ECF6",
              "width": 0.5
             },
             "pattern": {
              "fillmode": "overlay",
              "size": 10,
              "solidity": 0.2
             }
            },
            "type": "bar"
           }
          ],
          "barpolar": [
           {
            "marker": {
             "line": {
              "color": "#E5ECF6",
              "width": 0.5
             },
             "pattern": {
              "fillmode": "overlay",
              "size": 10,
              "solidity": 0.2
             }
            },
            "type": "barpolar"
           }
          ],
          "carpet": [
           {
            "aaxis": {
             "endlinecolor": "#2a3f5f",
             "gridcolor": "white",
             "linecolor": "white",
             "minorgridcolor": "white",
             "startlinecolor": "#2a3f5f"
            },
            "baxis": {
             "endlinecolor": "#2a3f5f",
             "gridcolor": "white",
             "linecolor": "white",
             "minorgridcolor": "white",
             "startlinecolor": "#2a3f5f"
            },
            "type": "carpet"
           }
          ],
          "choropleth": [
           {
            "colorbar": {
             "outlinewidth": 0,
             "ticks": ""
            },
            "type": "choropleth"
           }
          ],
          "contour": [
           {
            "colorbar": {
             "outlinewidth": 0,
             "ticks": ""
            },
            "colorscale": [
             [
              0,
              "#0d0887"
             ],
             [
              0.1111111111111111,
              "#46039f"
             ],
             [
              0.2222222222222222,
              "#7201a8"
             ],
             [
              0.3333333333333333,
              "#9c179e"
             ],
             [
              0.4444444444444444,
              "#bd3786"
             ],
             [
              0.5555555555555556,
              "#d8576b"
             ],
             [
              0.6666666666666666,
              "#ed7953"
             ],
             [
              0.7777777777777778,
              "#fb9f3a"
             ],
             [
              0.8888888888888888,
              "#fdca26"
             ],
             [
              1,
              "#f0f921"
             ]
            ],
            "type": "contour"
           }
          ],
          "contourcarpet": [
           {
            "colorbar": {
             "outlinewidth": 0,
             "ticks": ""
            },
            "type": "contourcarpet"
           }
          ],
          "heatmap": [
           {
            "colorbar": {
             "outlinewidth": 0,
             "ticks": ""
            },
            "colorscale": [
             [
              0,
              "#0d0887"
             ],
             [
              0.1111111111111111,
              "#46039f"
             ],
             [
              0.2222222222222222,
              "#7201a8"
             ],
             [
              0.3333333333333333,
              "#9c179e"
             ],
             [
              0.4444444444444444,
              "#bd3786"
             ],
             [
              0.5555555555555556,
              "#d8576b"
             ],
             [
              0.6666666666666666,
              "#ed7953"
             ],
             [
              0.7777777777777778,
              "#fb9f3a"
             ],
             [
              0.8888888888888888,
              "#fdca26"
             ],
             [
              1,
              "#f0f921"
             ]
            ],
            "type": "heatmap"
           }
          ],
          "heatmapgl": [
           {
            "colorbar": {
             "outlinewidth": 0,
             "ticks": ""
            },
            "colorscale": [
             [
              0,
              "#0d0887"
             ],
             [
              0.1111111111111111,
              "#46039f"
             ],
             [
              0.2222222222222222,
              "#7201a8"
             ],
             [
              0.3333333333333333,
              "#9c179e"
             ],
             [
              0.4444444444444444,
              "#bd3786"
             ],
             [
              0.5555555555555556,
              "#d8576b"
             ],
             [
              0.6666666666666666,
              "#ed7953"
             ],
             [
              0.7777777777777778,
              "#fb9f3a"
             ],
             [
              0.8888888888888888,
              "#fdca26"
             ],
             [
              1,
              "#f0f921"
             ]
            ],
            "type": "heatmapgl"
           }
          ],
          "histogram": [
           {
            "marker": {
             "pattern": {
              "fillmode": "overlay",
              "size": 10,
              "solidity": 0.2
             }
            },
            "type": "histogram"
           }
          ],
          "histogram2d": [
           {
            "colorbar": {
             "outlinewidth": 0,
             "ticks": ""
            },
            "colorscale": [
             [
              0,
              "#0d0887"
             ],
             [
              0.1111111111111111,
              "#46039f"
             ],
             [
              0.2222222222222222,
              "#7201a8"
             ],
             [
              0.3333333333333333,
              "#9c179e"
             ],
             [
              0.4444444444444444,
              "#bd3786"
             ],
             [
              0.5555555555555556,
              "#d8576b"
             ],
             [
              0.6666666666666666,
              "#ed7953"
             ],
             [
              0.7777777777777778,
              "#fb9f3a"
             ],
             [
              0.8888888888888888,
              "#fdca26"
             ],
             [
              1,
              "#f0f921"
             ]
            ],
            "type": "histogram2d"
           }
          ],
          "histogram2dcontour": [
           {
            "colorbar": {
             "outlinewidth": 0,
             "ticks": ""
            },
            "colorscale": [
             [
              0,
              "#0d0887"
             ],
             [
              0.1111111111111111,
              "#46039f"
             ],
             [
              0.2222222222222222,
              "#7201a8"
             ],
             [
              0.3333333333333333,
              "#9c179e"
             ],
             [
              0.4444444444444444,
              "#bd3786"
             ],
             [
              0.5555555555555556,
              "#d8576b"
             ],
             [
              0.6666666666666666,
              "#ed7953"
             ],
             [
              0.7777777777777778,
              "#fb9f3a"
             ],
             [
              0.8888888888888888,
              "#fdca26"
             ],
             [
              1,
              "#f0f921"
             ]
            ],
            "type": "histogram2dcontour"
           }
          ],
          "mesh3d": [
           {
            "colorbar": {
             "outlinewidth": 0,
             "ticks": ""
            },
            "type": "mesh3d"
           }
          ],
          "parcoords": [
           {
            "line": {
             "colorbar": {
              "outlinewidth": 0,
              "ticks": ""
             }
            },
            "type": "parcoords"
           }
          ],
          "pie": [
           {
            "automargin": true,
            "type": "pie"
           }
          ],
          "scatter": [
           {
            "fillpattern": {
             "fillmode": "overlay",
             "size": 10,
             "solidity": 0.2
            },
            "type": "scatter"
           }
          ],
          "scatter3d": [
           {
            "line": {
             "colorbar": {
              "outlinewidth": 0,
              "ticks": ""
             }
            },
            "marker": {
             "colorbar": {
              "outlinewidth": 0,
              "ticks": ""
             }
            },
            "type": "scatter3d"
           }
          ],
          "scattercarpet": [
           {
            "marker": {
             "colorbar": {
              "outlinewidth": 0,
              "ticks": ""
             }
            },
            "type": "scattercarpet"
           }
          ],
          "scattergeo": [
           {
            "marker": {
             "colorbar": {
              "outlinewidth": 0,
              "ticks": ""
             }
            },
            "type": "scattergeo"
           }
          ],
          "scattergl": [
           {
            "marker": {
             "colorbar": {
              "outlinewidth": 0,
              "ticks": ""
             }
            },
            "type": "scattergl"
           }
          ],
          "scattermapbox": [
           {
            "marker": {
             "colorbar": {
              "outlinewidth": 0,
              "ticks": ""
             }
            },
            "type": "scattermapbox"
           }
          ],
          "scatterpolar": [
           {
            "marker": {
             "colorbar": {
              "outlinewidth": 0,
              "ticks": ""
             }
            },
            "type": "scatterpolar"
           }
          ],
          "scatterpolargl": [
           {
            "marker": {
             "colorbar": {
              "outlinewidth": 0,
              "ticks": ""
             }
            },
            "type": "scatterpolargl"
           }
          ],
          "scatterternary": [
           {
            "marker": {
             "colorbar": {
              "outlinewidth": 0,
              "ticks": ""
             }
            },
            "type": "scatterternary"
           }
          ],
          "surface": [
           {
            "colorbar": {
             "outlinewidth": 0,
             "ticks": ""
            },
            "colorscale": [
             [
              0,
              "#0d0887"
             ],
             [
              0.1111111111111111,
              "#46039f"
             ],
             [
              0.2222222222222222,
              "#7201a8"
             ],
             [
              0.3333333333333333,
              "#9c179e"
             ],
             [
              0.4444444444444444,
              "#bd3786"
             ],
             [
              0.5555555555555556,
              "#d8576b"
             ],
             [
              0.6666666666666666,
              "#ed7953"
             ],
             [
              0.7777777777777778,
              "#fb9f3a"
             ],
             [
              0.8888888888888888,
              "#fdca26"
             ],
             [
              1,
              "#f0f921"
             ]
            ],
            "type": "surface"
           }
          ],
          "table": [
           {
            "cells": {
             "fill": {
              "color": "#EBF0F8"
             },
             "line": {
              "color": "white"
             }
            },
            "header": {
             "fill": {
              "color": "#C8D4E3"
             },
             "line": {
              "color": "white"
             }
            },
            "type": "table"
           }
          ]
         },
         "layout": {
          "annotationdefaults": {
           "arrowcolor": "#2a3f5f",
           "arrowhead": 0,
           "arrowwidth": 1
          },
          "autotypenumbers": "strict",
          "coloraxis": {
           "colorbar": {
            "outlinewidth": 0,
            "ticks": ""
           }
          },
          "colorscale": {
           "diverging": [
            [
             0,
             "#8e0152"
            ],
            [
             0.1,
             "#c51b7d"
            ],
            [
             0.2,
             "#de77ae"
            ],
            [
             0.3,
             "#f1b6da"
            ],
            [
             0.4,
             "#fde0ef"
            ],
            [
             0.5,
             "#f7f7f7"
            ],
            [
             0.6,
             "#e6f5d0"
            ],
            [
             0.7,
             "#b8e186"
            ],
            [
             0.8,
             "#7fbc41"
            ],
            [
             0.9,
             "#4d9221"
            ],
            [
             1,
             "#276419"
            ]
           ],
           "sequential": [
            [
             0,
             "#0d0887"
            ],
            [
             0.1111111111111111,
             "#46039f"
            ],
            [
             0.2222222222222222,
             "#7201a8"
            ],
            [
             0.3333333333333333,
             "#9c179e"
            ],
            [
             0.4444444444444444,
             "#bd3786"
            ],
            [
             0.5555555555555556,
             "#d8576b"
            ],
            [
             0.6666666666666666,
             "#ed7953"
            ],
            [
             0.7777777777777778,
             "#fb9f3a"
            ],
            [
             0.8888888888888888,
             "#fdca26"
            ],
            [
             1,
             "#f0f921"
            ]
           ],
           "sequentialminus": [
            [
             0,
             "#0d0887"
            ],
            [
             0.1111111111111111,
             "#46039f"
            ],
            [
             0.2222222222222222,
             "#7201a8"
            ],
            [
             0.3333333333333333,
             "#9c179e"
            ],
            [
             0.4444444444444444,
             "#bd3786"
            ],
            [
             0.5555555555555556,
             "#d8576b"
            ],
            [
             0.6666666666666666,
             "#ed7953"
            ],
            [
             0.7777777777777778,
             "#fb9f3a"
            ],
            [
             0.8888888888888888,
             "#fdca26"
            ],
            [
             1,
             "#f0f921"
            ]
           ]
          },
          "colorway": [
           "#636efa",
           "#EF553B",
           "#00cc96",
           "#ab63fa",
           "#FFA15A",
           "#19d3f3",
           "#FF6692",
           "#B6E880",
           "#FF97FF",
           "#FECB52"
          ],
          "font": {
           "color": "#2a3f5f"
          },
          "geo": {
           "bgcolor": "white",
           "lakecolor": "white",
           "landcolor": "#E5ECF6",
           "showlakes": true,
           "showland": true,
           "subunitcolor": "white"
          },
          "hoverlabel": {
           "align": "left"
          },
          "hovermode": "closest",
          "mapbox": {
           "style": "light"
          },
          "paper_bgcolor": "white",
          "plot_bgcolor": "#E5ECF6",
          "polar": {
           "angularaxis": {
            "gridcolor": "white",
            "linecolor": "white",
            "ticks": ""
           },
           "bgcolor": "#E5ECF6",
           "radialaxis": {
            "gridcolor": "white",
            "linecolor": "white",
            "ticks": ""
           }
          },
          "scene": {
           "xaxis": {
            "backgroundcolor": "#E5ECF6",
            "gridcolor": "white",
            "gridwidth": 2,
            "linecolor": "white",
            "showbackground": true,
            "ticks": "",
            "zerolinecolor": "white"
           },
           "yaxis": {
            "backgroundcolor": "#E5ECF6",
            "gridcolor": "white",
            "gridwidth": 2,
            "linecolor": "white",
            "showbackground": true,
            "ticks": "",
            "zerolinecolor": "white"
           },
           "zaxis": {
            "backgroundcolor": "#E5ECF6",
            "gridcolor": "white",
            "gridwidth": 2,
            "linecolor": "white",
            "showbackground": true,
            "ticks": "",
            "zerolinecolor": "white"
           }
          },
          "shapedefaults": {
           "line": {
            "color": "#2a3f5f"
           }
          },
          "ternary": {
           "aaxis": {
            "gridcolor": "white",
            "linecolor": "white",
            "ticks": ""
           },
           "baxis": {
            "gridcolor": "white",
            "linecolor": "white",
            "ticks": ""
           },
           "bgcolor": "#E5ECF6",
           "caxis": {
            "gridcolor": "white",
            "linecolor": "white",
            "ticks": ""
           }
          },
          "title": {
           "x": 0.05
          },
          "xaxis": {
           "automargin": true,
           "gridcolor": "white",
           "linecolor": "white",
           "ticks": "",
           "title": {
            "standoff": 15
           },
           "zerolinecolor": "white",
           "zerolinewidth": 2
          },
          "yaxis": {
           "automargin": true,
           "gridcolor": "white",
           "linecolor": "white",
           "ticks": "",
           "title": {
            "standoff": 15
           },
           "zerolinecolor": "white",
           "zerolinewidth": 2
          }
         }
        },
        "title": {
         "text": "Qtd pedidos por Estado"
        },
        "width": 900
       }
      }
     },
     "metadata": {},
     "output_type": "display_data"
    }
   ],
   "source": [
    "df = df_pizza[['State', 'Month']].value_counts().reset_index()\n",
    "df.columns = ['State', 'Month', 'count']\n",
    "\n",
    "# Certifique-se de que Month seja datetime (se ainda não for)\n",
    "df['Month'] = pd.to_datetime(df['Month'])\n",
    "\n",
    "# Criar uma coluna formatada\n",
    "df['Month_str'] = df['Month'].dt.strftime('%b/%Y')  # 'jan/2024', 'fev/2024', etc.\n",
    "\n",
    "# Obter meses únicos formatados, mantendo a ordem cronológica\n",
    "meses_ordenados = df.sort_values('Month')['Month_str'].unique()\n",
    "\n",
    "# Criar os traces e slider\n",
    "data = []\n",
    "steps = []\n",
    "\n",
    "for i, mes_str in enumerate(meses_ordenados):\n",
    "    df_mes = df[df['Month_str'] == mes_str]\n",
    "    \n",
    "    trace = go.Choropleth(\n",
    "        locations=df_mes['State'],\n",
    "        z=df_mes['count'],\n",
    "        locationmode='USA-states',\n",
    "        colorscale='Reds',\n",
    "        zmin=df['count'].min(),\n",
    "        zmax=df['count'].max(),\n",
    "        visible=(i == 0)\n",
    "    )\n",
    "    data.append(trace)\n",
    "    \n",
    "    step = dict(\n",
    "        method=\"update\",\n",
    "        args=[{\"visible\": [j == i for j in range(len(meses_ordenados))]},\n",
    "              {\"title\": f\"Qtd pedidos por Estado | {mes_str}\"}],\n",
    "        label=mes_str\n",
    "    )\n",
    "    steps.append(step)\n",
    "\n",
    "sliders = [dict(\n",
    "    active=0,\n",
    "    steps=steps,\n",
    "    currentvalue={\"prefix\": \"Mês: \"}\n",
    ")]\n",
    "\n",
    "fig = go.Figure(data=data)\n",
    "fig.update_layout(\n",
    "    title_text=\"Qtd pedidos por Estado\",\n",
    "    geo_scope='usa',\n",
    "    sliders=sliders,\n",
    "    height = 700,\n",
    "    width = 900\n",
    ")\n",
    "\n",
    "fig.show()\n"
   ]
  },
  {
   "cell_type": "code",
   "execution_count": 106,
   "metadata": {},
   "outputs": [
    {
     "name": "stdout",
     "output_type": "stream",
     "text": [
      "Coluna: Restaurant Name | Qtd categorias: 5 | Qtd missings: 0 (0.0%)\n",
      "Restaurant Name\n",
      "Domino's          212\n",
      "Papa John's       204\n",
      "Little Caesars    199\n",
      "Marco's Pizza     195\n",
      "Pizza Hut         194\n",
      "Name: count, dtype: int64\n",
      "--------------------------------------------------\n",
      "\n",
      "Coluna: Delivery Duration (min) | Qtd categorias: 8 | Qtd missings: 0 (0.0%)\n",
      "Delivery Duration (min)\n",
      "30    437\n",
      "20    233\n",
      "25    123\n",
      "40     92\n",
      "35     44\n",
      "50     40\n",
      "45     34\n",
      "15      1\n",
      "Name: count, dtype: int64\n",
      "--------------------------------------------------\n",
      "\n",
      "Coluna: Pizza Size | Qtd categorias: 4 | Qtd missings: 0 (0.0%)\n",
      "Pizza Size\n",
      "Medium    429\n",
      "Large     240\n",
      "XL        203\n",
      "Small     132\n",
      "Name: count, dtype: int64\n",
      "--------------------------------------------------\n",
      "\n",
      "Coluna: Pizza Type | Qtd categorias: 12 | Qtd missings: 0 (0.0%)\n",
      "Pizza Type\n",
      "Non-Veg          216\n",
      "Veg              202\n",
      "Cheese Burst     188\n",
      "Vegan            132\n",
      "Sicilian          64\n",
      "BBQ Chicken       54\n",
      "Margarita         54\n",
      "Gluten-Free       41\n",
      "Thai Chicken      24\n",
      "Stuffed Crust     21\n",
      "Deep Dish          6\n",
      "Thin Crust         2\n",
      "Name: count, dtype: int64\n",
      "--------------------------------------------------\n",
      "\n",
      "Coluna: Traffic Level | Qtd categorias: 3 | Qtd missings: 0 (0.0%)\n",
      "Traffic Level\n",
      "Medium    398\n",
      "High      328\n",
      "Low       278\n",
      "Name: count, dtype: int64\n",
      "--------------------------------------------------\n",
      "\n",
      "Coluna: Payment Method | Qtd categorias: 6 | Qtd missings: 0 (0.0%)\n",
      "Payment Method\n",
      "Card             276\n",
      "UPI              271\n",
      "Wallet           208\n",
      "Cash             202\n",
      "Hut Points        24\n",
      "Domino's Cash     23\n",
      "Name: count, dtype: int64\n",
      "--------------------------------------------------\n",
      "\n",
      "Coluna: Is Peak Hour | Qtd categorias: 2 | Qtd missings: 0 (0.0%)\n",
      "Is Peak Hour\n",
      "True     949\n",
      "False     55\n",
      "Name: count, dtype: int64\n",
      "--------------------------------------------------\n",
      "\n",
      "Coluna: Is Delayed | Qtd categorias: 2 | Qtd missings: 0 (0.0%)\n",
      "Is Delayed\n",
      "False    794\n",
      "True     210\n",
      "Name: count, dtype: int64\n",
      "--------------------------------------------------\n",
      "\n",
      "Coluna: Month Day | Qtd categorias: 6 | Qtd missings: 0 (0.0%)\n",
      "Month Day\n",
      "De 16 a 20          181\n",
      "Depois do dia 26    171\n",
      "De 11 a 15          168\n",
      "Até dia 5           163\n",
      "De 21 a 25          163\n",
      "De 6 a 10           158\n",
      "Name: count, dtype: int64\n",
      "--------------------------------------------------\n",
      "\n",
      "Coluna: Weekday | Qtd categorias: 7 | Qtd missings: 0 (0.0%)\n",
      "Weekday\n",
      "Thursday     147\n",
      "Sunday       145\n",
      "Wednesday    144\n",
      "Friday       143\n",
      "Monday       143\n",
      "Saturday     141\n",
      "Tuesday      141\n",
      "Name: count, dtype: int64\n",
      "--------------------------------------------------\n",
      "\n",
      "Coluna: Order ID | Qtd categorias: 1004 | Qtd missings: 0 (0.0%)\n",
      "--------------------------------------------------\n",
      "\n",
      "Coluna: Location | Qtd categorias: 84 | Qtd missings: 0 (0.0%)\n",
      "--------------------------------------------------\n",
      "\n",
      "Coluna: Order Time | Qtd categorias: 968 | Qtd missings: 0 (0.0%)\n",
      "--------------------------------------------------\n",
      "\n",
      "Coluna: Distance (km) | Qtd categorias: 25 | Qtd missings: 0 (0.0%)\n",
      "--------------------------------------------------\n",
      "\n",
      "Coluna: Delivery Efficiency (min/km) | Qtd categorias: 40 | Qtd missings: 0 (0.0%)\n",
      "--------------------------------------------------\n",
      "\n",
      "Coluna: Estimated Duration (min) | Qtd categorias: 25 | Qtd missings: 0 (0.0%)\n",
      "--------------------------------------------------\n",
      "\n",
      "Coluna: Delay (min) | Qtd categorias: 54 | Qtd missings: 0 (0.0%)\n",
      "--------------------------------------------------\n",
      "\n",
      "Coluna: Order Hour | Qtd categorias: 33 | Qtd missings: 0 (0.0%)\n",
      "--------------------------------------------------\n",
      "\n",
      "Coluna: Month | Qtd categorias: 31 | Qtd missings: 0 (0.0%)\n",
      "--------------------------------------------------\n",
      "\n"
     ]
    }
   ],
   "source": [
    "categorias_colunas(df = df_pizza, n_max = 12)"
   ]
  },
  {
   "cell_type": "code",
   "execution_count": 122,
   "metadata": {},
   "outputs": [
    {
     "data": {
      "text/html": [
       "<div>\n",
       "<style scoped>\n",
       "    .dataframe tbody tr th:only-of-type {\n",
       "        vertical-align: middle;\n",
       "    }\n",
       "\n",
       "    .dataframe tbody tr th {\n",
       "        vertical-align: top;\n",
       "    }\n",
       "\n",
       "    .dataframe thead th {\n",
       "        text-align: right;\n",
       "    }\n",
       "</style>\n",
       "<table border=\"1\" class=\"dataframe\">\n",
       "  <thead>\n",
       "    <tr style=\"text-align: right;\">\n",
       "      <th></th>\n",
       "      <th>Restaurant Name</th>\n",
       "      <th>Order Hour</th>\n",
       "      <th>Delivery Efficiency (min/km)</th>\n",
       "      <th>hora</th>\n",
       "      <th>min</th>\n",
       "    </tr>\n",
       "  </thead>\n",
       "  <tbody>\n",
       "    <tr>\n",
       "      <th>0</th>\n",
       "      <td>Domino's</td>\n",
       "      <td>17:30</td>\n",
       "      <td>5.000000</td>\n",
       "      <td>17</td>\n",
       "      <td>30</td>\n",
       "    </tr>\n",
       "    <tr>\n",
       "      <th>1</th>\n",
       "      <td>Domino's</td>\n",
       "      <td>18:00</td>\n",
       "      <td>6.480087</td>\n",
       "      <td>18</td>\n",
       "      <td>0</td>\n",
       "    </tr>\n",
       "    <tr>\n",
       "      <th>2</th>\n",
       "      <td>Domino's</td>\n",
       "      <td>18:15</td>\n",
       "      <td>5.449735</td>\n",
       "      <td>18</td>\n",
       "      <td>15</td>\n",
       "    </tr>\n",
       "    <tr>\n",
       "      <th>3</th>\n",
       "      <td>Domino's</td>\n",
       "      <td>18:20</td>\n",
       "      <td>4.615385</td>\n",
       "      <td>18</td>\n",
       "      <td>20</td>\n",
       "    </tr>\n",
       "    <tr>\n",
       "      <th>4</th>\n",
       "      <td>Domino's</td>\n",
       "      <td>18:25</td>\n",
       "      <td>5.000000</td>\n",
       "      <td>18</td>\n",
       "      <td>25</td>\n",
       "    </tr>\n",
       "    <tr>\n",
       "      <th>...</th>\n",
       "      <td>...</td>\n",
       "      <td>...</td>\n",
       "      <td>...</td>\n",
       "      <td>...</td>\n",
       "      <td>...</td>\n",
       "    </tr>\n",
       "    <tr>\n",
       "      <th>77</th>\n",
       "      <td>Pizza Hut</td>\n",
       "      <td>20:00</td>\n",
       "      <td>6.374883</td>\n",
       "      <td>20</td>\n",
       "      <td>0</td>\n",
       "    </tr>\n",
       "    <tr>\n",
       "      <th>78</th>\n",
       "      <td>Pizza Hut</td>\n",
       "      <td>20:15</td>\n",
       "      <td>7.350000</td>\n",
       "      <td>20</td>\n",
       "      <td>15</td>\n",
       "    </tr>\n",
       "    <tr>\n",
       "      <th>79</th>\n",
       "      <td>Pizza Hut</td>\n",
       "      <td>20:30</td>\n",
       "      <td>6.207729</td>\n",
       "      <td>20</td>\n",
       "      <td>30</td>\n",
       "    </tr>\n",
       "    <tr>\n",
       "      <th>80</th>\n",
       "      <td>Pizza Hut</td>\n",
       "      <td>20:45</td>\n",
       "      <td>7.500000</td>\n",
       "      <td>20</td>\n",
       "      <td>45</td>\n",
       "    </tr>\n",
       "    <tr>\n",
       "      <th>81</th>\n",
       "      <td>Pizza Hut</td>\n",
       "      <td>21:00</td>\n",
       "      <td>7.317073</td>\n",
       "      <td>21</td>\n",
       "      <td>0</td>\n",
       "    </tr>\n",
       "  </tbody>\n",
       "</table>\n",
       "<p>82 rows × 5 columns</p>\n",
       "</div>"
      ],
      "text/plain": [
       "   Restaurant Name Order Hour  Delivery Efficiency (min/km)  hora  min\n",
       "0         Domino's      17:30                      5.000000    17   30\n",
       "1         Domino's      18:00                      6.480087    18    0\n",
       "2         Domino's      18:15                      5.449735    18   15\n",
       "3         Domino's      18:20                      4.615385    18   20\n",
       "4         Domino's      18:25                      5.000000    18   25\n",
       "..             ...        ...                           ...   ...  ...\n",
       "77       Pizza Hut      20:00                      6.374883    20    0\n",
       "78       Pizza Hut      20:15                      7.350000    20   15\n",
       "79       Pizza Hut      20:30                      6.207729    20   30\n",
       "80       Pizza Hut      20:45                      7.500000    20   45\n",
       "81       Pizza Hut      21:00                      7.317073    21    0\n",
       "\n",
       "[82 rows x 5 columns]"
      ]
     },
     "execution_count": 122,
     "metadata": {},
     "output_type": "execute_result"
    }
   ],
   "source": [
    "eficiencia_media = df_pizza.groupby(['Restaurant Name', 'Order Hour'])['Delivery Efficiency (min/km)'].mean().reset_index()\n",
    "eficiencia_media['hora'] = eficiencia_media['Order Hour'].apply(lambda x: x[:2]).astype(int)\n",
    "eficiencia_media['min'] = eficiencia_media['Order Hour'].apply(lambda x: x[3:]).astype(int)\n",
    "\n",
    "eficiencia_media"
   ]
  },
  {
   "cell_type": "code",
   "execution_count": 143,
   "metadata": {},
   "outputs": [],
   "source": [
    "# px.line(eficiencia_media.sort_values(['hora', 'min']), \n",
    "#            x = 'Order Hour', y = 'Delivery Efficiency (min/km)', color = 'Restaurant Name')"
   ]
  },
  {
   "cell_type": "code",
   "execution_count": 102,
   "metadata": {},
   "outputs": [
    {
     "data": {
      "application/vnd.plotly.v1+json": {
       "config": {
        "plotlyServerURL": "https://plot.ly"
       },
       "data": [
        {
         "hovertemplate": "Restaurant Name=Papa John's<br>Distance (km)=%{x}<br>Delivery Duration (min)=%{y}<br>count=%{marker.size}<extra></extra>",
         "legendgroup": "Papa John's",
         "marker": {
          "color": "#636efa",
          "size": [
           71,
           23,
           19,
           17,
           15,
           13,
           12,
           6,
           5,
           4,
           3,
           2,
           2,
           2,
           1,
           1,
           1,
           1,
           1,
           1,
           1,
           1,
           1,
           1
          ],
          "sizemode": "area",
          "sizeref": 0.1775,
          "symbol": "circle"
         },
         "mode": "markers",
         "name": "Papa John's",
         "orientation": "v",
         "showlegend": true,
         "type": "scatter",
         "x": [
          5,
          6,
          2,
          5.5,
          2,
          3,
          3,
          2.5,
          3.5,
          3.5,
          6.5,
          8,
          2.5,
          4.5,
          5,
          7.2,
          8.3,
          5,
          4.5,
          4,
          3.9,
          4,
          4,
          4
         ],
         "xaxis": "x",
         "y": [
          30,
          30,
          25,
          35,
          20,
          20,
          25,
          25,
          25,
          30,
          40,
          40,
          20,
          30,
          35,
          35,
          50,
          25,
          25,
          35,
          25,
          20,
          25,
          30
         ],
         "yaxis": "y"
        },
        {
         "hovertemplate": "Restaurant Name=Marco's Pizza<br>Distance (km)=%{x}<br>Delivery Duration (min)=%{y}<br>count=%{marker.size}<extra></extra>",
         "legendgroup": "Marco's Pizza",
         "marker": {
          "color": "#EF553B",
          "size": [
           68,
           21,
           21,
           21,
           20,
           14,
           14,
           3,
           2,
           2,
           1,
           1,
           1,
           1,
           1,
           1,
           1,
           1,
           1
          ],
          "sizemode": "area",
          "sizeref": 0.1775,
          "symbol": "circle"
         },
         "mode": "markers",
         "name": "Marco's Pizza",
         "orientation": "v",
         "showlegend": true,
         "type": "scatter",
         "x": [
          4.5,
          4,
          3.5,
          10,
          3,
          2.5,
          9,
          3,
          5.5,
          5,
          3.5,
          2,
          2.5,
          3,
          3.2,
          3.2,
          4,
          6,
          6.5
         ],
         "xaxis": "x",
         "y": [
          30,
          30,
          20,
          50,
          20,
          20,
          45,
          25,
          30,
          30,
          25,
          20,
          30,
          30,
          25,
          30,
          25,
          30,
          35
         ],
         "yaxis": "y"
        },
        {
         "hovertemplate": "Restaurant Name=Little Caesars<br>Distance (km)=%{x}<br>Delivery Duration (min)=%{y}<br>count=%{marker.size}<extra></extra>",
         "legendgroup": "Little Caesars",
         "marker": {
          "color": "#00cc96",
          "size": [
           66,
           34,
           20,
           16,
           16,
           14,
           12,
           4,
           4,
           3,
           2,
           2,
           1,
           1,
           1,
           1,
           1,
           1
          ],
          "sizemode": "area",
          "sizeref": 0.1775,
          "symbol": "circle"
         },
         "mode": "markers",
         "name": "Little Caesars",
         "orientation": "v",
         "showlegend": true,
         "type": "scatter",
         "x": [
          6,
          2.5,
          8,
          3.5,
          7.5,
          4,
          3,
          2,
          7,
          3.5,
          4,
          3,
          8.7,
          5,
          7,
          7.5,
          7.8,
          8
         ],
         "xaxis": "x",
         "y": [
          30,
          20,
          40,
          20,
          40,
          30,
          20,
          20,
          40,
          25,
          25,
          25,
          50,
          30,
          45,
          35,
          40,
          45
         ],
         "yaxis": "y"
        },
        {
         "hovertemplate": "Restaurant Name=Pizza Hut<br>Distance (km)=%{x}<br>Delivery Duration (min)=%{y}<br>count=%{marker.size}<extra></extra>",
         "legendgroup": "Pizza Hut",
         "marker": {
          "color": "#ab63fa",
          "size": [
           61,
           22,
           19,
           19,
           16,
           16,
           15,
           5,
           3,
           3,
           3,
           2,
           2,
           2,
           1,
           1,
           1,
           1,
           1,
           1
          ],
          "sizemode": "area",
          "sizeref": 0.1775,
          "symbol": "circle"
         },
         "mode": "markers",
         "name": "Pizza Hut",
         "orientation": "v",
         "showlegend": true,
         "type": "scatter",
         "x": [
          4,
          8,
          4,
          4.5,
          6,
          2,
          7.5,
          2.5,
          5,
          6.5,
          4.1,
          6,
          6,
          3,
          5,
          4,
          5.5,
          5.8,
          7.2,
          10
         ],
         "xaxis": "x",
         "y": [
          30,
          40,
          25,
          25,
          30,
          20,
          40,
          20,
          25,
          30,
          30,
          40,
          25,
          30,
          30,
          20,
          30,
          30,
          45,
          50
         ],
         "yaxis": "y"
        },
        {
         "hovertemplate": "Restaurant Name=Domino's<br>Distance (km)=%{x}<br>Delivery Duration (min)=%{y}<br>count=%{marker.size}<extra></extra>",
         "legendgroup": "Domino's",
         "marker": {
          "color": "#FFA15A",
          "size": [
           60,
           28,
           16,
           15,
           14,
           13,
           13,
           13,
           8,
           7,
           3,
           3,
           2,
           2,
           2,
           2,
           2,
           1,
           1,
           1,
           1,
           1,
           1,
           1,
           1,
           1
          ],
          "sizemode": "area",
          "sizeref": 0.1775,
          "symbol": "circle"
         },
         "mode": "markers",
         "name": "Domino's",
         "orientation": "v",
         "showlegend": true,
         "type": "scatter",
         "x": [
          5.5,
          3,
          10,
          5.5,
          9,
          5,
          4.5,
          4,
          4.5,
          6,
          5.4,
          7,
          3.5,
          5,
          5.4,
          6.5,
          6,
          2,
          2.5,
          4.5,
          5,
          6,
          6.3,
          6.5,
          8,
          2.5
         ],
         "xaxis": "x",
         "y": [
          30,
          20,
          50,
          35,
          45,
          25,
          20,
          20,
          25,
          30,
          35,
          45,
          20,
          35,
          30,
          40,
          40,
          20,
          20,
          35,
          40,
          35,
          40,
          30,
          40,
          15
         ],
         "yaxis": "y"
        }
       ],
       "layout": {
        "legend": {
         "itemsizing": "constant",
         "title": {
          "text": "Restaurant Name"
         },
         "tracegroupgap": 0
        },
        "margin": {
         "t": 60
        },
        "template": {
         "data": {
          "bar": [
           {
            "error_x": {
             "color": "#2a3f5f"
            },
            "error_y": {
             "color": "#2a3f5f"
            },
            "marker": {
             "line": {
              "color": "#E5ECF6",
              "width": 0.5
             },
             "pattern": {
              "fillmode": "overlay",
              "size": 10,
              "solidity": 0.2
             }
            },
            "type": "bar"
           }
          ],
          "barpolar": [
           {
            "marker": {
             "line": {
              "color": "#E5ECF6",
              "width": 0.5
             },
             "pattern": {
              "fillmode": "overlay",
              "size": 10,
              "solidity": 0.2
             }
            },
            "type": "barpolar"
           }
          ],
          "carpet": [
           {
            "aaxis": {
             "endlinecolor": "#2a3f5f",
             "gridcolor": "white",
             "linecolor": "white",
             "minorgridcolor": "white",
             "startlinecolor": "#2a3f5f"
            },
            "baxis": {
             "endlinecolor": "#2a3f5f",
             "gridcolor": "white",
             "linecolor": "white",
             "minorgridcolor": "white",
             "startlinecolor": "#2a3f5f"
            },
            "type": "carpet"
           }
          ],
          "choropleth": [
           {
            "colorbar": {
             "outlinewidth": 0,
             "ticks": ""
            },
            "type": "choropleth"
           }
          ],
          "contour": [
           {
            "colorbar": {
             "outlinewidth": 0,
             "ticks": ""
            },
            "colorscale": [
             [
              0,
              "#0d0887"
             ],
             [
              0.1111111111111111,
              "#46039f"
             ],
             [
              0.2222222222222222,
              "#7201a8"
             ],
             [
              0.3333333333333333,
              "#9c179e"
             ],
             [
              0.4444444444444444,
              "#bd3786"
             ],
             [
              0.5555555555555556,
              "#d8576b"
             ],
             [
              0.6666666666666666,
              "#ed7953"
             ],
             [
              0.7777777777777778,
              "#fb9f3a"
             ],
             [
              0.8888888888888888,
              "#fdca26"
             ],
             [
              1,
              "#f0f921"
             ]
            ],
            "type": "contour"
           }
          ],
          "contourcarpet": [
           {
            "colorbar": {
             "outlinewidth": 0,
             "ticks": ""
            },
            "type": "contourcarpet"
           }
          ],
          "heatmap": [
           {
            "colorbar": {
             "outlinewidth": 0,
             "ticks": ""
            },
            "colorscale": [
             [
              0,
              "#0d0887"
             ],
             [
              0.1111111111111111,
              "#46039f"
             ],
             [
              0.2222222222222222,
              "#7201a8"
             ],
             [
              0.3333333333333333,
              "#9c179e"
             ],
             [
              0.4444444444444444,
              "#bd3786"
             ],
             [
              0.5555555555555556,
              "#d8576b"
             ],
             [
              0.6666666666666666,
              "#ed7953"
             ],
             [
              0.7777777777777778,
              "#fb9f3a"
             ],
             [
              0.8888888888888888,
              "#fdca26"
             ],
             [
              1,
              "#f0f921"
             ]
            ],
            "type": "heatmap"
           }
          ],
          "heatmapgl": [
           {
            "colorbar": {
             "outlinewidth": 0,
             "ticks": ""
            },
            "colorscale": [
             [
              0,
              "#0d0887"
             ],
             [
              0.1111111111111111,
              "#46039f"
             ],
             [
              0.2222222222222222,
              "#7201a8"
             ],
             [
              0.3333333333333333,
              "#9c179e"
             ],
             [
              0.4444444444444444,
              "#bd3786"
             ],
             [
              0.5555555555555556,
              "#d8576b"
             ],
             [
              0.6666666666666666,
              "#ed7953"
             ],
             [
              0.7777777777777778,
              "#fb9f3a"
             ],
             [
              0.8888888888888888,
              "#fdca26"
             ],
             [
              1,
              "#f0f921"
             ]
            ],
            "type": "heatmapgl"
           }
          ],
          "histogram": [
           {
            "marker": {
             "pattern": {
              "fillmode": "overlay",
              "size": 10,
              "solidity": 0.2
             }
            },
            "type": "histogram"
           }
          ],
          "histogram2d": [
           {
            "colorbar": {
             "outlinewidth": 0,
             "ticks": ""
            },
            "colorscale": [
             [
              0,
              "#0d0887"
             ],
             [
              0.1111111111111111,
              "#46039f"
             ],
             [
              0.2222222222222222,
              "#7201a8"
             ],
             [
              0.3333333333333333,
              "#9c179e"
             ],
             [
              0.4444444444444444,
              "#bd3786"
             ],
             [
              0.5555555555555556,
              "#d8576b"
             ],
             [
              0.6666666666666666,
              "#ed7953"
             ],
             [
              0.7777777777777778,
              "#fb9f3a"
             ],
             [
              0.8888888888888888,
              "#fdca26"
             ],
             [
              1,
              "#f0f921"
             ]
            ],
            "type": "histogram2d"
           }
          ],
          "histogram2dcontour": [
           {
            "colorbar": {
             "outlinewidth": 0,
             "ticks": ""
            },
            "colorscale": [
             [
              0,
              "#0d0887"
             ],
             [
              0.1111111111111111,
              "#46039f"
             ],
             [
              0.2222222222222222,
              "#7201a8"
             ],
             [
              0.3333333333333333,
              "#9c179e"
             ],
             [
              0.4444444444444444,
              "#bd3786"
             ],
             [
              0.5555555555555556,
              "#d8576b"
             ],
             [
              0.6666666666666666,
              "#ed7953"
             ],
             [
              0.7777777777777778,
              "#fb9f3a"
             ],
             [
              0.8888888888888888,
              "#fdca26"
             ],
             [
              1,
              "#f0f921"
             ]
            ],
            "type": "histogram2dcontour"
           }
          ],
          "mesh3d": [
           {
            "colorbar": {
             "outlinewidth": 0,
             "ticks": ""
            },
            "type": "mesh3d"
           }
          ],
          "parcoords": [
           {
            "line": {
             "colorbar": {
              "outlinewidth": 0,
              "ticks": ""
             }
            },
            "type": "parcoords"
           }
          ],
          "pie": [
           {
            "automargin": true,
            "type": "pie"
           }
          ],
          "scatter": [
           {
            "fillpattern": {
             "fillmode": "overlay",
             "size": 10,
             "solidity": 0.2
            },
            "type": "scatter"
           }
          ],
          "scatter3d": [
           {
            "line": {
             "colorbar": {
              "outlinewidth": 0,
              "ticks": ""
             }
            },
            "marker": {
             "colorbar": {
              "outlinewidth": 0,
              "ticks": ""
             }
            },
            "type": "scatter3d"
           }
          ],
          "scattercarpet": [
           {
            "marker": {
             "colorbar": {
              "outlinewidth": 0,
              "ticks": ""
             }
            },
            "type": "scattercarpet"
           }
          ],
          "scattergeo": [
           {
            "marker": {
             "colorbar": {
              "outlinewidth": 0,
              "ticks": ""
             }
            },
            "type": "scattergeo"
           }
          ],
          "scattergl": [
           {
            "marker": {
             "colorbar": {
              "outlinewidth": 0,
              "ticks": ""
             }
            },
            "type": "scattergl"
           }
          ],
          "scattermapbox": [
           {
            "marker": {
             "colorbar": {
              "outlinewidth": 0,
              "ticks": ""
             }
            },
            "type": "scattermapbox"
           }
          ],
          "scatterpolar": [
           {
            "marker": {
             "colorbar": {
              "outlinewidth": 0,
              "ticks": ""
             }
            },
            "type": "scatterpolar"
           }
          ],
          "scatterpolargl": [
           {
            "marker": {
             "colorbar": {
              "outlinewidth": 0,
              "ticks": ""
             }
            },
            "type": "scatterpolargl"
           }
          ],
          "scatterternary": [
           {
            "marker": {
             "colorbar": {
              "outlinewidth": 0,
              "ticks": ""
             }
            },
            "type": "scatterternary"
           }
          ],
          "surface": [
           {
            "colorbar": {
             "outlinewidth": 0,
             "ticks": ""
            },
            "colorscale": [
             [
              0,
              "#0d0887"
             ],
             [
              0.1111111111111111,
              "#46039f"
             ],
             [
              0.2222222222222222,
              "#7201a8"
             ],
             [
              0.3333333333333333,
              "#9c179e"
             ],
             [
              0.4444444444444444,
              "#bd3786"
             ],
             [
              0.5555555555555556,
              "#d8576b"
             ],
             [
              0.6666666666666666,
              "#ed7953"
             ],
             [
              0.7777777777777778,
              "#fb9f3a"
             ],
             [
              0.8888888888888888,
              "#fdca26"
             ],
             [
              1,
              "#f0f921"
             ]
            ],
            "type": "surface"
           }
          ],
          "table": [
           {
            "cells": {
             "fill": {
              "color": "#EBF0F8"
             },
             "line": {
              "color": "white"
             }
            },
            "header": {
             "fill": {
              "color": "#C8D4E3"
             },
             "line": {
              "color": "white"
             }
            },
            "type": "table"
           }
          ]
         },
         "layout": {
          "annotationdefaults": {
           "arrowcolor": "#2a3f5f",
           "arrowhead": 0,
           "arrowwidth": 1
          },
          "autotypenumbers": "strict",
          "coloraxis": {
           "colorbar": {
            "outlinewidth": 0,
            "ticks": ""
           }
          },
          "colorscale": {
           "diverging": [
            [
             0,
             "#8e0152"
            ],
            [
             0.1,
             "#c51b7d"
            ],
            [
             0.2,
             "#de77ae"
            ],
            [
             0.3,
             "#f1b6da"
            ],
            [
             0.4,
             "#fde0ef"
            ],
            [
             0.5,
             "#f7f7f7"
            ],
            [
             0.6,
             "#e6f5d0"
            ],
            [
             0.7,
             "#b8e186"
            ],
            [
             0.8,
             "#7fbc41"
            ],
            [
             0.9,
             "#4d9221"
            ],
            [
             1,
             "#276419"
            ]
           ],
           "sequential": [
            [
             0,
             "#0d0887"
            ],
            [
             0.1111111111111111,
             "#46039f"
            ],
            [
             0.2222222222222222,
             "#7201a8"
            ],
            [
             0.3333333333333333,
             "#9c179e"
            ],
            [
             0.4444444444444444,
             "#bd3786"
            ],
            [
             0.5555555555555556,
             "#d8576b"
            ],
            [
             0.6666666666666666,
             "#ed7953"
            ],
            [
             0.7777777777777778,
             "#fb9f3a"
            ],
            [
             0.8888888888888888,
             "#fdca26"
            ],
            [
             1,
             "#f0f921"
            ]
           ],
           "sequentialminus": [
            [
             0,
             "#0d0887"
            ],
            [
             0.1111111111111111,
             "#46039f"
            ],
            [
             0.2222222222222222,
             "#7201a8"
            ],
            [
             0.3333333333333333,
             "#9c179e"
            ],
            [
             0.4444444444444444,
             "#bd3786"
            ],
            [
             0.5555555555555556,
             "#d8576b"
            ],
            [
             0.6666666666666666,
             "#ed7953"
            ],
            [
             0.7777777777777778,
             "#fb9f3a"
            ],
            [
             0.8888888888888888,
             "#fdca26"
            ],
            [
             1,
             "#f0f921"
            ]
           ]
          },
          "colorway": [
           "#636efa",
           "#EF553B",
           "#00cc96",
           "#ab63fa",
           "#FFA15A",
           "#19d3f3",
           "#FF6692",
           "#B6E880",
           "#FF97FF",
           "#FECB52"
          ],
          "font": {
           "color": "#2a3f5f"
          },
          "geo": {
           "bgcolor": "white",
           "lakecolor": "white",
           "landcolor": "#E5ECF6",
           "showlakes": true,
           "showland": true,
           "subunitcolor": "white"
          },
          "hoverlabel": {
           "align": "left"
          },
          "hovermode": "closest",
          "mapbox": {
           "style": "light"
          },
          "paper_bgcolor": "white",
          "plot_bgcolor": "#E5ECF6",
          "polar": {
           "angularaxis": {
            "gridcolor": "white",
            "linecolor": "white",
            "ticks": ""
           },
           "bgcolor": "#E5ECF6",
           "radialaxis": {
            "gridcolor": "white",
            "linecolor": "white",
            "ticks": ""
           }
          },
          "scene": {
           "xaxis": {
            "backgroundcolor": "#E5ECF6",
            "gridcolor": "white",
            "gridwidth": 2,
            "linecolor": "white",
            "showbackground": true,
            "ticks": "",
            "zerolinecolor": "white"
           },
           "yaxis": {
            "backgroundcolor": "#E5ECF6",
            "gridcolor": "white",
            "gridwidth": 2,
            "linecolor": "white",
            "showbackground": true,
            "ticks": "",
            "zerolinecolor": "white"
           },
           "zaxis": {
            "backgroundcolor": "#E5ECF6",
            "gridcolor": "white",
            "gridwidth": 2,
            "linecolor": "white",
            "showbackground": true,
            "ticks": "",
            "zerolinecolor": "white"
           }
          },
          "shapedefaults": {
           "line": {
            "color": "#2a3f5f"
           }
          },
          "ternary": {
           "aaxis": {
            "gridcolor": "white",
            "linecolor": "white",
            "ticks": ""
           },
           "baxis": {
            "gridcolor": "white",
            "linecolor": "white",
            "ticks": ""
           },
           "bgcolor": "#E5ECF6",
           "caxis": {
            "gridcolor": "white",
            "linecolor": "white",
            "ticks": ""
           }
          },
          "title": {
           "x": 0.05
          },
          "xaxis": {
           "automargin": true,
           "gridcolor": "white",
           "linecolor": "white",
           "ticks": "",
           "title": {
            "standoff": 15
           },
           "zerolinecolor": "white",
           "zerolinewidth": 2
          },
          "yaxis": {
           "automargin": true,
           "gridcolor": "white",
           "linecolor": "white",
           "ticks": "",
           "title": {
            "standoff": 15
           },
           "zerolinecolor": "white",
           "zerolinewidth": 2
          }
         }
        },
        "xaxis": {
         "anchor": "y",
         "domain": [
          0,
          1
         ],
         "title": {
          "text": "Distance (km)"
         }
        },
        "yaxis": {
         "anchor": "x",
         "domain": [
          0,
          1
         ],
         "title": {
          "text": "Delivery Duration (min)"
         }
        }
       }
      }
     },
     "metadata": {},
     "output_type": "display_data"
    }
   ],
   "source": [
    "px.scatter(df_pizza[['Restaurant Name', 'Distance (km)', 'Delivery Duration (min)']].value_counts().reset_index(),\n",
    "           x = 'Distance (km)', y = 'Delivery Duration (min)', \n",
    "           size = 'count', color = 'Restaurant Name')"
   ]
  },
  {
   "cell_type": "markdown",
   "metadata": {},
   "source": [
    "## Gráfico"
   ]
  },
  {
   "cell_type": "code",
   "execution_count": 144,
   "metadata": {},
   "outputs": [],
   "source": [
    "# fig = make_subplots(rows = 1, cols = 5, shared_yaxes=True)\n",
    "\n",
    "# def add_traces(fig, df_vol, delta_jan_fev, delta_fev_mar, visible):\n",
    "   \n",
    "#     # Gráficos de volume de cada mês ----------------------------------------------------------------\n",
    "#     for i in [1, 2, 3]:\n",
    "#         fig.add_trace(\n",
    "#             go.Bar(x = df_vol[df_vol['DAT_REF'] == f'2025-0{str(i)}']['qtd'],\n",
    "#                    y = df_vol[df_vol['DAT_REF'] == f'2025-0{str(i)}']['TIPO'],\n",
    "#                    text=df_vol[df_vol['DAT_REF'] == f'2025-0{str(i)}']['qtd_pct'],\n",
    "#                    customdata = df_vol[df_vol['DAT_REF'] == f'2025-0{str(i)}']['DAT_REF'],\n",
    "#                    hovertemplate = \"<b>%{customdata}</b> <br><b>Motivo:</b> %{y} <br><b>Quantidade:</b> %{text}<extra></extra>\",\n",
    "#                    textposition='outside',\n",
    "#                    textfont=dict(size=10),\n",
    "#                    orientation = 'h', showlegend=False, width=0.7, marker_color = 'gray', visible = visible),\n",
    "#             row = 1,\n",
    "#             col = i\n",
    "#         )\n",
    "   \n",
    "#     # Gráficos de delta ------------------------------------------------------------------------------\n",
    "#     for idx, df in enumerate([delta_jan_fev, delta_fev_mar]):\n",
    "#         fig.add_trace(\n",
    "#             go.Bar(x = df['pct'],\n",
    "#                    y = df['TIPO'],\n",
    "#                    text= [f\"{v:.1%}\" for v in df['pct']],\n",
    "#                    textposition='outside',\n",
    "#                    textfont=dict(size=10),\n",
    "#                    customdata = df['delta'],\n",
    "#                    hovertemplate = \"<b>Motivo:</b> %{y} <br><b>Δ Volume:</b> %{customdata} (%{text})<extra></extra>\",\n",
    "#                    orientation = 'h', showlegend=False, width=0.7,\n",
    "#                    marker_color = ['#ac3a4e' if val > 0 else 'darkgreen' for val in df['delta']],\n",
    "#                    visible = visible),\n",
    "#             row = 1,\n",
    "#             col = idx + 4\n",
    "#         )\n",
    "       \n",
    "# # Traces - Todas as Plataformas\n",
    "# add_traces(fig = fig,\n",
    "#            df_vol = comp_mes_2025,\n",
    "#            delta_jan_fev = delta_jan_fev,\n",
    "#            delta_fev_mar = delta_fev_mar,\n",
    "#            visible = True)\n",
    "\n",
    "# # Traces - Controle\n",
    "# add_traces(fig = fig,\n",
    "#            df_vol = comp_mes_2025_plataformas[comp_mes_2025_plataformas['PRODUTO_CONSOLIDADO_2'] == 'Controle'],\n",
    "#            delta_jan_fev = delta_jan_fev_c,\n",
    "#            delta_fev_mar = delta_fev_mar_c,\n",
    "#            visible = False)\n",
    "\n",
    "# # Traces - Pós-pago\n",
    "# add_traces(fig = fig,\n",
    "#            df_vol = comp_mes_2025_plataformas[comp_mes_2025_plataformas['PRODUTO_CONSOLIDADO_2'] == 'Pós-pago'],\n",
    "#            delta_jan_fev = delta_jan_fev_p,\n",
    "#            delta_fev_mar = delta_fev_mar_p,\n",
    "#            visible = False)\n",
    "\n",
    "# title = dict(\n",
    "#     text=\"<b>[Comparação mensal] Canais Críticos</b> | Todas as Causas N1\",\n",
    "#     y=0.95,\n",
    "#     yanchor='top'\n",
    "# )\n",
    "\n",
    "# # volumes totais\n",
    "# vol_jan_c = str(sep_milhar(comp_mes_2025_plataformas[(comp_mes_2025_plataformas['PRODUTO_CONSOLIDADO_2'] == 'Controle') & (comp_mes_2025_plataformas['DAT_REF'] == '2025-01')]['qtd'].sum()))\n",
    "# vol_fev_c = str(sep_milhar(comp_mes_2025_plataformas[(comp_mes_2025_plataformas['PRODUTO_CONSOLIDADO_2'] == 'Controle') & (comp_mes_2025_plataformas['DAT_REF'] == '2025-02')]['qtd'].sum()))\n",
    "# vol_mar_c = str(sep_milhar(comp_mes_2025_plataformas[(comp_mes_2025_plataformas['PRODUTO_CONSOLIDADO_2'] == 'Controle') & (comp_mes_2025_plataformas['DAT_REF'] == '2025-03')]['qtd'].sum()))\n",
    "\n",
    "# vol_jan_p = str(sep_milhar(comp_mes_2025_plataformas[(comp_mes_2025_plataformas['PRODUTO_CONSOLIDADO_2'] == 'Pós-pago') & (comp_mes_2025_plataformas['DAT_REF'] == '2025-01')]['qtd'].sum()))\n",
    "# vol_fev_p = str(sep_milhar(comp_mes_2025_plataformas[(comp_mes_2025_plataformas['PRODUTO_CONSOLIDADO_2'] == 'Pós-pago') & (comp_mes_2025_plataformas['DAT_REF'] == '2025-02')]['qtd'].sum()))\n",
    "# vol_mar_p = str(sep_milhar(comp_mes_2025_plataformas[(comp_mes_2025_plataformas['PRODUTO_CONSOLIDADO_2'] == 'Pós-pago') & (comp_mes_2025_plataformas['DAT_REF'] == '2025-03')]['qtd'].sum()))\n",
    "\n",
    "# lista_x = [0.02, 0.23, 0.5, 0.71, 0.92]\n",
    "# altura_y = 1.07\n",
    "\n",
    "# def get_annotations(option):\n",
    "#     if option == \"Controle + Pós-pago\":\n",
    "#         return [\n",
    "#             dict(text=f\"<b>Jan/2025</b><br>Volume total: {str(sep_milhar(comp_mes_2025[comp_mes_2025['DAT_REF'] == '2025-01']['qtd'].sum()))}\",\n",
    "#                  x=lista_x[0], y=altura_y, font = dict(size=12, color='black'), xref = 'paper', yref = 'paper', showarrow = False),\n",
    "#             dict(text=f\"<b>Fev/2025</b><br>Volume total: {str(sep_milhar(comp_mes_2025[comp_mes_2025['DAT_REF'] == '2025-02']['qtd'].sum()))}\",\n",
    "#                  x=lista_x[1], y=altura_y, font = dict(size=12, color='black'), xref = 'paper', yref = 'paper', showarrow = False),\n",
    "#             dict(text=f\"<b>Mar/2025</b><br>Volume total: {str(sep_milhar(comp_mes_2025[comp_mes_2025['DAT_REF'] == '2025-03']['qtd'].sum()))}\",\n",
    "#                  x=lista_x[2], y=altura_y, font = dict(size=12, color='black'), xref = 'paper', yref = 'paper', showarrow = False),\n",
    "#             dict(text=f\"<b>Δ Jan → Fev</b><br>Δ Volume: {str(sep_milhar(vol_delta_jan_fev))}\",\n",
    "#                  x=lista_x[3], y=altura_y, font = dict(size=12, color='black'), xref = 'paper', yref = 'paper', showarrow = False),\n",
    "#             dict(text=f\"<b>Δ Fev → Mar</b><br>Δ Volume: {str(sep_milhar(vol_delta_fev_mar))}\",\n",
    "#                  x=lista_x[4], y=altura_y, font = dict(size=12, color='black'), xref = 'paper', yref = 'paper', showarrow = False)\n",
    "#         ]\n",
    "#     elif option == \"Controle\":\n",
    "#         return [\n",
    "#             dict(text=f\"<b>Jan/2025</b><br>Volume total: {vol_jan_c}\",\n",
    "#                  x=lista_x[0], y=altura_y, font = dict(size=12, color='black'), xref = 'paper', yref = 'paper', showarrow = False),\n",
    "#             dict(text=f\"<b>Fev/2025</b><br>Volume total: {vol_fev_c}\",\n",
    "#                  x=lista_x[1], y=altura_y, font = dict(size=12, color='black'), xref = 'paper', yref = 'paper', showarrow = False),\n",
    "#             dict(text=f\"<b>Mar/2025</b><br>Volume total: {vol_mar_c}\",\n",
    "#                  x=lista_x[2], y=altura_y, font = dict(size=12, color='black'), xref = 'paper', yref = 'paper', showarrow = False),\n",
    "#             dict(text=f\"<b>Δ Jan → Fev</b><br>Δ Volume: {str(sep_milhar(vol_delta_jan_fev_c))}\",\n",
    "#                  x=lista_x[3], y=altura_y, font = dict(size=12, color='black'), xref = 'paper', yref = 'paper', showarrow = False),\n",
    "#             dict(text=f\"<b>Δ Fev → Mar</b><br>Δ Volume: {str(sep_milhar(vol_delta_fev_mar_c))}\",\n",
    "#                  x=lista_x[4], y=altura_y, font = dict(size=12, color='black'), xref = 'paper', yref = 'paper', showarrow = False)\n",
    "#         ]\n",
    "#     elif option == \"Pós-pago\":\n",
    "#         return [\n",
    "#             dict(text=f\"<b>Jan/2025</b><br>Volume total: {vol_jan_p}\",\n",
    "#                  x=lista_x[0], y=altura_y, font = dict(size=12, color='black'), xref = 'paper', yref = 'paper', showarrow = False),\n",
    "#             dict(text=f\"<b>Fev/2025</b><br>Volume total: {vol_fev_p}\",\n",
    "#                  x=lista_x[1], y=altura_y, font = dict(size=12, color='black'), xref = 'paper', yref = 'paper', showarrow = False),\n",
    "#             dict(text=f\"<b>Mar/2025</b><br>Volume total: {vol_mar_p}\",\n",
    "#                  x=lista_x[2], y=altura_y, font = dict(size=12, color='black'), xref = 'paper', yref = 'paper', showarrow = False),\n",
    "#             dict(text=f\"<b>Δ Jan → Fev</b><br>Δ Volume: {str(sep_milhar(vol_delta_jan_fev_p))}\",\n",
    "#                  x=lista_x[3], y=altura_y, font = dict(size=12, color='black'), xref = 'paper', yref = 'paper', showarrow = False),\n",
    "#             dict(text=f\"<b>Δ Fev → Mar</b><br>Δ Volume: {str(sep_milhar(vol_delta_fev_mar_p))}\",\n",
    "#                  x=lista_x[4], y=altura_y, font = dict(size=12, color='black'), xref = 'paper', yref = 'paper', showarrow = False)\n",
    "#         ]\n",
    "\n",
    "# buttons = [\n",
    "#     dict(label=\"Controle + Pós-pago\",\n",
    "#          method=\"update\",\n",
    "#          args=[{\"visible\": [True] * 5 + [False] * 5 + [False] * 5},\n",
    "#                {\"title\": title,\n",
    "#                 \"annotations\": get_annotations(\"Controle + Pós-pago\")}]),\n",
    "#     dict(label=\"Controle\",\n",
    "#          method=\"update\",\n",
    "#          args=[{\"visible\": [False] * 5 + [True] * 5 + [False] * 5},\n",
    "#                {\"title\": title,\n",
    "#                 \"annotations\": get_annotations(\"Controle\")}]),\n",
    "#     dict(label=\"Pós-pago\",\n",
    "#          method=\"update\",\n",
    "#          args=[{\"visible\": [False] * 5 + [False] * 5 + [True] * 5},\n",
    "#                {\"title\": title,\n",
    "#                 \"annotations\": get_annotations(\"Pós-pago\")}])\n",
    "# ]\n",
    "   \n",
    "# fig.update_layout(height=800, width=1500, plot_bgcolor='white', paper_bgcolor='white',\n",
    "#                   margin=dict(t=150, b=50, l=50, r=50),\n",
    "#                   updatemenus=[dict(active=0, buttons=buttons, x=-0.087, y=1.15, xanchor='left', yanchor='top',\n",
    "#                                     pad={\"r\": 10, \"t\": 10},\n",
    "#                                     font=dict(size=12),\n",
    "#                                     bgcolor='#e4e4e4',\n",
    "#                                     bordercolor='gray',\n",
    "#                                     borderwidth=1.5)],\n",
    "#                   annotations=get_annotations(\"Controle + Pós-pago\"),\n",
    "#                   title = title,\n",
    "#                   hoverlabel=dict(bgcolor='white'),\n",
    "#                   font=dict(size=12))\n",
    "\n",
    "# for i in [1, 2, 3]:\n",
    "#     fig.update_xaxes(row = 1, col = i, title_font = {\"size\": 12}, tickfont = dict(size = 10, color = 'lightgray'), range=[0, 4000], dtick=1000)\n",
    "#     fig.add_shape(row = 1, col = i, type=\"line\", x0=0, x1=0, y0=-1, y1=20, yref='paper',line=dict(color=\"Black\", width=1, dash=\"solid\"))\n",
    "   \n",
    "# for i in [4, 5]:\n",
    "#     fig.update_xaxes(row = 1, col = i, title_font = {\"size\": 12}, tickfont = dict(size = 10, color = 'lightgray'), range=[-5, 12], dtick=5, tickformat='.0%')\n",
    "#     fig.add_shape(row = 1, col = i, type=\"line\", x0=0, x1=0, y0=-1, y1=20, yref='paper',line=dict(color=\"Black\", width=1, dash=\"solid\"))\n",
    "\n",
    "# fig.update_yaxes(row = 1, col = 1, title_font = {\"size\": 12}, tickfont = dict(size = 11))\n",
    "\n",
    "# fig.show()"
   ]
  },
  {
   "cell_type": "markdown",
   "metadata": {},
   "source": [
    "## Código para exportar html\n",
    "> Apenas markdown e outputs"
   ]
  },
  {
   "cell_type": "code",
   "execution_count": null,
   "metadata": {},
   "outputs": [],
   "source": []
  }
 ],
 "metadata": {
  "kernelspec": {
   "display_name": "Python 3",
   "language": "python",
   "name": "python3"
  },
  "language_info": {
   "codemirror_mode": {
    "name": "ipython",
    "version": 3
   },
   "file_extension": ".py",
   "mimetype": "text/x-python",
   "name": "python",
   "nbconvert_exporter": "python",
   "pygments_lexer": "ipython3",
   "version": "3.11.3"
  }
 },
 "nbformat": 4,
 "nbformat_minor": 2
}
