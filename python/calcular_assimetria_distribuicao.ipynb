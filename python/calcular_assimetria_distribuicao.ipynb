{
 "cells": [
  {
   "cell_type": "code",
   "execution_count": null,
   "metadata": {},
   "outputs": [],
   "source": [
    "import numpy as np\n",
    "from scipy.stats import skew"
   ]
  },
  {
   "cell_type": "code",
   "execution_count": null,
   "metadata": {},
   "outputs": [],
   "source": [
    "# Suponha que esta seja a distribuição assimétrica dos dados\n",
    "dados = np.array([1, 2, 2, 3, 4, 5, 6, 6, 7, 8, 9, 10, 12, 15, 18, 20, 30, 50])\n",
    "\n",
    "# Calcula Q1 (25º percentil) e Q3 (75º percentil)\n",
    "Q1 = np.percentile(dados, 25)\n",
    "Q3 = np.percentile(dados, 75)\n",
    "\n",
    "# Calcula o IQR\n",
    "IQR = Q3 - Q1\n",
    "\n",
    "# Calcula o coeficiente de assimetria (skewness)\n",
    "skewness = skew(dados)\n",
    "\n",
    "# Ajusta os multiplicadores com base na skewness\n",
    "if skewness > 0:\n",
    "    k_inferior = 1.5\n",
    "    k_superior = 1.5 + skewness  # Aumenta o multiplicador superior\n",
    "elif skewness < 0:\n",
    "    k_inferior = 1.5 + abs(skewness)  # Aumenta o multiplicador inferior\n",
    "    k_superior = 1.5\n",
    "else:\n",
    "    k_inferior = 1.5\n",
    "    k_superior = 1.5\n",
    "\n",
    "# Calcula os limites para outliers\n",
    "limite_inferior = Q1 - k_inferior * IQR\n",
    "limite_superior = Q3 + k_superior * IQR\n",
    "\n",
    "# Identifica os outliers\n",
    "outliers = dados[(dados < limite_inferior) | (dados > limite_superior)]\n",
    "\n",
    "print(\"Q1:\", Q1)\n",
    "print(\"Q3:\", Q3)\n",
    "print(\"IQR:\", IQR)\n",
    "print(\"Skewness:\", skewness)\n",
    "print(\"Limite Inferior:\", limite_inferior)\n",
    "print(\"Limite Superior:\", limite_superior)\n",
    "print(\"Outliers:\", outliers)\n"
   ]
  }
 ],
 "metadata": {
  "language_info": {
   "name": "python"
  }
 },
 "nbformat": 4,
 "nbformat_minor": 2
}
