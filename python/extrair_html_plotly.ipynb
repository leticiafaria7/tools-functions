{
 "cells": [
  {
   "cell_type": "code",
   "execution_count": null,
   "metadata": {},
   "outputs": [],
   "source": [
    "import plotly"
   ]
  },
  {
   "cell_type": "code",
   "execution_count": null,
   "metadata": {},
   "outputs": [],
   "source": [
    "plotly.offline.init_notebook_mode()"
   ]
  },
  {
   "cell_type": "code",
   "execution_count": null,
   "metadata": {},
   "outputs": [],
   "source": [
    "%%javascript\n",
    "//hack to fix export\n",
    "require.config({\n",
    "      paths: {\n",
    "        d3: 'https://cdnjs.cloudflare.com/ajax/libs/d3/5.9.2/d3',\n",
    "    jquery: 'https://code.jquery.com/jquery-3.4.1.min',\n",
    "    plotly: 'https://cdn.plot.ly/plotly-latest.min'\n",
    "  },\n",
    "  shim: {\n",
    "        plotly: {\n",
    "          deps: ['d3', 'jquery'],\n",
    "      exports: 'plotly'\n",
    "    }\n",
    "  }\n",
    "});"
   ]
  }
 ],
 "metadata": {
  "language_info": {
   "name": "python"
  }
 },
 "nbformat": 4,
 "nbformat_minor": 2
}
